{
 "cells": [
  {
   "cell_type": "markdown",
   "metadata": {},
   "source": [
    "# Исследование надёжности заёмщиков\n",
    "\n",
    "Заказчик — кредитный отдел банка. Нужно разобраться, влияет ли семейное положение и количество детей клиента на факт погашения кредита в срок. Входные данные от банка — статистика о платёжеспособности клиентов.\n",
    "\n",
    "Результаты исследования будут учтены при построении модели **кредитного скоринга** — специальной системы, которая оценивает способность потенциального заёмщика вернуть кредит банку."
   ]
  },
  {
   "cell_type": "markdown",
   "metadata": {},
   "source": [
    "**Цели**\n",
    "\n",
    "Цель исследования - проверить следующие гипотезы:\n",
    "\n",
    "- семейное положение влияет на факт погашения кредита в срок;\n",
    "- количество детей клиента влияет на на факт погашения кредита в срок;\n",
    "- уровень дохода влияет на возврат кредита в срок;\n",
    "- цель кредита влияет на его возврат в срок."
   ]
  },
  {
   "cell_type": "markdown",
   "metadata": {},
   "source": [
    "**План исследования**\n",
    "\n",
    "- изучить таблицу;\n",
    "- определить и заполнить пропущенные значения;\n",
    "- удалить дубликаты;\n",
    "- выделить леммы в значениях столбца с целями получения кредита;\n",
    "- категоризировать данные;\n",
    "- обработка артефактов в данных;\n",
    "- проверить гипотезы;\n",
    "- выводы исследования."
   ]
  },
  {
   "cell_type": "markdown",
   "metadata": {},
   "source": [
    "## Открываем файл с данными и изучаем общую информацию"
   ]
  },
  {
   "cell_type": "code",
   "execution_count": 39,
   "metadata": {},
   "outputs": [
    {
     "data": {
      "text/html": [
       "<div>\n",
       "<style scoped>\n",
       "    .dataframe tbody tr th:only-of-type {\n",
       "        vertical-align: middle;\n",
       "    }\n",
       "\n",
       "    .dataframe tbody tr th {\n",
       "        vertical-align: top;\n",
       "    }\n",
       "\n",
       "    .dataframe thead th {\n",
       "        text-align: right;\n",
       "    }\n",
       "</style>\n",
       "<table border=\"1\" class=\"dataframe\">\n",
       "  <thead>\n",
       "    <tr style=\"text-align: right;\">\n",
       "      <th></th>\n",
       "      <th>children</th>\n",
       "      <th>days_employed</th>\n",
       "      <th>dob_years</th>\n",
       "      <th>education</th>\n",
       "      <th>education_id</th>\n",
       "      <th>family_status</th>\n",
       "      <th>family_status_id</th>\n",
       "      <th>gender</th>\n",
       "      <th>income_type</th>\n",
       "      <th>debt</th>\n",
       "      <th>total_income</th>\n",
       "      <th>purpose</th>\n",
       "    </tr>\n",
       "  </thead>\n",
       "  <tbody>\n",
       "    <tr>\n",
       "      <th>0</th>\n",
       "      <td>1</td>\n",
       "      <td>-8437.673028</td>\n",
       "      <td>42</td>\n",
       "      <td>высшее</td>\n",
       "      <td>0</td>\n",
       "      <td>женат / замужем</td>\n",
       "      <td>0</td>\n",
       "      <td>F</td>\n",
       "      <td>сотрудник</td>\n",
       "      <td>0</td>\n",
       "      <td>253875.639453</td>\n",
       "      <td>покупка жилья</td>\n",
       "    </tr>\n",
       "    <tr>\n",
       "      <th>1</th>\n",
       "      <td>1</td>\n",
       "      <td>-4024.803754</td>\n",
       "      <td>36</td>\n",
       "      <td>среднее</td>\n",
       "      <td>1</td>\n",
       "      <td>женат / замужем</td>\n",
       "      <td>0</td>\n",
       "      <td>F</td>\n",
       "      <td>сотрудник</td>\n",
       "      <td>0</td>\n",
       "      <td>112080.014102</td>\n",
       "      <td>приобретение автомобиля</td>\n",
       "    </tr>\n",
       "    <tr>\n",
       "      <th>2</th>\n",
       "      <td>0</td>\n",
       "      <td>-5623.422610</td>\n",
       "      <td>33</td>\n",
       "      <td>Среднее</td>\n",
       "      <td>1</td>\n",
       "      <td>женат / замужем</td>\n",
       "      <td>0</td>\n",
       "      <td>M</td>\n",
       "      <td>сотрудник</td>\n",
       "      <td>0</td>\n",
       "      <td>145885.952297</td>\n",
       "      <td>покупка жилья</td>\n",
       "    </tr>\n",
       "    <tr>\n",
       "      <th>3</th>\n",
       "      <td>3</td>\n",
       "      <td>-4124.747207</td>\n",
       "      <td>32</td>\n",
       "      <td>среднее</td>\n",
       "      <td>1</td>\n",
       "      <td>женат / замужем</td>\n",
       "      <td>0</td>\n",
       "      <td>M</td>\n",
       "      <td>сотрудник</td>\n",
       "      <td>0</td>\n",
       "      <td>267628.550329</td>\n",
       "      <td>дополнительное образование</td>\n",
       "    </tr>\n",
       "    <tr>\n",
       "      <th>4</th>\n",
       "      <td>0</td>\n",
       "      <td>340266.072047</td>\n",
       "      <td>53</td>\n",
       "      <td>среднее</td>\n",
       "      <td>1</td>\n",
       "      <td>гражданский брак</td>\n",
       "      <td>1</td>\n",
       "      <td>F</td>\n",
       "      <td>пенсионер</td>\n",
       "      <td>0</td>\n",
       "      <td>158616.077870</td>\n",
       "      <td>сыграть свадьбу</td>\n",
       "    </tr>\n",
       "  </tbody>\n",
       "</table>\n",
       "</div>"
      ],
      "text/plain": [
       "   children  days_employed  dob_years education  education_id  \\\n",
       "0         1   -8437.673028         42    высшее             0   \n",
       "1         1   -4024.803754         36   среднее             1   \n",
       "2         0   -5623.422610         33   Среднее             1   \n",
       "3         3   -4124.747207         32   среднее             1   \n",
       "4         0  340266.072047         53   среднее             1   \n",
       "\n",
       "      family_status  family_status_id gender income_type  debt   total_income  \\\n",
       "0   женат / замужем                 0      F   сотрудник     0  253875.639453   \n",
       "1   женат / замужем                 0      F   сотрудник     0  112080.014102   \n",
       "2   женат / замужем                 0      M   сотрудник     0  145885.952297   \n",
       "3   женат / замужем                 0      M   сотрудник     0  267628.550329   \n",
       "4  гражданский брак                 1      F   пенсионер     0  158616.077870   \n",
       "\n",
       "                      purpose  \n",
       "0               покупка жилья  \n",
       "1     приобретение автомобиля  \n",
       "2               покупка жилья  \n",
       "3  дополнительное образование  \n",
       "4             сыграть свадьбу  "
      ]
     },
     "metadata": {},
     "output_type": "display_data"
    },
    {
     "data": {
      "text/html": [
       "<div>\n",
       "<style scoped>\n",
       "    .dataframe tbody tr th:only-of-type {\n",
       "        vertical-align: middle;\n",
       "    }\n",
       "\n",
       "    .dataframe tbody tr th {\n",
       "        vertical-align: top;\n",
       "    }\n",
       "\n",
       "    .dataframe thead th {\n",
       "        text-align: right;\n",
       "    }\n",
       "</style>\n",
       "<table border=\"1\" class=\"dataframe\">\n",
       "  <thead>\n",
       "    <tr style=\"text-align: right;\">\n",
       "      <th></th>\n",
       "      <th>children</th>\n",
       "      <th>days_employed</th>\n",
       "      <th>dob_years</th>\n",
       "      <th>education</th>\n",
       "      <th>education_id</th>\n",
       "      <th>family_status</th>\n",
       "      <th>family_status_id</th>\n",
       "      <th>gender</th>\n",
       "      <th>income_type</th>\n",
       "      <th>debt</th>\n",
       "      <th>total_income</th>\n",
       "      <th>purpose</th>\n",
       "    </tr>\n",
       "  </thead>\n",
       "  <tbody>\n",
       "    <tr>\n",
       "      <th>21520</th>\n",
       "      <td>1</td>\n",
       "      <td>-4529.316663</td>\n",
       "      <td>43</td>\n",
       "      <td>среднее</td>\n",
       "      <td>1</td>\n",
       "      <td>гражданский брак</td>\n",
       "      <td>1</td>\n",
       "      <td>F</td>\n",
       "      <td>компаньон</td>\n",
       "      <td>0</td>\n",
       "      <td>224791.862382</td>\n",
       "      <td>операции с жильем</td>\n",
       "    </tr>\n",
       "    <tr>\n",
       "      <th>21521</th>\n",
       "      <td>0</td>\n",
       "      <td>343937.404131</td>\n",
       "      <td>67</td>\n",
       "      <td>среднее</td>\n",
       "      <td>1</td>\n",
       "      <td>женат / замужем</td>\n",
       "      <td>0</td>\n",
       "      <td>F</td>\n",
       "      <td>пенсионер</td>\n",
       "      <td>0</td>\n",
       "      <td>155999.806512</td>\n",
       "      <td>сделка с автомобилем</td>\n",
       "    </tr>\n",
       "    <tr>\n",
       "      <th>21522</th>\n",
       "      <td>1</td>\n",
       "      <td>-2113.346888</td>\n",
       "      <td>38</td>\n",
       "      <td>среднее</td>\n",
       "      <td>1</td>\n",
       "      <td>гражданский брак</td>\n",
       "      <td>1</td>\n",
       "      <td>M</td>\n",
       "      <td>сотрудник</td>\n",
       "      <td>1</td>\n",
       "      <td>89672.561153</td>\n",
       "      <td>недвижимость</td>\n",
       "    </tr>\n",
       "    <tr>\n",
       "      <th>21523</th>\n",
       "      <td>3</td>\n",
       "      <td>-3112.481705</td>\n",
       "      <td>38</td>\n",
       "      <td>среднее</td>\n",
       "      <td>1</td>\n",
       "      <td>женат / замужем</td>\n",
       "      <td>0</td>\n",
       "      <td>M</td>\n",
       "      <td>сотрудник</td>\n",
       "      <td>1</td>\n",
       "      <td>244093.050500</td>\n",
       "      <td>на покупку своего автомобиля</td>\n",
       "    </tr>\n",
       "    <tr>\n",
       "      <th>21524</th>\n",
       "      <td>2</td>\n",
       "      <td>-1984.507589</td>\n",
       "      <td>40</td>\n",
       "      <td>среднее</td>\n",
       "      <td>1</td>\n",
       "      <td>женат / замужем</td>\n",
       "      <td>0</td>\n",
       "      <td>F</td>\n",
       "      <td>сотрудник</td>\n",
       "      <td>0</td>\n",
       "      <td>82047.418899</td>\n",
       "      <td>на покупку автомобиля</td>\n",
       "    </tr>\n",
       "  </tbody>\n",
       "</table>\n",
       "</div>"
      ],
      "text/plain": [
       "       children  days_employed  dob_years education  education_id  \\\n",
       "21520         1   -4529.316663         43   среднее             1   \n",
       "21521         0  343937.404131         67   среднее             1   \n",
       "21522         1   -2113.346888         38   среднее             1   \n",
       "21523         3   -3112.481705         38   среднее             1   \n",
       "21524         2   -1984.507589         40   среднее             1   \n",
       "\n",
       "          family_status  family_status_id gender income_type  debt  \\\n",
       "21520  гражданский брак                 1      F   компаньон     0   \n",
       "21521   женат / замужем                 0      F   пенсионер     0   \n",
       "21522  гражданский брак                 1      M   сотрудник     1   \n",
       "21523   женат / замужем                 0      M   сотрудник     1   \n",
       "21524   женат / замужем                 0      F   сотрудник     0   \n",
       "\n",
       "        total_income                       purpose  \n",
       "21520  224791.862382             операции с жильем  \n",
       "21521  155999.806512          сделка с автомобилем  \n",
       "21522   89672.561153                  недвижимость  \n",
       "21523  244093.050500  на покупку своего автомобиля  \n",
       "21524   82047.418899         на покупку автомобиля  "
      ]
     },
     "metadata": {},
     "output_type": "display_data"
    }
   ],
   "source": [
    "#импортируем библиотеки и выведем на экран первые и последние позиции датасета, чтобы оценить его\n",
    "import pandas as pd\n",
    "import seaborn as sns\n",
    "from pymystem3 import Mystem\n",
    "from collections import Counter\n",
    "import numpy as np\n",
    "\n",
    "data = pd.read_csv('/datasets/data.csv')\n",
    "display(data.head())\n",
    "display(data.tail())"
   ]
  },
  {
   "cell_type": "markdown",
   "metadata": {},
   "source": [
    "Итак, в таблице 12 столбцов. Названия столбцов корректные.\n",
    "\n",
    "Согласно документации к данным:\n",
    "\n",
    "- children — количество детей в семье;\n",
    "- days_employed — общий трудовой стаж в днях;\n",
    "- dob_years — возраст клиента в годах;\n",
    "- education — уровень образования клиента;\n",
    "- education_id — идентификатор уровня образования;\n",
    "- family_status — семейное положение;\n",
    "- family_status_id — идентификатор семейного положения;\n",
    "- gender — пол клиента;\n",
    "- income_type — тип занятости;\n",
    "- debt — имел ли задолженность по возврату кредитов;\n",
    "- total_income — ежемесячный доход;\n",
    "- purpose — цель получения кредита."
   ]
  },
  {
   "cell_type": "code",
   "execution_count": 40,
   "metadata": {},
   "outputs": [
    {
     "name": "stdout",
     "output_type": "stream",
     "text": [
      "<class 'pandas.core.frame.DataFrame'>\n",
      "RangeIndex: 21525 entries, 0 to 21524\n",
      "Data columns (total 12 columns):\n",
      " #   Column            Non-Null Count  Dtype  \n",
      "---  ------            --------------  -----  \n",
      " 0   children          21525 non-null  int64  \n",
      " 1   days_employed     19351 non-null  float64\n",
      " 2   dob_years         21525 non-null  int64  \n",
      " 3   education         21525 non-null  object \n",
      " 4   education_id      21525 non-null  int64  \n",
      " 5   family_status     21525 non-null  object \n",
      " 6   family_status_id  21525 non-null  int64  \n",
      " 7   gender            21525 non-null  object \n",
      " 8   income_type       21525 non-null  object \n",
      " 9   debt              21525 non-null  int64  \n",
      " 10  total_income      19351 non-null  float64\n",
      " 11  purpose           21525 non-null  object \n",
      "dtypes: float64(2), int64(5), object(5)\n",
      "memory usage: 2.0+ MB\n"
     ]
    },
    {
     "data": {
      "text/html": [
       "<div>\n",
       "<style scoped>\n",
       "    .dataframe tbody tr th:only-of-type {\n",
       "        vertical-align: middle;\n",
       "    }\n",
       "\n",
       "    .dataframe tbody tr th {\n",
       "        vertical-align: top;\n",
       "    }\n",
       "\n",
       "    .dataframe thead th {\n",
       "        text-align: right;\n",
       "    }\n",
       "</style>\n",
       "<table border=\"1\" class=\"dataframe\">\n",
       "  <thead>\n",
       "    <tr style=\"text-align: right;\">\n",
       "      <th></th>\n",
       "      <th>children</th>\n",
       "      <th>days_employed</th>\n",
       "      <th>dob_years</th>\n",
       "      <th>education_id</th>\n",
       "      <th>family_status_id</th>\n",
       "      <th>debt</th>\n",
       "      <th>total_income</th>\n",
       "    </tr>\n",
       "  </thead>\n",
       "  <tbody>\n",
       "    <tr>\n",
       "      <th>count</th>\n",
       "      <td>21525.000000</td>\n",
       "      <td>19351.000000</td>\n",
       "      <td>21525.000000</td>\n",
       "      <td>21525.000000</td>\n",
       "      <td>21525.000000</td>\n",
       "      <td>21525.000000</td>\n",
       "      <td>1.935100e+04</td>\n",
       "    </tr>\n",
       "    <tr>\n",
       "      <th>mean</th>\n",
       "      <td>0.538908</td>\n",
       "      <td>63046.497661</td>\n",
       "      <td>43.293380</td>\n",
       "      <td>0.817236</td>\n",
       "      <td>0.972544</td>\n",
       "      <td>0.080883</td>\n",
       "      <td>1.674223e+05</td>\n",
       "    </tr>\n",
       "    <tr>\n",
       "      <th>std</th>\n",
       "      <td>1.381587</td>\n",
       "      <td>140827.311974</td>\n",
       "      <td>12.574584</td>\n",
       "      <td>0.548138</td>\n",
       "      <td>1.420324</td>\n",
       "      <td>0.272661</td>\n",
       "      <td>1.029716e+05</td>\n",
       "    </tr>\n",
       "    <tr>\n",
       "      <th>min</th>\n",
       "      <td>-1.000000</td>\n",
       "      <td>-18388.949901</td>\n",
       "      <td>0.000000</td>\n",
       "      <td>0.000000</td>\n",
       "      <td>0.000000</td>\n",
       "      <td>0.000000</td>\n",
       "      <td>2.066726e+04</td>\n",
       "    </tr>\n",
       "    <tr>\n",
       "      <th>25%</th>\n",
       "      <td>0.000000</td>\n",
       "      <td>-2747.423625</td>\n",
       "      <td>33.000000</td>\n",
       "      <td>1.000000</td>\n",
       "      <td>0.000000</td>\n",
       "      <td>0.000000</td>\n",
       "      <td>1.030532e+05</td>\n",
       "    </tr>\n",
       "    <tr>\n",
       "      <th>50%</th>\n",
       "      <td>0.000000</td>\n",
       "      <td>-1203.369529</td>\n",
       "      <td>42.000000</td>\n",
       "      <td>1.000000</td>\n",
       "      <td>0.000000</td>\n",
       "      <td>0.000000</td>\n",
       "      <td>1.450179e+05</td>\n",
       "    </tr>\n",
       "    <tr>\n",
       "      <th>75%</th>\n",
       "      <td>1.000000</td>\n",
       "      <td>-291.095954</td>\n",
       "      <td>53.000000</td>\n",
       "      <td>1.000000</td>\n",
       "      <td>1.000000</td>\n",
       "      <td>0.000000</td>\n",
       "      <td>2.034351e+05</td>\n",
       "    </tr>\n",
       "    <tr>\n",
       "      <th>max</th>\n",
       "      <td>20.000000</td>\n",
       "      <td>401755.400475</td>\n",
       "      <td>75.000000</td>\n",
       "      <td>4.000000</td>\n",
       "      <td>4.000000</td>\n",
       "      <td>1.000000</td>\n",
       "      <td>2.265604e+06</td>\n",
       "    </tr>\n",
       "  </tbody>\n",
       "</table>\n",
       "</div>"
      ],
      "text/plain": [
       "           children  days_employed     dob_years  education_id  \\\n",
       "count  21525.000000   19351.000000  21525.000000  21525.000000   \n",
       "mean       0.538908   63046.497661     43.293380      0.817236   \n",
       "std        1.381587  140827.311974     12.574584      0.548138   \n",
       "min       -1.000000  -18388.949901      0.000000      0.000000   \n",
       "25%        0.000000   -2747.423625     33.000000      1.000000   \n",
       "50%        0.000000   -1203.369529     42.000000      1.000000   \n",
       "75%        1.000000    -291.095954     53.000000      1.000000   \n",
       "max       20.000000  401755.400475     75.000000      4.000000   \n",
       "\n",
       "       family_status_id          debt  total_income  \n",
       "count      21525.000000  21525.000000  1.935100e+04  \n",
       "mean           0.972544      0.080883  1.674223e+05  \n",
       "std            1.420324      0.272661  1.029716e+05  \n",
       "min            0.000000      0.000000  2.066726e+04  \n",
       "25%            0.000000      0.000000  1.030532e+05  \n",
       "50%            0.000000      0.000000  1.450179e+05  \n",
       "75%            1.000000      0.000000  2.034351e+05  \n",
       "max            4.000000      1.000000  2.265604e+06  "
      ]
     },
     "execution_count": 40,
     "metadata": {},
     "output_type": "execute_result"
    }
   ],
   "source": [
    "#посмотрим описательную информацию о датасете\n",
    "data.info()\n",
    "data.describe()"
   ]
  },
  {
   "cell_type": "markdown",
   "metadata": {},
   "source": [
    "**Вывод**\n",
    "\n",
    "В каждой строке таблицы мы видим данные о клиенте банка. Два столбца (days_employed и total_income) имеют пропуски. Далее следует отметить, что существуют отрицательные значения в стоблцах children и days_employed, а также нулевые значения в столбце dob_years.\n",
    "Предварительно можно сказать, что данных достаточно для проверки гипотезы.\n",
    "\n",
    "**Решим следующие пробелмы**\n",
    "\n",
    "- обработаем пропуски;\n",
    "- избавимся от дублирующих столбцов;\n",
    "- исправим некорректные значения.\n"
   ]
  },
  {
   "cell_type": "markdown",
   "metadata": {},
   "source": [
    "## Предобработка данных"
   ]
  },
  {
   "cell_type": "markdown",
   "metadata": {},
   "source": [
    "### Обработка пропусков"
   ]
  },
  {
   "cell_type": "code",
   "execution_count": 41,
   "metadata": {},
   "outputs": [
    {
     "data": {
      "text/plain": [
       "children               0\n",
       "days_employed       2174\n",
       "dob_years              0\n",
       "education              0\n",
       "education_id           0\n",
       "family_status          0\n",
       "family_status_id       0\n",
       "gender                 0\n",
       "income_type            0\n",
       "debt                   0\n",
       "total_income        2174\n",
       "purpose                0\n",
       "dtype: int64"
      ]
     },
     "execution_count": 41,
     "metadata": {},
     "output_type": "execute_result"
    }
   ],
   "source": [
    "#проверим наличие пропусков в датасете\n",
    "data.isna().sum()"
   ]
  },
  {
   "cell_type": "markdown",
   "metadata": {},
   "source": [
    "Мы видим, что в столбцах общий трудовой стаж и ежемесячный доход одинаковое количество пропусков. Это может иметь место в связи с конфиденциальностью информации (касается категории госслужащих), ее отсутствием, в связи с тем, что клиент работает неофициально или является безработным."
   ]
  },
  {
   "cell_type": "code",
   "execution_count": 42,
   "metadata": {},
   "outputs": [
    {
     "data": {
      "text/plain": [
       "children            0\n",
       "days_employed       0\n",
       "dob_years           0\n",
       "education           0\n",
       "education_id        0\n",
       "family_status       0\n",
       "family_status_id    0\n",
       "gender              0\n",
       "income_type         0\n",
       "debt                0\n",
       "total_income        0\n",
       "purpose             0\n",
       "dtype: int64"
      ]
     },
     "execution_count": 42,
     "metadata": {},
     "output_type": "execute_result"
    }
   ],
   "source": [
    "#предварительно заполним пробелы средними значениями по столбцам\n",
    "days_employed_avg = data['days_employed'].mean()\n",
    "data['days_employed'] = data['days_employed'].fillna(days_employed_avg)\n",
    "total_income_avg = data['total_income'].mean()\n",
    "data['total_income'] = data['total_income'].fillna(total_income_avg)\n",
    "\n",
    "#проверим корретность заполнения пробелов\n",
    "data.isna().sum()"
   ]
  },
  {
   "cell_type": "markdown",
   "metadata": {},
   "source": [
    "**Вывод**"
   ]
  },
  {
   "cell_type": "markdown",
   "metadata": {},
   "source": [
    "Мы заполнили пропуски в данных, чтобы результат нашего ислледования был как можно точнее."
   ]
  },
  {
   "cell_type": "markdown",
   "metadata": {},
   "source": [
    "### Замена типа данных"
   ]
  },
  {
   "cell_type": "code",
   "execution_count": 43,
   "metadata": {},
   "outputs": [
    {
     "name": "stdout",
     "output_type": "stream",
     "text": [
      "<class 'pandas.core.frame.DataFrame'>\n",
      "RangeIndex: 21525 entries, 0 to 21524\n",
      "Data columns (total 12 columns):\n",
      " #   Column            Non-Null Count  Dtype \n",
      "---  ------            --------------  ----- \n",
      " 0   children          21525 non-null  int64 \n",
      " 1   days_employed     21525 non-null  int64 \n",
      " 2   dob_years         21525 non-null  int64 \n",
      " 3   education         21525 non-null  object\n",
      " 4   education_id      21525 non-null  int64 \n",
      " 5   family_status     21525 non-null  object\n",
      " 6   family_status_id  21525 non-null  int64 \n",
      " 7   gender            21525 non-null  object\n",
      " 8   income_type       21525 non-null  object\n",
      " 9   debt              21525 non-null  int64 \n",
      " 10  total_income      21525 non-null  int64 \n",
      " 11  purpose           21525 non-null  object\n",
      "dtypes: int64(7), object(5)\n",
      "memory usage: 2.0+ MB\n"
     ]
    }
   ],
   "source": [
    "#заменим вещественный тип данных в столбце days_employed и total_income на целочисленный\n",
    "data['days_employed'] = data['days_employed'].astype('int')\n",
    "data['total_income'] = data['total_income'].astype('int')\n",
    "\n",
    "#проверим результат\n",
    "data.info()"
   ]
  },
  {
   "cell_type": "markdown",
   "metadata": {},
   "source": [
    "**Вывод**"
   ]
  },
  {
   "cell_type": "markdown",
   "metadata": {},
   "source": [
    "Для удобства воприятия и упрощения дальнейших операций мы заменили тип данных с вещественного на целочисленный, используя метод .astype."
   ]
  },
  {
   "cell_type": "markdown",
   "metadata": {},
   "source": [
    "### Обработка дубликатов"
   ]
  },
  {
   "cell_type": "code",
   "execution_count": 44,
   "metadata": {},
   "outputs": [
    {
     "data": {
      "text/plain": [
       "71"
      ]
     },
     "execution_count": 44,
     "metadata": {},
     "output_type": "execute_result"
    }
   ],
   "source": [
    "#приведем строки к нижнему регистру, а затем посчитаем общее количество дубликатов\n",
    "#воспользуемся методом .duplicated(), потому что мы ищем дубликаты во всем датасете\n",
    "columns = ['education', 'family_status', 'gender', 'income_type', 'purpose']\n",
    "for row in (columns):\n",
    "    data[row] = data[row].str.lower()\n",
    "#посчитаем количество дубликатов\n",
    "data.duplicated().sum()"
   ]
  },
  {
   "cell_type": "markdown",
   "metadata": {},
   "source": [
    "Мы обнаружили 71 дубликат. Они могли возникнуть из-за человеческого фактора при ручном введении параметров в базу данных."
   ]
  },
  {
   "cell_type": "code",
   "execution_count": 45,
   "metadata": {},
   "outputs": [
    {
     "data": {
      "text/plain": [
       "0"
      ]
     },
     "execution_count": 45,
     "metadata": {},
     "output_type": "execute_result"
    }
   ],
   "source": [
    "#удалим все дубликаты с изменением индексации\n",
    "data = data.drop_duplicates().reset_index(drop=True)\n",
    "#перепроверим количество дубликатов\n",
    "data.duplicated().sum()"
   ]
  },
  {
   "cell_type": "markdown",
   "metadata": {},
   "source": [
    "Далее проверим на корректность данных каждый столбец отдельно."
   ]
  },
  {
   "cell_type": "code",
   "execution_count": 46,
   "metadata": {},
   "outputs": [
    {
     "data": {
      "text/plain": [
       " 0     14091\n",
       " 1      4808\n",
       " 2      2052\n",
       " 3       330\n",
       " 20       76\n",
       "-1        47\n",
       " 4        41\n",
       " 5         9\n",
       "Name: children, dtype: int64"
      ]
     },
     "execution_count": 46,
     "metadata": {},
     "output_type": "execute_result"
    }
   ],
   "source": [
    "#воспользуемся методом .value_counts() для проверки значений\n",
    "data['children'].value_counts()"
   ]
  },
  {
   "cell_type": "markdown",
   "metadata": {},
   "source": [
    "Мы видим, что скорее всего имеет место несколько человеческих ошибок при ручном введении данных. Отрицательного количества детей быть не может, а в наше время наличие двадцати детей крайне маловероятно. Поэтому будем считать, что ноль там приписан случайно."
   ]
  },
  {
   "cell_type": "code",
   "execution_count": 47,
   "metadata": {},
   "outputs": [
    {
     "data": {
      "text/plain": [
       "0    14091\n",
       "1     4855\n",
       "2     2128\n",
       "3      330\n",
       "4       41\n",
       "5        9\n",
       "Name: children, dtype: int64"
      ]
     },
     "execution_count": 47,
     "metadata": {},
     "output_type": "execute_result"
    }
   ],
   "source": [
    "#удалим второй ноль в двадцати и 'минус' у единицы \n",
    "data['children'] = data['children'].abs()\n",
    "data['children'] = data['children'].replace(20, 2)\n",
    "#проверим результат\n",
    "data['children'].value_counts()"
   ]
  },
  {
   "cell_type": "code",
   "execution_count": 48,
   "metadata": {},
   "outputs": [
    {
     "data": {
      "text/plain": [
       "[-51,\n",
       " -49,\n",
       " -46,\n",
       " -45,\n",
       " -44,\n",
       " -43,\n",
       " -42,\n",
       " -41,\n",
       " -40,\n",
       " -39,\n",
       " -38,\n",
       " -37,\n",
       " -36,\n",
       " -35,\n",
       " -34,\n",
       " -33,\n",
       " -32,\n",
       " -31,\n",
       " -30,\n",
       " -29,\n",
       " -28,\n",
       " -27,\n",
       " -26,\n",
       " -25,\n",
       " -24,\n",
       " -23,\n",
       " -22,\n",
       " -21,\n",
       " -20,\n",
       " -19,\n",
       " -18,\n",
       " -17,\n",
       " -16,\n",
       " -15,\n",
       " -14,\n",
       " -13,\n",
       " -12,\n",
       " -11,\n",
       " -10,\n",
       " -9,\n",
       " -8,\n",
       " -7,\n",
       " -6,\n",
       " -5,\n",
       " -4,\n",
       " -3,\n",
       " -2,\n",
       " -1,\n",
       " 172,\n",
       " 900,\n",
       " 901,\n",
       " 902,\n",
       " 903,\n",
       " 904,\n",
       " 905,\n",
       " 906,\n",
       " 907,\n",
       " 908,\n",
       " 909,\n",
       " 910,\n",
       " 911,\n",
       " 912,\n",
       " 913,\n",
       " 914,\n",
       " 915,\n",
       " 916,\n",
       " 917,\n",
       " 918,\n",
       " 919,\n",
       " 920,\n",
       " 921,\n",
       " 922,\n",
       " 923,\n",
       " 924,\n",
       " 925,\n",
       " 926,\n",
       " 927,\n",
       " 928,\n",
       " 929,\n",
       " 930,\n",
       " 931,\n",
       " 932,\n",
       " 933,\n",
       " 934,\n",
       " 935,\n",
       " 936,\n",
       " 937,\n",
       " 938,\n",
       " 939,\n",
       " 940,\n",
       " 941,\n",
       " 942,\n",
       " 943,\n",
       " 944,\n",
       " 945,\n",
       " 946,\n",
       " 947,\n",
       " 948,\n",
       " 949,\n",
       " 950,\n",
       " 951,\n",
       " 952,\n",
       " 953,\n",
       " 954,\n",
       " 955,\n",
       " 956,\n",
       " 957,\n",
       " 958,\n",
       " 959,\n",
       " 960,\n",
       " 961,\n",
       " 962,\n",
       " 963,\n",
       " 964,\n",
       " 965,\n",
       " 966,\n",
       " 967,\n",
       " 968,\n",
       " 969,\n",
       " 970,\n",
       " 971,\n",
       " 972,\n",
       " 973,\n",
       " 974,\n",
       " 975,\n",
       " 976,\n",
       " 977,\n",
       " 978,\n",
       " 979,\n",
       " 980,\n",
       " 981,\n",
       " 982,\n",
       " 983,\n",
       " 984,\n",
       " 985,\n",
       " 986,\n",
       " 987,\n",
       " 988,\n",
       " 989,\n",
       " 990,\n",
       " 991,\n",
       " 992,\n",
       " 993,\n",
       " 994,\n",
       " 995,\n",
       " 996,\n",
       " 997,\n",
       " 998,\n",
       " 999,\n",
       " 1000,\n",
       " 1001,\n",
       " 1002,\n",
       " 1003,\n",
       " 1004,\n",
       " 1005,\n",
       " 1006,\n",
       " 1007,\n",
       " 1008,\n",
       " 1009,\n",
       " 1010,\n",
       " 1011,\n",
       " 1012,\n",
       " 1013,\n",
       " 1014,\n",
       " 1015,\n",
       " 1016,\n",
       " 1017,\n",
       " 1018,\n",
       " 1019,\n",
       " 1020,\n",
       " 1021,\n",
       " 1022,\n",
       " 1023,\n",
       " 1024,\n",
       " 1025,\n",
       " 1026,\n",
       " 1027,\n",
       " 1028,\n",
       " 1029,\n",
       " 1030,\n",
       " 1031,\n",
       " 1032,\n",
       " 1033,\n",
       " 1034,\n",
       " 1035,\n",
       " 1036,\n",
       " 1037,\n",
       " 1038,\n",
       " 1039,\n",
       " 1040,\n",
       " 1041,\n",
       " 1042,\n",
       " 1043,\n",
       " 1044,\n",
       " 1045,\n",
       " 1046,\n",
       " 1047,\n",
       " 1048,\n",
       " 1049,\n",
       " 1050,\n",
       " 1051,\n",
       " 1052,\n",
       " 1053,\n",
       " 1054,\n",
       " 1055,\n",
       " 1056,\n",
       " 1057,\n",
       " 1058,\n",
       " 1059,\n",
       " 1060,\n",
       " 1061,\n",
       " 1062,\n",
       " 1063,\n",
       " 1064,\n",
       " 1065,\n",
       " 1066,\n",
       " 1067,\n",
       " 1068,\n",
       " 1069,\n",
       " 1070,\n",
       " 1071,\n",
       " 1072,\n",
       " 1073,\n",
       " 1074,\n",
       " 1075,\n",
       " 1076,\n",
       " 1077,\n",
       " 1078,\n",
       " 1079,\n",
       " 1080,\n",
       " 1081,\n",
       " 1082,\n",
       " 1083,\n",
       " 1084,\n",
       " 1085,\n",
       " 1086,\n",
       " 1087,\n",
       " 1088,\n",
       " 1089,\n",
       " 1090,\n",
       " 1091,\n",
       " 1092,\n",
       " 1093,\n",
       " 1094,\n",
       " 1095,\n",
       " 1096,\n",
       " 1097,\n",
       " 1098,\n",
       " 1099,\n",
       " 1100]"
      ]
     },
     "execution_count": 48,
     "metadata": {},
     "output_type": "execute_result"
    }
   ],
   "source": [
    "#переведем общий трудовой стаж в года для удобства и посмотрим на данные\n",
    "data['years_employed'] = data['days_employed'] // 365\n",
    "data['years_employed'] = data['years_employed'].astype('int')\n",
    "sorted(data['years_employed'].unique())"
   ]
  },
  {
   "cell_type": "markdown",
   "metadata": {},
   "source": [
    "Здесь мы видим слишком большие значения и отрицательные, которые не могут соответствоать реальности. Однако данные об общем трудовом стаже нам не понадобятся, поэтому оставим их в таком виде."
   ]
  },
  {
   "cell_type": "code",
   "execution_count": 49,
   "metadata": {
    "scrolled": true
   },
   "outputs": [
    {
     "data": {
      "text/plain": [
       "[0,\n",
       " 19,\n",
       " 20,\n",
       " 21,\n",
       " 22,\n",
       " 23,\n",
       " 24,\n",
       " 25,\n",
       " 26,\n",
       " 27,\n",
       " 28,\n",
       " 29,\n",
       " 30,\n",
       " 31,\n",
       " 32,\n",
       " 33,\n",
       " 34,\n",
       " 35,\n",
       " 36,\n",
       " 37,\n",
       " 38,\n",
       " 39,\n",
       " 40,\n",
       " 41,\n",
       " 42,\n",
       " 43,\n",
       " 44,\n",
       " 45,\n",
       " 46,\n",
       " 47,\n",
       " 48,\n",
       " 49,\n",
       " 50,\n",
       " 51,\n",
       " 52,\n",
       " 53,\n",
       " 54,\n",
       " 55,\n",
       " 56,\n",
       " 57,\n",
       " 58,\n",
       " 59,\n",
       " 60,\n",
       " 61,\n",
       " 62,\n",
       " 63,\n",
       " 64,\n",
       " 65,\n",
       " 66,\n",
       " 67,\n",
       " 68,\n",
       " 69,\n",
       " 70,\n",
       " 71,\n",
       " 72,\n",
       " 73,\n",
       " 74,\n",
       " 75]"
      ]
     },
     "execution_count": 49,
     "metadata": {},
     "output_type": "execute_result"
    }
   ],
   "source": [
    "#проверим столбец с возрастом клиентов в годах\n",
    "sorted(data['dob_years'].unique())"
   ]
  },
  {
   "cell_type": "markdown",
   "metadata": {},
   "source": [
    "Мы видим, что есть нулевые значения. Такая ситуация могла возникнуть либо в связи с технической ошибкой при вводе, либо из-за того, что это поле не обязательно для заполнения. Его данные не понадобятся нам для проверки гипотез, поэтому оставим его без изменений."
   ]
  },
  {
   "cell_type": "code",
   "execution_count": 50,
   "metadata": {},
   "outputs": [
    {
     "data": {
      "text/plain": [
       "среднее                15172\n",
       "высшее                  5250\n",
       "неоконченное высшее      744\n",
       "начальное                282\n",
       "ученая степень             6\n",
       "Name: education, dtype: int64"
      ]
     },
     "execution_count": 50,
     "metadata": {},
     "output_type": "execute_result"
    }
   ],
   "source": [
    "data['education'].value_counts()"
   ]
  },
  {
   "cell_type": "markdown",
   "metadata": {},
   "source": [
    "В данном столбце все данные реальны."
   ]
  },
  {
   "cell_type": "code",
   "execution_count": 51,
   "metadata": {},
   "outputs": [
    {
     "data": {
      "text/plain": [
       "1    15172\n",
       "0     5250\n",
       "2      744\n",
       "3      282\n",
       "4        6\n",
       "Name: education_id, dtype: int64"
      ]
     },
     "execution_count": 51,
     "metadata": {},
     "output_type": "execute_result"
    }
   ],
   "source": [
    "data['education_id'].value_counts()"
   ]
  },
  {
   "cell_type": "markdown",
   "metadata": {},
   "source": [
    "Мы видим, что данные в столбцах education и education_id полностью дублируют друг друга, в связи с чем увеличивается размер файла и время обработки данных. В следующем разделе создадим словарь и оптимизируем данные."
   ]
  },
  {
   "cell_type": "code",
   "execution_count": 52,
   "metadata": {},
   "outputs": [
    {
     "data": {
      "text/plain": [
       "женат / замужем          12339\n",
       "гражданский брак          4151\n",
       "не женат / не замужем     2810\n",
       "в разводе                 1195\n",
       "вдовец / вдова             959\n",
       "Name: family_status, dtype: int64"
      ]
     },
     "execution_count": 52,
     "metadata": {},
     "output_type": "execute_result"
    }
   ],
   "source": [
    "data['family_status'].value_counts()"
   ]
  },
  {
   "cell_type": "code",
   "execution_count": 53,
   "metadata": {},
   "outputs": [
    {
     "data": {
      "text/plain": [
       "0    12339\n",
       "1     4151\n",
       "4     2810\n",
       "3     1195\n",
       "2      959\n",
       "Name: family_status_id, dtype: int64"
      ]
     },
     "execution_count": 53,
     "metadata": {},
     "output_type": "execute_result"
    }
   ],
   "source": [
    "data['family_status_id'].value_counts()"
   ]
  },
  {
   "cell_type": "markdown",
   "metadata": {},
   "source": [
    "Ситуация со столбцами family_status и family_status_id аналогична."
   ]
  },
  {
   "cell_type": "code",
   "execution_count": 54,
   "metadata": {},
   "outputs": [
    {
     "data": {
      "text/plain": [
       "f      14174\n",
       "m       7279\n",
       "xna        1\n",
       "Name: gender, dtype: int64"
      ]
     },
     "execution_count": 54,
     "metadata": {},
     "output_type": "execute_result"
    }
   ],
   "source": [
    "data['gender'].value_counts()"
   ]
  },
  {
   "cell_type": "markdown",
   "metadata": {},
   "source": [
    "Неуказанный пол может быть связан как с человеческой ошибкой, так и с личными взглядами заемщика. Этот показатель не повлияет на анализ данных."
   ]
  },
  {
   "cell_type": "code",
   "execution_count": 55,
   "metadata": {},
   "outputs": [
    {
     "data": {
      "text/plain": [
       "сотрудник          11084\n",
       "компаньон           5078\n",
       "пенсионер           3829\n",
       "госслужащий         1457\n",
       "безработный            2\n",
       "предприниматель        2\n",
       "студент                1\n",
       "в декрете              1\n",
       "Name: income_type, dtype: int64"
      ]
     },
     "execution_count": 55,
     "metadata": {},
     "output_type": "execute_result"
    }
   ],
   "source": [
    "data['income_type'].value_counts()"
   ]
  },
  {
   "cell_type": "markdown",
   "metadata": {},
   "source": [
    "Все данные корректны."
   ]
  },
  {
   "cell_type": "code",
   "execution_count": 56,
   "metadata": {},
   "outputs": [
    {
     "data": {
      "text/plain": [
       "0    19713\n",
       "1     1741\n",
       "Name: debt, dtype: int64"
      ]
     },
     "execution_count": 56,
     "metadata": {},
     "output_type": "execute_result"
    }
   ],
   "source": [
    "data['debt'].value_counts()"
   ]
  },
  {
   "cell_type": "markdown",
   "metadata": {},
   "source": [
    "Все данные корректны."
   ]
  },
  {
   "cell_type": "code",
   "execution_count": 57,
   "metadata": {},
   "outputs": [
    {
     "data": {
      "text/html": [
       "<div>\n",
       "<style scoped>\n",
       "    .dataframe tbody tr th:only-of-type {\n",
       "        vertical-align: middle;\n",
       "    }\n",
       "\n",
       "    .dataframe tbody tr th {\n",
       "        vertical-align: top;\n",
       "    }\n",
       "\n",
       "    .dataframe thead th {\n",
       "        text-align: right;\n",
       "    }\n",
       "</style>\n",
       "<table border=\"1\" class=\"dataframe\">\n",
       "  <thead>\n",
       "    <tr style=\"text-align: right;\">\n",
       "      <th></th>\n",
       "      <th>children</th>\n",
       "      <th>days_employed</th>\n",
       "      <th>dob_years</th>\n",
       "      <th>education_id</th>\n",
       "      <th>family_status_id</th>\n",
       "      <th>debt</th>\n",
       "      <th>years_employed</th>\n",
       "    </tr>\n",
       "    <tr>\n",
       "      <th>total_income</th>\n",
       "      <th></th>\n",
       "      <th></th>\n",
       "      <th></th>\n",
       "      <th></th>\n",
       "      <th></th>\n",
       "      <th></th>\n",
       "      <th></th>\n",
       "    </tr>\n",
       "  </thead>\n",
       "  <tbody>\n",
       "    <tr>\n",
       "      <th>20667</th>\n",
       "      <td>0</td>\n",
       "      <td>359219</td>\n",
       "      <td>57</td>\n",
       "      <td>1</td>\n",
       "      <td>0</td>\n",
       "      <td>1</td>\n",
       "      <td>984</td>\n",
       "    </tr>\n",
       "    <tr>\n",
       "      <th>21205</th>\n",
       "      <td>0</td>\n",
       "      <td>369708</td>\n",
       "      <td>37</td>\n",
       "      <td>1</td>\n",
       "      <td>1</td>\n",
       "      <td>0</td>\n",
       "      <td>1012</td>\n",
       "    </tr>\n",
       "    <tr>\n",
       "      <th>21367</th>\n",
       "      <td>1</td>\n",
       "      <td>-3642</td>\n",
       "      <td>52</td>\n",
       "      <td>1</td>\n",
       "      <td>0</td>\n",
       "      <td>0</td>\n",
       "      <td>-10</td>\n",
       "    </tr>\n",
       "    <tr>\n",
       "      <th>21695</th>\n",
       "      <td>0</td>\n",
       "      <td>359726</td>\n",
       "      <td>68</td>\n",
       "      <td>1</td>\n",
       "      <td>1</td>\n",
       "      <td>0</td>\n",
       "      <td>985</td>\n",
       "    </tr>\n",
       "    <tr>\n",
       "      <th>21895</th>\n",
       "      <td>0</td>\n",
       "      <td>346602</td>\n",
       "      <td>61</td>\n",
       "      <td>1</td>\n",
       "      <td>0</td>\n",
       "      <td>0</td>\n",
       "      <td>949</td>\n",
       "    </tr>\n",
       "    <tr>\n",
       "      <th>...</th>\n",
       "      <td>...</td>\n",
       "      <td>...</td>\n",
       "      <td>...</td>\n",
       "      <td>...</td>\n",
       "      <td>...</td>\n",
       "      <td>...</td>\n",
       "      <td>...</td>\n",
       "    </tr>\n",
       "    <tr>\n",
       "      <th>1711309</th>\n",
       "      <td>0</td>\n",
       "      <td>-5734</td>\n",
       "      <td>42</td>\n",
       "      <td>0</td>\n",
       "      <td>1</td>\n",
       "      <td>0</td>\n",
       "      <td>-16</td>\n",
       "    </tr>\n",
       "    <tr>\n",
       "      <th>1715018</th>\n",
       "      <td>0</td>\n",
       "      <td>-4719</td>\n",
       "      <td>61</td>\n",
       "      <td>1</td>\n",
       "      <td>4</td>\n",
       "      <td>0</td>\n",
       "      <td>-13</td>\n",
       "    </tr>\n",
       "    <tr>\n",
       "      <th>1726276</th>\n",
       "      <td>1</td>\n",
       "      <td>-5248</td>\n",
       "      <td>35</td>\n",
       "      <td>1</td>\n",
       "      <td>1</td>\n",
       "      <td>0</td>\n",
       "      <td>-15</td>\n",
       "    </tr>\n",
       "    <tr>\n",
       "      <th>2200852</th>\n",
       "      <td>1</td>\n",
       "      <td>-2577</td>\n",
       "      <td>39</td>\n",
       "      <td>0</td>\n",
       "      <td>0</td>\n",
       "      <td>1</td>\n",
       "      <td>-8</td>\n",
       "    </tr>\n",
       "    <tr>\n",
       "      <th>2265604</th>\n",
       "      <td>0</td>\n",
       "      <td>-1477</td>\n",
       "      <td>44</td>\n",
       "      <td>0</td>\n",
       "      <td>0</td>\n",
       "      <td>0</td>\n",
       "      <td>-5</td>\n",
       "    </tr>\n",
       "  </tbody>\n",
       "</table>\n",
       "<p>18607 rows × 7 columns</p>\n",
       "</div>"
      ],
      "text/plain": [
       "              children  days_employed  dob_years  education_id  \\\n",
       "total_income                                                     \n",
       "20667                0         359219         57             1   \n",
       "21205                0         369708         37             1   \n",
       "21367                1          -3642         52             1   \n",
       "21695                0         359726         68             1   \n",
       "21895                0         346602         61             1   \n",
       "...                ...            ...        ...           ...   \n",
       "1711309              0          -5734         42             0   \n",
       "1715018              0          -4719         61             1   \n",
       "1726276              1          -5248         35             1   \n",
       "2200852              1          -2577         39             0   \n",
       "2265604              0          -1477         44             0   \n",
       "\n",
       "              family_status_id  debt  years_employed  \n",
       "total_income                                          \n",
       "20667                        0     1             984  \n",
       "21205                        1     0            1012  \n",
       "21367                        0     0             -10  \n",
       "21695                        1     0             985  \n",
       "21895                        0     0             949  \n",
       "...                        ...   ...             ...  \n",
       "1711309                      1     0             -16  \n",
       "1715018                      4     0             -13  \n",
       "1726276                      1     0             -15  \n",
       "2200852                      0     1              -8  \n",
       "2265604                      0     0              -5  \n",
       "\n",
       "[18607 rows x 7 columns]"
      ]
     },
     "metadata": {},
     "output_type": "display_data"
    }
   ],
   "source": [
    "display(data.groupby(['total_income']).sum())"
   ]
  },
  {
   "cell_type": "markdown",
   "metadata": {},
   "source": [
    "Мы видим очень большие расхождения в данных, однако люди с разным доходом могут брать кредиты для различных целей. Кроме того, такие большие суммы ежемесячного дохода могут возникать из-за оформления дополнительных (неофициальных) доходов, которые не проверяются банком или государством."
   ]
  },
  {
   "cell_type": "markdown",
   "metadata": {},
   "source": [
    "**Вывод**"
   ]
  },
  {
   "cell_type": "markdown",
   "metadata": {},
   "source": [
    "Мы обнаружили несколько видов проблем в данных. Некоторые мы исправили, потому что нам это было необходимо для проверки гипотез, некоторые оставили без изменения."
   ]
  },
  {
   "cell_type": "markdown",
   "metadata": {},
   "source": [
    "### Лемматизация"
   ]
  },
  {
   "cell_type": "code",
   "execution_count": 58,
   "metadata": {},
   "outputs": [
    {
     "data": {
      "text/plain": [
       "Counter({'покупка': 5897,\n",
       "         ' ': 33570,\n",
       "         'жилье': 4460,\n",
       "         ', ': 21453,\n",
       "         'приобретение': 461,\n",
       "         'автомобиль': 4306,\n",
       "         'дополнительный': 906,\n",
       "         'образование': 4013,\n",
       "         'сыграть': 765,\n",
       "         'свадьба': 2324,\n",
       "         'операция': 2604,\n",
       "         'с': 2918,\n",
       "         'на': 2222,\n",
       "         'проведение': 768,\n",
       "         'для': 1289,\n",
       "         'семья': 638,\n",
       "         'недвижимость': 6351,\n",
       "         'коммерческий': 1311,\n",
       "         'жилой': 1230,\n",
       "         'строительство': 1878,\n",
       "         'собственный': 635,\n",
       "         'подержать': 853,\n",
       "         'свой': 2230,\n",
       "         'со': 627,\n",
       "         'заниматься': 904,\n",
       "         'сделка': 941,\n",
       "         'получение': 1314,\n",
       "         'высокий': 1374,\n",
       "         'подержанный': 111,\n",
       "         'профильный': 436,\n",
       "         'сдача': 651,\n",
       "         'ремонт': 607,\n",
       "         '\\n': 1})"
      ]
     },
     "metadata": {},
     "output_type": "display_data"
    }
   ],
   "source": [
    "#так как мы импортировали необходимые библиотеки в начале, то сейчас нам необходимо конвертировать столбец purpose в строку,\n",
    "#а затем провести лемматизацию строки с русским текстом и с использованием Counter реализовать подсчет неизменяемых лемм\n",
    "\n",
    "m = Mystem()\n",
    "lemmas = ', '.join(data['purpose'])\n",
    "lemmas = m.lemmatize(lemmas)\n",
    "display(Counter(lemmas))"
   ]
  },
  {
   "cell_type": "markdown",
   "metadata": {},
   "source": [
    "**Вывод**\n",
    "\n",
    "Проведя лемматизацию целей, мы можем выделить несколько больших категорий для цели кредита и создать новый столбец с оптимизированными значениями:\n",
    "\n",
    "- недвижимость;\n",
    "- автомобиль;\n",
    "- образование;\n",
    "- свадьба."
   ]
  },
  {
   "cell_type": "markdown",
   "metadata": {},
   "source": [
    "### Категоризация данных"
   ]
  },
  {
   "cell_type": "code",
   "execution_count": 59,
   "metadata": {},
   "outputs": [],
   "source": [
    "#выделим словари для нашего набоа данных, чтобы привести их в удобный и читаемый вид\n",
    "#классифицируем словари по типу, удалив дублирующие столбцы\n",
    "data_education = data[['education_id', 'education']]\n",
    "data_family_status = data[['family_status_id', 'family_status', 'debt']]\n",
    "#в последний словарь мы добавили столбец debt для удовбства проверки гипотезы в дальнейшем"
   ]
  },
  {
   "cell_type": "markdown",
   "metadata": {},
   "source": [
    "Так как у нас не стоит задачи определить зависимость возврата кредита от возраста, то классифицировать по возрастной группе мы не будем."
   ]
  },
  {
   "cell_type": "code",
   "execution_count": 60,
   "metadata": {},
   "outputs": [
    {
     "data": {
      "text/plain": [
       "недвижимость    10811\n",
       "автомобиль       4306\n",
       "образование      4013\n",
       "свадьба          2324\n",
       "Name: purpose_optimized, dtype: int64"
      ]
     },
     "execution_count": 60,
     "metadata": {},
     "output_type": "execute_result"
    }
   ],
   "source": [
    "#далее напишем функцию для категоризации целей кредита\n",
    "#и применим ее к столбцу целей\n",
    "#затем проверим работу функции\n",
    "def purpose_tranformation(purpose):\n",
    "    try:\n",
    "        if 'свадьб' in purpose:\n",
    "            return 'свадьба'\n",
    "        if 'недвижим' in purpose or 'жил' in purpose:\n",
    "            return 'недвижимость'\n",
    "        if 'автомобил' in purpose:\n",
    "            return 'автомобиль'\n",
    "        if 'образова' in purpose:\n",
    "            return 'образование'\n",
    "    except:\n",
    "        return 'такой цели кредита не обнаружено'\n",
    "data['purpose_optimized'] = data['purpose'].apply(purpose_tranformation)\n",
    "data['purpose_optimized'].value_counts()"
   ]
  },
  {
   "cell_type": "code",
   "execution_count": 61,
   "metadata": {},
   "outputs": [
    {
     "data": {
      "text/plain": [
       "средний доход    15509\n",
       "малый доход       4463\n",
       "большой доход     1482\n",
       "Name: total_income_middle, dtype: int64"
      ]
     },
     "execution_count": 61,
     "metadata": {},
     "output_type": "execute_result"
    }
   ],
   "source": [
    "#также для удобства подсчетов напишем функцию для группировки данных по ежемесячному доходу\n",
    "#предположим, что значения указаны в рублях\n",
    "#выделим несколько категорий граждан \"до 100т.р.\", \"от 100т.р. до 300т.р.\" и \"свыше 300т.р.\"\n",
    "#затем проверим результат\n",
    "\n",
    "def total_income_mid(total_income):\n",
    "    try:\n",
    "        if total_income <= 100000:\n",
    "            return 'малый доход'\n",
    "        if 100000 < total_income <= 300000:\n",
    "            return 'средний доход'\n",
    "        if total_income > 300000:\n",
    "            return 'большой доход'\n",
    "    except:\n",
    "        return 'неправильное значение'\n",
    "\n",
    "data['total_income_middle'] = data['total_income'].apply(total_income_mid)\n",
    "data['total_income_middle'].value_counts()"
   ]
  },
  {
   "cell_type": "code",
   "execution_count": 62,
   "metadata": {},
   "outputs": [],
   "source": [
    "#создадим новые словари, с учетом прописанных функций\n",
    "data_purpose = data[['purpose', 'purpose_optimized', 'debt']]\n",
    "data_total_income = data[['total_income', 'total_income_middle', 'debt']]\n",
    "data_main = data[['children', 'dob_years', 'education_id', 'family_status_id', 'gender','debt', 'purpose_optimized', 'total_income_middle']]"
   ]
  },
  {
   "cell_type": "markdown",
   "metadata": {},
   "source": [
    "**Вывод**"
   ]
  },
  {
   "cell_type": "markdown",
   "metadata": {},
   "source": [
    "Мы создали несколько словарей, удалив дублирующие параметры, оптимизировав стобец целей и дохода. Мы упростили визуальную работу с таблицей, сократили размер файла и время обработки данных, а также упростили фильстрацию по цели. Теперь мы можем приступать к проверке игпотез."
   ]
  },
  {
   "cell_type": "markdown",
   "metadata": {},
   "source": [
    "## Ответчаем на поставленные вопросы"
   ]
  },
  {
   "cell_type": "markdown",
   "metadata": {},
   "source": [
    "- Есть ли зависимость между наличием детей и возвратом кредита в срок?"
   ]
  },
  {
   "cell_type": "code",
   "execution_count": 63,
   "metadata": {
    "scrolled": true
   },
   "outputs": [
    {
     "data": {
      "text/html": [
       "<div>\n",
       "<style scoped>\n",
       "    .dataframe tbody tr th:only-of-type {\n",
       "        vertical-align: middle;\n",
       "    }\n",
       "\n",
       "    .dataframe tbody tr th {\n",
       "        vertical-align: top;\n",
       "    }\n",
       "\n",
       "    .dataframe thead th {\n",
       "        text-align: right;\n",
       "    }\n",
       "</style>\n",
       "<table border=\"1\" class=\"dataframe\">\n",
       "  <thead>\n",
       "    <tr style=\"text-align: right;\">\n",
       "      <th></th>\n",
       "      <th>children</th>\n",
       "      <th>debt</th>\n",
       "    </tr>\n",
       "  </thead>\n",
       "  <tbody>\n",
       "    <tr>\n",
       "      <th>0</th>\n",
       "      <td>0</td>\n",
       "      <td>7.54</td>\n",
       "    </tr>\n",
       "    <tr>\n",
       "      <th>1</th>\n",
       "      <td>1</td>\n",
       "      <td>9.17</td>\n",
       "    </tr>\n",
       "    <tr>\n",
       "      <th>2</th>\n",
       "      <td>2</td>\n",
       "      <td>9.49</td>\n",
       "    </tr>\n",
       "    <tr>\n",
       "      <th>3</th>\n",
       "      <td>3</td>\n",
       "      <td>8.18</td>\n",
       "    </tr>\n",
       "    <tr>\n",
       "      <th>4</th>\n",
       "      <td>4</td>\n",
       "      <td>9.76</td>\n",
       "    </tr>\n",
       "    <tr>\n",
       "      <th>5</th>\n",
       "      <td>5</td>\n",
       "      <td>0.00</td>\n",
       "    </tr>\n",
       "  </tbody>\n",
       "</table>\n",
       "</div>"
      ],
      "text/plain": [
       "   children  debt\n",
       "0         0  7.54\n",
       "1         1  9.17\n",
       "2         2  9.49\n",
       "3         3  8.18\n",
       "4         4  9.76\n",
       "5         5  0.00"
      ]
     },
     "execution_count": 63,
     "metadata": {},
     "output_type": "execute_result"
    }
   ],
   "source": [
    "#для наглядности результата выведем сводную таблицу с отношением должников к общему количеству\n",
    "#заемщиков по каждой категории в процентах\n",
    "\n",
    "pivot = data.pivot_table('debt', index='children', aggfunc='mean').reset_index()\n",
    "pivot['debt'] = round(pivot['debt'] * 100, 2)\n",
    "pivot"
   ]
  },
  {
   "cell_type": "markdown",
   "metadata": {},
   "source": [
    "**Вывод**"
   ]
  },
  {
   "cell_type": "markdown",
   "metadata": {},
   "source": [
    "По данным таблицы мы видим, что в процентном соотношении зависимость между наличием детей и возвратом кредита в срок небольшая. Семьи с пятью детьми вносят платежи всегда в срок, однако количества данных по таким семьям крайне мало. Самый маленький процент должников среди семей, у который детей нет, он равняется 7.54%. Далее идут должники с тремя детьми, их 8.18%. Хуже всего вносят платежи семьи с одним, двумя и четырьмя детьми, их показатели 9.16%, 9.49% и 9.75% соответствено."
   ]
  },
  {
   "cell_type": "markdown",
   "metadata": {},
   "source": [
    "- Есть ли зависимость между семейным положением и возвратом кредита в срок?"
   ]
  },
  {
   "cell_type": "code",
   "execution_count": 64,
   "metadata": {},
   "outputs": [
    {
     "data": {
      "text/html": [
       "<div>\n",
       "<style scoped>\n",
       "    .dataframe tbody tr th:only-of-type {\n",
       "        vertical-align: middle;\n",
       "    }\n",
       "\n",
       "    .dataframe tbody tr th {\n",
       "        vertical-align: top;\n",
       "    }\n",
       "\n",
       "    .dataframe thead th {\n",
       "        text-align: right;\n",
       "    }\n",
       "</style>\n",
       "<table border=\"1\" class=\"dataframe\">\n",
       "  <thead>\n",
       "    <tr style=\"text-align: right;\">\n",
       "      <th></th>\n",
       "      <th>family_status</th>\n",
       "      <th>debt</th>\n",
       "    </tr>\n",
       "  </thead>\n",
       "  <tbody>\n",
       "    <tr>\n",
       "      <th>0</th>\n",
       "      <td>в разводе</td>\n",
       "      <td>7.11</td>\n",
       "    </tr>\n",
       "    <tr>\n",
       "      <th>1</th>\n",
       "      <td>вдовец / вдова</td>\n",
       "      <td>6.57</td>\n",
       "    </tr>\n",
       "    <tr>\n",
       "      <th>2</th>\n",
       "      <td>гражданский брак</td>\n",
       "      <td>9.35</td>\n",
       "    </tr>\n",
       "    <tr>\n",
       "      <th>3</th>\n",
       "      <td>женат / замужем</td>\n",
       "      <td>7.55</td>\n",
       "    </tr>\n",
       "    <tr>\n",
       "      <th>4</th>\n",
       "      <td>не женат / не замужем</td>\n",
       "      <td>9.75</td>\n",
       "    </tr>\n",
       "  </tbody>\n",
       "</table>\n",
       "</div>"
      ],
      "text/plain": [
       "           family_status  debt\n",
       "0              в разводе  7.11\n",
       "1         вдовец / вдова  6.57\n",
       "2       гражданский брак  9.35\n",
       "3        женат / замужем  7.55\n",
       "4  не женат / не замужем  9.75"
      ]
     },
     "execution_count": 64,
     "metadata": {},
     "output_type": "execute_result"
    }
   ],
   "source": [
    "#для наглядности результата выведем сводную таблицу с отношением должников к общему количеству заемщиков\n",
    "#по каждой категории в процентах\n",
    "\n",
    "pivot = data.pivot_table('debt', index='family_status', aggfunc='mean').reset_index()\n",
    "pivot['debt'] = round(pivot['debt'] * 100, 2)\n",
    "pivot"
   ]
  },
  {
   "cell_type": "markdown",
   "metadata": {},
   "source": [
    "**Вывод**"
   ]
  },
  {
   "cell_type": "markdown",
   "metadata": {},
   "source": [
    "По данным таблицы мы видим, что зависимость между семейным положением и возвратом кредита в срок выражена сильнее. Самый низкий процент задолженностей у вдовцов, далее идут разведенные заемщики и щиемщики в браке. Больше всего задолженностей у тех, кто еще не состоял в браке, почти 10%."
   ]
  },
  {
   "cell_type": "markdown",
   "metadata": {},
   "source": [
    "- Есть ли зависимость между уровнем дохода и возвратом кредита в срок?"
   ]
  },
  {
   "cell_type": "code",
   "execution_count": 65,
   "metadata": {},
   "outputs": [
    {
     "data": {
      "text/html": [
       "<div>\n",
       "<style scoped>\n",
       "    .dataframe tbody tr th:only-of-type {\n",
       "        vertical-align: middle;\n",
       "    }\n",
       "\n",
       "    .dataframe tbody tr th {\n",
       "        vertical-align: top;\n",
       "    }\n",
       "\n",
       "    .dataframe thead th {\n",
       "        text-align: right;\n",
       "    }\n",
       "</style>\n",
       "<table border=\"1\" class=\"dataframe\">\n",
       "  <thead>\n",
       "    <tr style=\"text-align: right;\">\n",
       "      <th></th>\n",
       "      <th>total_income_middle</th>\n",
       "      <th>debt</th>\n",
       "    </tr>\n",
       "  </thead>\n",
       "  <tbody>\n",
       "    <tr>\n",
       "      <th>0</th>\n",
       "      <td>большой доход</td>\n",
       "      <td>7.15</td>\n",
       "    </tr>\n",
       "    <tr>\n",
       "      <th>1</th>\n",
       "      <td>малый доход</td>\n",
       "      <td>7.93</td>\n",
       "    </tr>\n",
       "    <tr>\n",
       "      <th>2</th>\n",
       "      <td>средний доход</td>\n",
       "      <td>8.26</td>\n",
       "    </tr>\n",
       "  </tbody>\n",
       "</table>\n",
       "</div>"
      ],
      "text/plain": [
       "  total_income_middle  debt\n",
       "0       большой доход  7.15\n",
       "1         малый доход  7.93\n",
       "2       средний доход  8.26"
      ]
     },
     "execution_count": 65,
     "metadata": {},
     "output_type": "execute_result"
    }
   ],
   "source": [
    "#для наглядности результата выведем сводную таблицу с отношением должников к общему количеству заемщиков\n",
    "#по каждой категории в процентах\n",
    "\n",
    "pivot = data.pivot_table('debt', index='total_income_middle', aggfunc='mean').reset_index()\n",
    "pivot['debt'] = round(pivot['debt'] * 100, 2)\n",
    "pivot"
   ]
  },
  {
   "cell_type": "markdown",
   "metadata": {},
   "source": [
    "**Вывод**"
   ]
  },
  {
   "cell_type": "markdown",
   "metadata": {},
   "source": [
    "Как мы и предполагали, люди с высоким доходом выплачивают кредиты стабильнее. Однако оказвается, что люди со средним доходом имеют немного больший процент задолженностей, нежели чем люди с малым доходом."
   ]
  },
  {
   "cell_type": "markdown",
   "metadata": {},
   "source": [
    "- Как разные цели кредита влияют на его возврат в срок?"
   ]
  },
  {
   "cell_type": "code",
   "execution_count": 68,
   "metadata": {},
   "outputs": [
    {
     "data": {
      "text/html": [
       "<div>\n",
       "<style scoped>\n",
       "    .dataframe tbody tr th:only-of-type {\n",
       "        vertical-align: middle;\n",
       "    }\n",
       "\n",
       "    .dataframe tbody tr th {\n",
       "        vertical-align: top;\n",
       "    }\n",
       "\n",
       "    .dataframe thead th {\n",
       "        text-align: right;\n",
       "    }\n",
       "</style>\n",
       "<table border=\"1\" class=\"dataframe\">\n",
       "  <thead>\n",
       "    <tr style=\"text-align: right;\">\n",
       "      <th></th>\n",
       "      <th>purpose_optimized</th>\n",
       "      <th>debt</th>\n",
       "    </tr>\n",
       "  </thead>\n",
       "  <tbody>\n",
       "    <tr>\n",
       "      <th>0</th>\n",
       "      <td>автомобиль</td>\n",
       "      <td>0.093590</td>\n",
       "    </tr>\n",
       "    <tr>\n",
       "      <th>1</th>\n",
       "      <td>недвижимость</td>\n",
       "      <td>0.072334</td>\n",
       "    </tr>\n",
       "    <tr>\n",
       "      <th>2</th>\n",
       "      <td>образование</td>\n",
       "      <td>0.092200</td>\n",
       "    </tr>\n",
       "    <tr>\n",
       "      <th>3</th>\n",
       "      <td>свадьба</td>\n",
       "      <td>0.080034</td>\n",
       "    </tr>\n",
       "  </tbody>\n",
       "</table>\n",
       "</div>"
      ],
      "text/plain": [
       "  purpose_optimized      debt\n",
       "0        автомобиль  0.093590\n",
       "1      недвижимость  0.072334\n",
       "2       образование  0.092200\n",
       "3           свадьба  0.080034"
      ]
     },
     "execution_count": 68,
     "metadata": {},
     "output_type": "execute_result"
    }
   ],
   "source": [
    "#для наглядности результата выведем сводную таблицу с отношением должников к общему количеству заемщиков\n",
    "#по каждой категории в процентах\n",
    "\n",
    "data.pivot_table('debt', index='purpose_optimized', aggfunc='mean').reset_index()"
   ]
  },
  {
   "cell_type": "markdown",
   "metadata": {},
   "source": [
    "**Вывод**"
   ]
  },
  {
   "cell_type": "markdown",
   "metadata": {},
   "source": [
    "По таблице видно, что люди, берущие средства на покупку автомобилей или на образование склонны немного хуже возвращать их банку. Самыми стабильными являются потребители, выполняющие операции с недвижимостью."
   ]
  },
  {
   "cell_type": "markdown",
   "metadata": {},
   "source": [
    "## Общий вывод"
   ]
  },
  {
   "cell_type": "markdown",
   "metadata": {},
   "source": [
    "Мы проверили четыре гипотезы и выяснили следующее:\n",
    "- зависимость между наличием детей и возвратом кредита в срок небольшая. Семьи с пятью детьми вносят платежи всегда в срок, однако количества данных по таким семьям крайне мало. Самый маленький процент должников среди семей, у который детей нет, он равняется 7.54%. Далее идут должники с тремя детьми, их 8.18%. Хуже всего вносят платежи семьи с одним, двумя и четырьмя детьми, их показатели 9.16%, 9.49% и 9.75% соответствено.\n",
    "- Зависимость между семейным положением и возвратом кредита в срок выражена больше всего. Самый низкий процент задолженностей у вдовцов и вдов, он равняется 6,57%. Далее идут заемщики в разводе и в браке, процент их невыплат составляет 7.11% и 7.54% соответственно. Больше всего задолженностей у тех, кто еще не состоял в браке, 9.75%. Заемщики, находящиеся в гражданском браке выплачивают средства хуже среднего, процент просрочек равен 9.35%.\n",
    "- Зависимсоть между доходом и возвратом кредита в срок наименьшая. Логично, что люди с высоким доходом выплачивают кредиты стабильнее всего, процент просрочек по их платежам составляет 7.15%. Однако, как оказалось, люди со средним доходом имеют немного больший процент задолженностей (8.25%), нежели чем люди с малым доходом (7.93%).\n",
    "- Зависимсоть между целью кредита и его возвратом в срок небольшая. Люди, берущие средства на покупку автомобилей или на образование склонны немного хуже возвращать их банку, процент их просрочек равен 9.35% и 9.22% соответственно. Самыми стабильными являются потребители, выполняющие операции с недвижимостью, среди них 7.23% должников. Заемщики, имеющие свадебные цели выплачивают кредиты немного хуже, они имеют 8% прочрочек."
   ]
  },
  {
   "cell_type": "code",
   "execution_count": 69,
   "metadata": {},
   "outputs": [
    {
     "data": {
      "text/html": [
       "<div>\n",
       "<style scoped>\n",
       "    .dataframe tbody tr th:only-of-type {\n",
       "        vertical-align: middle;\n",
       "    }\n",
       "\n",
       "    .dataframe tbody tr th {\n",
       "        vertical-align: top;\n",
       "    }\n",
       "\n",
       "    .dataframe thead tr th {\n",
       "        text-align: left;\n",
       "    }\n",
       "</style>\n",
       "<table border=\"1\" class=\"dataframe\">\n",
       "  <thead>\n",
       "    <tr>\n",
       "      <th></th>\n",
       "      <th>family_status</th>\n",
       "      <th colspan=\"6\" halign=\"left\">sum</th>\n",
       "    </tr>\n",
       "    <tr>\n",
       "      <th>children</th>\n",
       "      <th></th>\n",
       "      <th>0</th>\n",
       "      <th>1</th>\n",
       "      <th>2</th>\n",
       "      <th>3</th>\n",
       "      <th>4</th>\n",
       "      <th>5</th>\n",
       "    </tr>\n",
       "  </thead>\n",
       "  <tbody>\n",
       "    <tr>\n",
       "      <th>0</th>\n",
       "      <td>в разводе</td>\n",
       "      <td>55.0</td>\n",
       "      <td>21.0</td>\n",
       "      <td>8.0</td>\n",
       "      <td>1.0</td>\n",
       "      <td>0.0</td>\n",
       "      <td>NaN</td>\n",
       "    </tr>\n",
       "    <tr>\n",
       "      <th>1</th>\n",
       "      <td>вдовец / вдова</td>\n",
       "      <td>53.0</td>\n",
       "      <td>7.0</td>\n",
       "      <td>3.0</td>\n",
       "      <td>0.0</td>\n",
       "      <td>0.0</td>\n",
       "      <td>NaN</td>\n",
       "    </tr>\n",
       "    <tr>\n",
       "      <th>2</th>\n",
       "      <td>гражданский брак</td>\n",
       "      <td>229.0</td>\n",
       "      <td>118.0</td>\n",
       "      <td>33.0</td>\n",
       "      <td>8.0</td>\n",
       "      <td>0.0</td>\n",
       "      <td>0.0</td>\n",
       "    </tr>\n",
       "    <tr>\n",
       "      <th>3</th>\n",
       "      <td>женат / замужем</td>\n",
       "      <td>516.0</td>\n",
       "      <td>247.0</td>\n",
       "      <td>148.0</td>\n",
       "      <td>17.0</td>\n",
       "      <td>3.0</td>\n",
       "      <td>0.0</td>\n",
       "    </tr>\n",
       "    <tr>\n",
       "      <th>4</th>\n",
       "      <td>не женат / не замужем</td>\n",
       "      <td>210.0</td>\n",
       "      <td>52.0</td>\n",
       "      <td>10.0</td>\n",
       "      <td>1.0</td>\n",
       "      <td>1.0</td>\n",
       "      <td>NaN</td>\n",
       "    </tr>\n",
       "  </tbody>\n",
       "</table>\n",
       "</div>"
      ],
      "text/plain": [
       "                  family_status    sum                              \n",
       "children                             0      1      2     3    4    5\n",
       "0                     в разводе   55.0   21.0    8.0   1.0  0.0  NaN\n",
       "1                вдовец / вдова   53.0    7.0    3.0   0.0  0.0  NaN\n",
       "2              гражданский брак  229.0  118.0   33.0   8.0  0.0  0.0\n",
       "3               женат / замужем  516.0  247.0  148.0  17.0  3.0  0.0\n",
       "4         не женат / не замужем  210.0   52.0   10.0   1.0  1.0  NaN"
      ]
     },
     "execution_count": 69,
     "metadata": {},
     "output_type": "execute_result"
    }
   ],
   "source": [
    "#так как в описании было сказано, что нам нужно разобраться, влияет ли семейное положение\n",
    "#и количество детей клиента на факт погашения кредита в срок,\n",
    "#для нагляндности построим сводную таблицу этой зависимости\n",
    "\n",
    "data.pivot_table(index='family_status', columns='children', values='debt', aggfunc=['sum']).reset_index()"
   ]
  }
 ],
 "metadata": {
  "ExecuteTimeLog": [
   {
    "duration": 631,
    "start_time": "2021-12-28T15:57:10.067Z"
   },
   {
    "duration": 71,
    "start_time": "2021-12-28T15:57:22.972Z"
   },
   {
    "duration": 76,
    "start_time": "2021-12-28T15:58:40.096Z"
   },
   {
    "duration": 8,
    "start_time": "2021-12-28T16:24:50.908Z"
   },
   {
    "duration": 5,
    "start_time": "2021-12-28T16:27:15.651Z"
   },
   {
    "duration": 11,
    "start_time": "2021-12-28T16:28:43.101Z"
   },
   {
    "duration": 9,
    "start_time": "2021-12-28T16:28:47.499Z"
   },
   {
    "duration": 35,
    "start_time": "2021-12-28T16:30:39.072Z"
   },
   {
    "duration": 29,
    "start_time": "2021-12-28T16:31:55.658Z"
   },
   {
    "duration": 21,
    "start_time": "2021-12-28T16:32:14.335Z"
   },
   {
    "duration": 577,
    "start_time": "2021-12-28T16:34:48.063Z"
   },
   {
    "duration": 17,
    "start_time": "2021-12-28T16:34:58.308Z"
   },
   {
    "duration": 19,
    "start_time": "2021-12-28T16:35:16.502Z"
   },
   {
    "duration": 25,
    "start_time": "2021-12-28T16:35:28.838Z"
   },
   {
    "duration": 16,
    "start_time": "2021-12-28T16:35:41.914Z"
   },
   {
    "duration": 16,
    "start_time": "2021-12-28T16:52:43.281Z"
   },
   {
    "duration": 16,
    "start_time": "2021-12-28T16:53:18.655Z"
   },
   {
    "duration": 63,
    "start_time": "2021-12-28T16:56:53.047Z"
   },
   {
    "duration": 69,
    "start_time": "2021-12-28T16:57:24.885Z"
   },
   {
    "duration": 400,
    "start_time": "2021-12-28T16:58:18.342Z"
   },
   {
    "duration": 359,
    "start_time": "2021-12-28T16:58:23.874Z"
   },
   {
    "duration": 20,
    "start_time": "2021-12-28T16:58:29.392Z"
   },
   {
    "duration": 18,
    "start_time": "2021-12-28T16:58:32.530Z"
   },
   {
    "duration": 22,
    "start_time": "2021-12-28T16:59:17.271Z"
   },
   {
    "duration": 12,
    "start_time": "2021-12-28T16:59:29.237Z"
   },
   {
    "duration": 8,
    "start_time": "2021-12-28T16:59:38.645Z"
   },
   {
    "duration": 22,
    "start_time": "2021-12-28T16:59:54.183Z"
   },
   {
    "duration": 15,
    "start_time": "2021-12-28T17:00:07.774Z"
   },
   {
    "duration": 1122,
    "start_time": "2021-12-28T17:07:37.975Z"
   },
   {
    "duration": 30,
    "start_time": "2021-12-28T17:07:45.150Z"
   },
   {
    "duration": 29,
    "start_time": "2021-12-28T17:08:20.242Z"
   },
   {
    "duration": 15,
    "start_time": "2021-12-28T17:08:50.726Z"
   },
   {
    "duration": 885,
    "start_time": "2021-12-28T17:09:47.934Z"
   },
   {
    "duration": 461,
    "start_time": "2021-12-28T17:09:56.822Z"
   },
   {
    "duration": 94,
    "start_time": "2021-12-28T17:10:23.623Z"
   },
   {
    "duration": 70,
    "start_time": "2021-12-28T17:13:02.361Z"
   },
   {
    "duration": 69,
    "start_time": "2021-12-28T17:13:51.852Z"
   },
   {
    "duration": 74,
    "start_time": "2021-12-28T17:14:03.908Z"
   },
   {
    "duration": 84,
    "start_time": "2021-12-28T17:17:31.487Z"
   },
   {
    "duration": 67,
    "start_time": "2021-12-28T17:18:06.875Z"
   },
   {
    "duration": 69,
    "start_time": "2021-12-28T17:19:42.047Z"
   },
   {
    "duration": 68,
    "start_time": "2021-12-28T17:20:25.145Z"
   },
   {
    "duration": 15,
    "start_time": "2021-12-28T17:30:28.921Z"
   },
   {
    "duration": 324,
    "start_time": "2021-12-28T17:36:45.806Z"
   },
   {
    "duration": 336,
    "start_time": "2021-12-28T17:37:24.772Z"
   },
   {
    "duration": 44,
    "start_time": "2021-12-28T17:41:38.010Z"
   },
   {
    "duration": 387,
    "start_time": "2021-12-28T17:41:49.982Z"
   },
   {
    "duration": 26,
    "start_time": "2021-12-28T17:41:57.599Z"
   },
   {
    "duration": 25,
    "start_time": "2021-12-28T17:42:22.289Z"
   },
   {
    "duration": 58,
    "start_time": "2021-12-28T17:45:34.117Z"
   },
   {
    "duration": 64,
    "start_time": "2021-12-28T17:47:18.258Z"
   },
   {
    "duration": 80,
    "start_time": "2021-12-28T17:48:33.650Z"
   },
   {
    "duration": 86,
    "start_time": "2021-12-28T17:48:39.132Z"
   },
   {
    "duration": 94,
    "start_time": "2021-12-28T17:48:52.362Z"
   },
   {
    "duration": 112,
    "start_time": "2021-12-28T17:49:45.788Z"
   },
   {
    "duration": 97,
    "start_time": "2021-12-28T17:50:16.835Z"
   },
   {
    "duration": 115,
    "start_time": "2021-12-28T17:58:14.713Z"
   },
   {
    "duration": 121,
    "start_time": "2021-12-28T17:58:22.749Z"
   },
   {
    "duration": 115,
    "start_time": "2021-12-28T17:58:54.897Z"
   },
   {
    "duration": 113,
    "start_time": "2021-12-28T17:59:10.691Z"
   },
   {
    "duration": 287,
    "start_time": "2021-12-29T07:25:08.157Z"
   },
   {
    "duration": 246,
    "start_time": "2021-12-29T07:25:20.015Z"
   },
   {
    "duration": 254,
    "start_time": "2021-12-29T07:25:22.589Z"
   },
   {
    "duration": 596,
    "start_time": "2021-12-29T07:25:32.092Z"
   },
   {
    "duration": 15,
    "start_time": "2021-12-29T07:25:32.689Z"
   },
   {
    "duration": 96,
    "start_time": "2021-12-29T07:25:32.706Z"
   },
   {
    "duration": 45,
    "start_time": "2021-12-29T07:39:27.689Z"
   },
   {
    "duration": 492,
    "start_time": "2021-12-29T07:40:24.189Z"
   },
   {
    "duration": 247,
    "start_time": "2021-12-29T07:40:43.496Z"
   },
   {
    "duration": 9,
    "start_time": "2021-12-29T07:41:37.659Z"
   },
   {
    "duration": 7,
    "start_time": "2021-12-29T07:41:42.635Z"
   },
   {
    "duration": 9,
    "start_time": "2021-12-29T07:42:11.673Z"
   },
   {
    "duration": 8,
    "start_time": "2021-12-29T07:42:37.759Z"
   },
   {
    "duration": 9,
    "start_time": "2021-12-29T07:43:01.238Z"
   },
   {
    "duration": 100,
    "start_time": "2021-12-29T07:44:30.074Z"
   },
   {
    "duration": 15,
    "start_time": "2021-12-29T07:50:09.413Z"
   },
   {
    "duration": 3,
    "start_time": "2021-12-29T07:50:27.187Z"
   },
   {
    "duration": 288,
    "start_time": "2021-12-29T07:50:56.508Z"
   },
   {
    "duration": 622,
    "start_time": "2021-12-29T07:51:11.543Z"
   },
   {
    "duration": 641,
    "start_time": "2021-12-29T07:51:20.535Z"
   },
   {
    "duration": 256,
    "start_time": "2021-12-29T07:52:38.277Z"
   },
   {
    "duration": 377,
    "start_time": "2021-12-29T07:54:20.581Z"
   },
   {
    "duration": 3,
    "start_time": "2021-12-29T07:54:25.615Z"
   },
   {
    "duration": 14,
    "start_time": "2021-12-29T07:54:39.133Z"
   },
   {
    "duration": 266,
    "start_time": "2021-12-29T08:03:26.900Z"
   },
   {
    "duration": 3543,
    "start_time": "2021-12-29T08:03:34.570Z"
   },
   {
    "duration": 69,
    "start_time": "2021-12-29T08:09:05.984Z"
   },
   {
    "duration": 55,
    "start_time": "2021-12-29T08:09:22.857Z"
   },
   {
    "duration": 68,
    "start_time": "2021-12-29T08:09:47.874Z"
   },
   {
    "duration": 10,
    "start_time": "2021-12-29T08:11:41.315Z"
   },
   {
    "duration": 34,
    "start_time": "2021-12-29T08:11:49.810Z"
   },
   {
    "duration": 84,
    "start_time": "2021-12-29T08:18:04.088Z"
   },
   {
    "duration": 9,
    "start_time": "2021-12-29T08:38:53.443Z"
   },
   {
    "duration": 11,
    "start_time": "2021-12-29T08:42:47.618Z"
   },
   {
    "duration": 5,
    "start_time": "2021-12-29T08:54:49.419Z"
   },
   {
    "duration": 6,
    "start_time": "2021-12-29T08:55:03.157Z"
   },
   {
    "duration": 246,
    "start_time": "2021-12-29T08:55:13.338Z"
   },
   {
    "duration": 2327,
    "start_time": "2021-12-29T08:55:22.653Z"
   },
   {
    "duration": 2678,
    "start_time": "2021-12-29T08:55:37.574Z"
   },
   {
    "duration": 2403,
    "start_time": "2021-12-29T08:55:52.770Z"
   },
   {
    "duration": 67,
    "start_time": "2021-12-29T08:59:37.628Z"
   },
   {
    "duration": 39,
    "start_time": "2021-12-29T09:01:03.641Z"
   },
   {
    "duration": 80,
    "start_time": "2021-12-29T09:02:04.466Z"
   },
   {
    "duration": 6,
    "start_time": "2021-12-29T09:04:47.511Z"
   },
   {
    "duration": 6,
    "start_time": "2021-12-29T09:04:51.663Z"
   },
   {
    "duration": 3,
    "start_time": "2021-12-29T09:08:50.003Z"
   },
   {
    "duration": 6,
    "start_time": "2021-12-29T09:08:58.774Z"
   },
   {
    "duration": 9,
    "start_time": "2021-12-29T09:10:35.460Z"
   },
   {
    "duration": 72,
    "start_time": "2021-12-29T09:11:41.526Z"
   },
   {
    "duration": 67,
    "start_time": "2021-12-29T09:11:55.384Z"
   },
   {
    "duration": 35,
    "start_time": "2021-12-29T09:11:55.453Z"
   },
   {
    "duration": 8,
    "start_time": "2021-12-29T09:11:55.490Z"
   },
   {
    "duration": 15,
    "start_time": "2021-12-29T09:11:55.499Z"
   },
   {
    "duration": 94,
    "start_time": "2021-12-29T09:12:00.795Z"
   },
   {
    "duration": 38,
    "start_time": "2021-12-29T09:12:00.891Z"
   },
   {
    "duration": 11,
    "start_time": "2021-12-29T09:12:00.941Z"
   },
   {
    "duration": 29,
    "start_time": "2021-12-29T09:12:00.954Z"
   },
   {
    "duration": 78,
    "start_time": "2021-12-29T09:12:00.985Z"
   },
   {
    "duration": 8,
    "start_time": "2021-12-29T09:12:38.573Z"
   },
   {
    "duration": 8,
    "start_time": "2021-12-29T09:13:11.287Z"
   },
   {
    "duration": -204,
    "start_time": "2021-12-29T09:17:16.834Z"
   },
   {
    "duration": 6477,
    "start_time": "2021-12-29T09:17:23.640Z"
   },
   {
    "duration": 6493,
    "start_time": "2021-12-29T09:18:11.777Z"
   },
   {
    "duration": 10,
    "start_time": "2021-12-29T09:18:38.345Z"
   },
   {
    "duration": 6301,
    "start_time": "2021-12-29T09:18:49.136Z"
   },
   {
    "duration": 8,
    "start_time": "2021-12-29T09:19:05.021Z"
   },
   {
    "duration": 7,
    "start_time": "2021-12-29T09:19:16.693Z"
   },
   {
    "duration": 9,
    "start_time": "2021-12-29T09:19:52.654Z"
   },
   {
    "duration": 247,
    "start_time": "2021-12-29T09:20:19.428Z"
   },
   {
    "duration": 239,
    "start_time": "2021-12-29T09:20:27.177Z"
   },
   {
    "duration": 6,
    "start_time": "2021-12-29T09:20:48.519Z"
   },
   {
    "duration": 10,
    "start_time": "2021-12-29T09:21:07.329Z"
   },
   {
    "duration": 6,
    "start_time": "2021-12-29T09:21:39.451Z"
   },
   {
    "duration": 6,
    "start_time": "2021-12-29T09:21:55.285Z"
   },
   {
    "duration": 10,
    "start_time": "2021-12-29T09:22:36.867Z"
   },
   {
    "duration": 287,
    "start_time": "2021-12-29T09:23:21.288Z"
   },
   {
    "duration": 8,
    "start_time": "2021-12-29T09:23:49.120Z"
   },
   {
    "duration": 20,
    "start_time": "2021-12-29T09:25:11.680Z"
   },
   {
    "duration": 5,
    "start_time": "2021-12-29T09:29:16.389Z"
   },
   {
    "duration": 10,
    "start_time": "2021-12-29T09:29:31.366Z"
   },
   {
    "duration": 6,
    "start_time": "2021-12-29T09:29:36.910Z"
   },
   {
    "duration": 8,
    "start_time": "2021-12-29T09:29:59.406Z"
   },
   {
    "duration": 9,
    "start_time": "2021-12-29T09:30:07.545Z"
   },
   {
    "duration": 5,
    "start_time": "2021-12-29T09:30:17.753Z"
   },
   {
    "duration": 8,
    "start_time": "2021-12-29T09:30:25.981Z"
   },
   {
    "duration": 9,
    "start_time": "2021-12-29T09:30:32.570Z"
   },
   {
    "duration": 341,
    "start_time": "2022-01-03T10:36:11.562Z"
   },
   {
    "duration": 906,
    "start_time": "2022-01-03T10:36:37.949Z"
   },
   {
    "duration": 66,
    "start_time": "2022-01-03T10:36:38.858Z"
   },
   {
    "duration": 15,
    "start_time": "2022-01-03T10:36:38.928Z"
   },
   {
    "duration": 19,
    "start_time": "2022-01-03T10:36:38.969Z"
   },
   {
    "duration": 17,
    "start_time": "2022-01-03T10:36:38.991Z"
   },
   {
    "duration": 134,
    "start_time": "2022-01-03T10:36:39.011Z"
   },
   {
    "duration": 43,
    "start_time": "2022-01-03T10:36:39.148Z"
   },
   {
    "duration": 10,
    "start_time": "2022-01-03T10:36:39.197Z"
   },
   {
    "duration": 9,
    "start_time": "2022-01-03T10:36:39.209Z"
   },
   {
    "duration": 14,
    "start_time": "2022-01-03T10:36:39.220Z"
   },
   {
    "duration": 63,
    "start_time": "2022-01-03T10:36:39.236Z"
   },
   {
    "duration": 13,
    "start_time": "2022-01-03T10:36:39.301Z"
   },
   {
    "duration": 12,
    "start_time": "2022-01-03T10:36:39.317Z"
   },
   {
    "duration": 41,
    "start_time": "2022-01-03T10:36:39.332Z"
   },
   {
    "duration": 12,
    "start_time": "2022-01-03T10:36:39.376Z"
   },
   {
    "duration": 11,
    "start_time": "2022-01-03T10:36:39.390Z"
   },
   {
    "duration": 22,
    "start_time": "2022-01-03T10:36:39.403Z"
   },
   {
    "duration": 16,
    "start_time": "2022-01-03T10:36:39.427Z"
   },
   {
    "duration": 12,
    "start_time": "2022-01-03T10:36:39.468Z"
   },
   {
    "duration": 3748,
    "start_time": "2022-01-03T10:36:39.483Z"
   },
   {
    "duration": 36,
    "start_time": "2022-01-03T10:37:09.193Z"
   },
   {
    "duration": 17,
    "start_time": "2022-01-03T10:37:18.657Z"
   },
   {
    "duration": 105,
    "start_time": "2022-01-03T10:38:30.681Z"
   },
   {
    "duration": 340,
    "start_time": "2022-01-03T10:39:17.273Z"
   },
   {
    "duration": 11,
    "start_time": "2022-01-03T10:39:39.541Z"
   },
   {
    "duration": 12,
    "start_time": "2022-01-03T10:40:27.524Z"
   },
   {
    "duration": 12,
    "start_time": "2022-01-03T10:40:54.563Z"
   },
   {
    "duration": 14,
    "start_time": "2022-01-03T10:43:30.691Z"
   },
   {
    "duration": 10,
    "start_time": "2022-01-03T10:43:53.138Z"
   },
   {
    "duration": 11,
    "start_time": "2022-01-03T10:45:47.239Z"
   },
   {
    "duration": 9,
    "start_time": "2022-01-03T10:46:34.301Z"
   },
   {
    "duration": 11,
    "start_time": "2022-01-03T10:46:37.660Z"
   },
   {
    "duration": 17,
    "start_time": "2022-01-03T10:47:18.477Z"
   },
   {
    "duration": 14,
    "start_time": "2022-01-03T10:47:24.492Z"
   },
   {
    "duration": 6,
    "start_time": "2022-01-03T10:47:39.903Z"
   },
   {
    "duration": 282,
    "start_time": "2022-01-03T10:48:25.161Z"
   },
   {
    "duration": 278,
    "start_time": "2022-01-03T10:48:30.018Z"
   },
   {
    "duration": 13,
    "start_time": "2022-01-03T10:48:55.264Z"
   },
   {
    "duration": 19,
    "start_time": "2022-01-03T10:49:00.085Z"
   },
   {
    "duration": 19,
    "start_time": "2022-01-03T10:49:12.392Z"
   },
   {
    "duration": 319,
    "start_time": "2022-01-03T10:49:19.517Z"
   },
   {
    "duration": 6,
    "start_time": "2022-01-03T10:49:26.012Z"
   },
   {
    "duration": 7,
    "start_time": "2022-01-03T10:49:29.207Z"
   },
   {
    "duration": 261,
    "start_time": "2022-01-03T10:49:48.168Z"
   },
   {
    "duration": 16,
    "start_time": "2022-01-03T10:49:53.193Z"
   },
   {
    "duration": 11,
    "start_time": "2022-01-03T10:52:25.158Z"
   },
   {
    "duration": 346,
    "start_time": "2022-01-03T10:52:38.789Z"
   },
   {
    "duration": 281,
    "start_time": "2022-01-03T10:52:44.344Z"
   },
   {
    "duration": 80,
    "start_time": "2022-01-03T10:53:32.991Z"
   },
   {
    "duration": 265,
    "start_time": "2022-01-03T10:53:42.675Z"
   },
   {
    "duration": 288,
    "start_time": "2022-01-03T10:53:52.874Z"
   },
   {
    "duration": 279,
    "start_time": "2022-01-03T10:54:10.598Z"
   },
   {
    "duration": 279,
    "start_time": "2022-01-03T10:54:20.929Z"
   },
   {
    "duration": 272,
    "start_time": "2022-01-03T10:54:35.337Z"
   },
   {
    "duration": 14,
    "start_time": "2022-01-03T10:55:01.416Z"
   },
   {
    "duration": 8,
    "start_time": "2022-01-03T10:59:44.583Z"
   },
   {
    "duration": 47,
    "start_time": "2022-01-03T11:00:10.806Z"
   },
   {
    "duration": 8,
    "start_time": "2022-01-03T11:12:05.378Z"
   },
   {
    "duration": 11,
    "start_time": "2022-01-03T11:12:18.318Z"
   },
   {
    "duration": 6967,
    "start_time": "2022-01-03T11:13:25.660Z"
   },
   {
    "duration": 7347,
    "start_time": "2022-01-03T11:15:05.664Z"
   },
   {
    "duration": 284,
    "start_time": "2022-01-03T11:16:33.476Z"
   },
   {
    "duration": 8,
    "start_time": "2022-01-03T11:17:16.979Z"
   },
   {
    "duration": 8,
    "start_time": "2022-01-03T11:17:23.947Z"
   },
   {
    "duration": 7619,
    "start_time": "2022-01-03T11:17:26.748Z"
   },
   {
    "duration": 112,
    "start_time": "2022-01-03T11:17:54.657Z"
   },
   {
    "duration": 59,
    "start_time": "2022-01-03T11:17:54.771Z"
   },
   {
    "duration": 36,
    "start_time": "2022-01-03T11:17:54.833Z"
   },
   {
    "duration": 18,
    "start_time": "2022-01-03T11:17:54.872Z"
   },
   {
    "duration": 22,
    "start_time": "2022-01-03T11:17:54.893Z"
   },
   {
    "duration": 132,
    "start_time": "2022-01-03T11:17:54.917Z"
   },
   {
    "duration": 45,
    "start_time": "2022-01-03T11:17:55.051Z"
   },
   {
    "duration": 8,
    "start_time": "2022-01-03T11:17:55.100Z"
   },
   {
    "duration": 17,
    "start_time": "2022-01-03T11:17:55.111Z"
   },
   {
    "duration": 39,
    "start_time": "2022-01-03T11:17:55.130Z"
   },
   {
    "duration": 40,
    "start_time": "2022-01-03T11:17:55.171Z"
   },
   {
    "duration": 15,
    "start_time": "2022-01-03T11:17:55.213Z"
   },
   {
    "duration": 45,
    "start_time": "2022-01-03T11:17:55.231Z"
   },
   {
    "duration": 32,
    "start_time": "2022-01-03T11:17:55.278Z"
   },
   {
    "duration": 12,
    "start_time": "2022-01-03T11:17:55.313Z"
   },
   {
    "duration": 42,
    "start_time": "2022-01-03T11:17:55.328Z"
   },
   {
    "duration": 12,
    "start_time": "2022-01-03T11:17:55.372Z"
   },
   {
    "duration": 19,
    "start_time": "2022-01-03T11:17:55.386Z"
   },
   {
    "duration": 14,
    "start_time": "2022-01-03T11:17:55.407Z"
   },
   {
    "duration": 12,
    "start_time": "2022-01-03T11:17:55.423Z"
   },
   {
    "duration": 4041,
    "start_time": "2022-01-03T11:17:55.437Z"
   },
   {
    "duration": 132,
    "start_time": "2022-01-03T11:30:36.316Z"
   },
   {
    "duration": 85,
    "start_time": "2022-01-03T11:30:44.795Z"
   },
   {
    "duration": 37,
    "start_time": "2022-01-03T11:31:05.901Z"
   },
   {
    "duration": 9,
    "start_time": "2022-01-03T11:38:36.099Z"
   },
   {
    "duration": 13,
    "start_time": "2022-01-03T11:39:41.689Z"
   },
   {
    "duration": 12,
    "start_time": "2022-01-03T11:39:53.159Z"
   },
   {
    "duration": 12,
    "start_time": "2022-01-03T11:40:05.832Z"
   },
   {
    "duration": 40,
    "start_time": "2022-01-03T11:40:50.272Z"
   },
   {
    "duration": 7,
    "start_time": "2022-01-03T11:41:28.700Z"
   },
   {
    "duration": 8,
    "start_time": "2022-01-03T11:42:02.892Z"
   },
   {
    "duration": 12,
    "start_time": "2022-01-03T11:42:14.475Z"
   },
   {
    "duration": 28,
    "start_time": "2022-01-03T11:45:42.069Z"
   },
   {
    "duration": 12,
    "start_time": "2022-01-03T11:46:01.072Z"
   },
   {
    "duration": 153,
    "start_time": "2022-01-03T11:46:07.771Z"
   },
   {
    "duration": 72,
    "start_time": "2022-01-03T11:46:07.927Z"
   },
   {
    "duration": 13,
    "start_time": "2022-01-03T11:46:08.002Z"
   },
   {
    "duration": 17,
    "start_time": "2022-01-03T11:46:08.017Z"
   },
   {
    "duration": 18,
    "start_time": "2022-01-03T11:46:08.067Z"
   },
   {
    "duration": 131,
    "start_time": "2022-01-03T11:46:08.088Z"
   },
   {
    "duration": 45,
    "start_time": "2022-01-03T11:46:08.222Z"
   },
   {
    "duration": 9,
    "start_time": "2022-01-03T11:46:08.270Z"
   },
   {
    "duration": 6,
    "start_time": "2022-01-03T11:46:08.283Z"
   },
   {
    "duration": 16,
    "start_time": "2022-01-03T11:46:08.292Z"
   },
   {
    "duration": 75,
    "start_time": "2022-01-03T11:46:08.310Z"
   },
   {
    "duration": 14,
    "start_time": "2022-01-03T11:46:08.388Z"
   },
   {
    "duration": 15,
    "start_time": "2022-01-03T11:46:08.404Z"
   },
   {
    "duration": 63,
    "start_time": "2022-01-03T11:46:08.421Z"
   },
   {
    "duration": 16,
    "start_time": "2022-01-03T11:46:08.487Z"
   },
   {
    "duration": 14,
    "start_time": "2022-01-03T11:46:08.506Z"
   },
   {
    "duration": 60,
    "start_time": "2022-01-03T11:46:08.523Z"
   },
   {
    "duration": 11,
    "start_time": "2022-01-03T11:46:08.586Z"
   },
   {
    "duration": 18,
    "start_time": "2022-01-03T11:46:08.600Z"
   },
   {
    "duration": 12,
    "start_time": "2022-01-03T11:46:08.620Z"
   },
   {
    "duration": 13,
    "start_time": "2022-01-03T11:46:08.668Z"
   },
   {
    "duration": 5090,
    "start_time": "2022-01-03T11:46:08.683Z"
   },
   {
    "duration": 12,
    "start_time": "2022-01-03T11:46:21.971Z"
   },
   {
    "duration": 313,
    "start_time": "2022-01-03T11:47:43.280Z"
   },
   {
    "duration": 6,
    "start_time": "2022-01-03T11:47:55.279Z"
   },
   {
    "duration": 6,
    "start_time": "2022-01-03T11:48:04.105Z"
   },
   {
    "duration": 320,
    "start_time": "2022-01-03T11:48:21.038Z"
   },
   {
    "duration": 276,
    "start_time": "2022-01-03T11:49:40.674Z"
   },
   {
    "duration": 6,
    "start_time": "2022-01-03T11:50:06.754Z"
   },
   {
    "duration": 39,
    "start_time": "2022-01-03T11:50:13.227Z"
   },
   {
    "duration": 38,
    "start_time": "2022-01-03T12:25:01.491Z"
   },
   {
    "duration": 286,
    "start_time": "2022-01-03T12:29:51.286Z"
   },
   {
    "duration": 265,
    "start_time": "2022-01-03T12:30:44.378Z"
   },
   {
    "duration": 286,
    "start_time": "2022-01-03T12:31:35.844Z"
   },
   {
    "duration": 292,
    "start_time": "2022-01-03T12:35:59.613Z"
   },
   {
    "duration": 318,
    "start_time": "2022-01-03T12:36:08.783Z"
   },
   {
    "duration": 283,
    "start_time": "2022-01-03T12:36:33.729Z"
   },
   {
    "duration": 6,
    "start_time": "2022-01-03T12:43:05.120Z"
   },
   {
    "duration": 8,
    "start_time": "2022-01-03T12:43:51.156Z"
   },
   {
    "duration": 9,
    "start_time": "2022-01-03T12:43:57.261Z"
   },
   {
    "duration": 19,
    "start_time": "2022-01-03T12:44:01.180Z"
   },
   {
    "duration": 19,
    "start_time": "2022-01-03T12:44:17.351Z"
   },
   {
    "duration": 20,
    "start_time": "2022-01-03T12:44:53.778Z"
   },
   {
    "duration": 9,
    "start_time": "2022-01-03T12:45:07.589Z"
   },
   {
    "duration": 9,
    "start_time": "2022-01-03T12:45:21.472Z"
   },
   {
    "duration": 13,
    "start_time": "2022-01-03T12:47:36.917Z"
   },
   {
    "duration": 39,
    "start_time": "2022-01-03T12:47:58.670Z"
   },
   {
    "duration": 22,
    "start_time": "2022-01-03T12:51:32.268Z"
   },
   {
    "duration": 23,
    "start_time": "2022-01-03T12:53:01.384Z"
   },
   {
    "duration": 593,
    "start_time": "2022-01-03T17:53:09.328Z"
   },
   {
    "duration": 37,
    "start_time": "2022-01-03T17:53:09.922Z"
   },
   {
    "duration": 8,
    "start_time": "2022-01-03T17:53:09.961Z"
   },
   {
    "duration": 31,
    "start_time": "2022-01-03T17:53:09.971Z"
   },
   {
    "duration": 13,
    "start_time": "2022-01-03T17:53:10.003Z"
   },
   {
    "duration": 92,
    "start_time": "2022-01-03T17:53:10.018Z"
   },
   {
    "duration": 20,
    "start_time": "2022-01-03T17:53:10.112Z"
   },
   {
    "duration": 6,
    "start_time": "2022-01-03T17:53:10.135Z"
   },
   {
    "duration": 5,
    "start_time": "2022-01-03T17:53:10.143Z"
   },
   {
    "duration": 14,
    "start_time": "2022-01-03T17:53:10.150Z"
   },
   {
    "duration": 45,
    "start_time": "2022-01-03T17:53:10.166Z"
   },
   {
    "duration": 9,
    "start_time": "2022-01-03T17:53:10.213Z"
   },
   {
    "duration": 6,
    "start_time": "2022-01-03T17:53:10.224Z"
   },
   {
    "duration": 11,
    "start_time": "2022-01-03T17:53:10.232Z"
   },
   {
    "duration": 7,
    "start_time": "2022-01-03T17:53:10.244Z"
   },
   {
    "duration": 42,
    "start_time": "2022-01-03T17:53:10.253Z"
   },
   {
    "duration": 10,
    "start_time": "2022-01-03T17:53:10.297Z"
   },
   {
    "duration": 7,
    "start_time": "2022-01-03T17:53:10.308Z"
   },
   {
    "duration": 24,
    "start_time": "2022-01-03T17:53:10.316Z"
   },
   {
    "duration": 2654,
    "start_time": "2022-01-03T17:53:10.342Z"
   },
   {
    "duration": 15,
    "start_time": "2022-01-03T17:53:12.997Z"
   },
   {
    "duration": 69,
    "start_time": "2022-01-03T17:54:56.112Z"
   },
   {
    "duration": 37,
    "start_time": "2022-01-03T17:54:56.183Z"
   },
   {
    "duration": 8,
    "start_time": "2022-01-03T17:54:56.222Z"
   },
   {
    "duration": 11,
    "start_time": "2022-01-03T17:54:56.231Z"
   },
   {
    "duration": 12,
    "start_time": "2022-01-03T17:54:56.243Z"
   },
   {
    "duration": 88,
    "start_time": "2022-01-03T17:54:56.257Z"
   },
   {
    "duration": 28,
    "start_time": "2022-01-03T17:54:56.346Z"
   },
   {
    "duration": 19,
    "start_time": "2022-01-03T17:54:56.376Z"
   },
   {
    "duration": 4,
    "start_time": "2022-01-03T17:54:56.397Z"
   },
   {
    "duration": 9,
    "start_time": "2022-01-03T17:54:56.403Z"
   },
   {
    "duration": 19,
    "start_time": "2022-01-03T17:54:56.414Z"
   },
   {
    "duration": 9,
    "start_time": "2022-01-03T17:54:56.434Z"
   },
   {
    "duration": 6,
    "start_time": "2022-01-03T17:54:56.444Z"
   },
   {
    "duration": 45,
    "start_time": "2022-01-03T17:54:56.452Z"
   },
   {
    "duration": 9,
    "start_time": "2022-01-03T17:54:56.499Z"
   },
   {
    "duration": 10,
    "start_time": "2022-01-03T17:54:56.509Z"
   },
   {
    "duration": 11,
    "start_time": "2022-01-03T17:54:56.520Z"
   },
   {
    "duration": 6,
    "start_time": "2022-01-03T17:54:56.533Z"
   },
   {
    "duration": 55,
    "start_time": "2022-01-03T17:54:56.541Z"
   },
   {
    "duration": 2659,
    "start_time": "2022-01-03T17:54:56.597Z"
   },
   {
    "duration": 20,
    "start_time": "2022-01-03T17:54:59.257Z"
   },
   {
    "duration": 453,
    "start_time": "2022-01-03T17:57:00.626Z"
   },
   {
    "duration": 1154,
    "start_time": "2022-01-03T17:57:18.227Z"
   },
   {
    "duration": 1234,
    "start_time": "2022-01-03T17:57:26.093Z"
   },
   {
    "duration": 1274,
    "start_time": "2022-01-03T17:57:47.164Z"
   },
   {
    "duration": 1143,
    "start_time": "2022-01-03T17:57:55.147Z"
   },
   {
    "duration": 1195,
    "start_time": "2022-01-03T17:58:30.675Z"
   },
   {
    "duration": 171,
    "start_time": "2022-01-03T17:58:41.626Z"
   },
   {
    "duration": 176,
    "start_time": "2022-01-03T17:59:01.144Z"
   },
   {
    "duration": 174,
    "start_time": "2022-01-03T17:59:09.092Z"
   },
   {
    "duration": 1200,
    "start_time": "2022-01-03T17:59:17.550Z"
   },
   {
    "duration": 1211,
    "start_time": "2022-01-03T18:00:10.474Z"
   },
   {
    "duration": 7,
    "start_time": "2022-01-03T18:00:17.740Z"
   },
   {
    "duration": 194,
    "start_time": "2022-01-03T18:00:47.144Z"
   },
   {
    "duration": 24,
    "start_time": "2022-01-03T18:00:59.708Z"
   },
   {
    "duration": 213,
    "start_time": "2022-01-03T18:01:05.681Z"
   },
   {
    "duration": 163,
    "start_time": "2022-01-03T18:01:20.801Z"
   },
   {
    "duration": 4,
    "start_time": "2022-01-03T18:02:08.815Z"
   },
   {
    "duration": 180,
    "start_time": "2022-01-03T18:02:13.333Z"
   },
   {
    "duration": 176,
    "start_time": "2022-01-03T18:02:25.033Z"
   },
   {
    "duration": 63,
    "start_time": "2022-01-03T18:02:38.932Z"
   },
   {
    "duration": 39,
    "start_time": "2022-01-03T18:02:38.997Z"
   },
   {
    "duration": 10,
    "start_time": "2022-01-03T18:02:39.038Z"
   },
   {
    "duration": 44,
    "start_time": "2022-01-03T18:02:39.051Z"
   },
   {
    "duration": 14,
    "start_time": "2022-01-03T18:02:39.097Z"
   },
   {
    "duration": 88,
    "start_time": "2022-01-03T18:02:39.113Z"
   },
   {
    "duration": 26,
    "start_time": "2022-01-03T18:02:39.203Z"
   },
   {
    "duration": 6,
    "start_time": "2022-01-03T18:02:39.231Z"
   },
   {
    "duration": 5,
    "start_time": "2022-01-03T18:02:39.240Z"
   },
   {
    "duration": 10,
    "start_time": "2022-01-03T18:02:39.247Z"
   },
   {
    "duration": 50,
    "start_time": "2022-01-03T18:02:39.258Z"
   },
   {
    "duration": 11,
    "start_time": "2022-01-03T18:02:39.309Z"
   },
   {
    "duration": 10,
    "start_time": "2022-01-03T18:02:39.322Z"
   },
   {
    "duration": 10,
    "start_time": "2022-01-03T18:02:39.334Z"
   },
   {
    "duration": 6,
    "start_time": "2022-01-03T18:02:39.345Z"
   },
   {
    "duration": 39,
    "start_time": "2022-01-03T18:02:39.353Z"
   },
   {
    "duration": 10,
    "start_time": "2022-01-03T18:02:39.394Z"
   },
   {
    "duration": 6,
    "start_time": "2022-01-03T18:02:39.406Z"
   },
   {
    "duration": 26,
    "start_time": "2022-01-03T18:02:39.414Z"
   },
   {
    "duration": 2777,
    "start_time": "2022-01-03T18:02:39.441Z"
   },
   {
    "duration": 17,
    "start_time": "2022-01-03T18:02:42.220Z"
   },
   {
    "duration": 30,
    "start_time": "2022-01-03T18:02:42.239Z"
   },
   {
    "duration": 32,
    "start_time": "2022-01-03T18:03:35.945Z"
   },
   {
    "duration": 20,
    "start_time": "2022-01-03T18:04:07.524Z"
   },
   {
    "duration": 5,
    "start_time": "2022-01-03T18:04:19.885Z"
   },
   {
    "duration": 175,
    "start_time": "2022-01-03T18:04:34.425Z"
   },
   {
    "duration": 12,
    "start_time": "2022-01-03T18:04:54.329Z"
   },
   {
    "duration": 12,
    "start_time": "2022-01-03T18:05:09.436Z"
   },
   {
    "duration": 19,
    "start_time": "2022-01-03T18:05:24.693Z"
   },
   {
    "duration": 9,
    "start_time": "2022-01-03T18:05:56.960Z"
   },
   {
    "duration": 8,
    "start_time": "2022-01-03T18:06:04.016Z"
   },
   {
    "duration": 7,
    "start_time": "2022-01-03T18:06:06.969Z"
   },
   {
    "duration": 243,
    "start_time": "2022-01-03T18:07:08.039Z"
   },
   {
    "duration": 2247,
    "start_time": "2022-01-03T18:07:54.033Z"
   },
   {
    "duration": 2363,
    "start_time": "2022-01-03T18:08:07.218Z"
   },
   {
    "duration": 421,
    "start_time": "2022-01-03T18:08:15.388Z"
   },
   {
    "duration": 9,
    "start_time": "2022-01-03T18:08:43.036Z"
   },
   {
    "duration": 5,
    "start_time": "2022-01-03T18:10:09.393Z"
   },
   {
    "duration": 5,
    "start_time": "2022-01-03T18:10:28.843Z"
   },
   {
    "duration": 66,
    "start_time": "2022-01-03T18:11:10.484Z"
   },
   {
    "duration": 46,
    "start_time": "2022-01-03T18:11:10.552Z"
   },
   {
    "duration": 9,
    "start_time": "2022-01-03T18:11:10.600Z"
   },
   {
    "duration": 11,
    "start_time": "2022-01-03T18:11:10.610Z"
   },
   {
    "duration": 13,
    "start_time": "2022-01-03T18:11:10.623Z"
   },
   {
    "duration": 91,
    "start_time": "2022-01-03T18:11:10.637Z"
   },
   {
    "duration": 28,
    "start_time": "2022-01-03T18:11:10.730Z"
   },
   {
    "duration": 6,
    "start_time": "2022-01-03T18:11:10.760Z"
   },
   {
    "duration": 27,
    "start_time": "2022-01-03T18:11:10.768Z"
   },
   {
    "duration": 11,
    "start_time": "2022-01-03T18:11:10.797Z"
   },
   {
    "duration": 19,
    "start_time": "2022-01-03T18:11:10.809Z"
   },
   {
    "duration": 9,
    "start_time": "2022-01-03T18:11:10.830Z"
   },
   {
    "duration": 6,
    "start_time": "2022-01-03T18:11:10.840Z"
   },
   {
    "duration": 49,
    "start_time": "2022-01-03T18:11:10.848Z"
   },
   {
    "duration": 6,
    "start_time": "2022-01-03T18:11:10.899Z"
   },
   {
    "duration": 8,
    "start_time": "2022-01-03T18:11:10.907Z"
   },
   {
    "duration": 12,
    "start_time": "2022-01-03T18:11:10.916Z"
   },
   {
    "duration": 4,
    "start_time": "2022-01-03T18:11:10.930Z"
   },
   {
    "duration": 57,
    "start_time": "2022-01-03T18:11:10.936Z"
   },
   {
    "duration": 2479,
    "start_time": "2022-01-03T18:11:10.994Z"
   },
   {
    "duration": 27,
    "start_time": "2022-01-03T18:11:13.475Z"
   },
   {
    "duration": -982,
    "start_time": "2022-01-03T18:19:51.224Z"
   },
   {
    "duration": -996,
    "start_time": "2022-01-03T18:19:51.239Z"
   },
   {
    "duration": -1020,
    "start_time": "2022-01-03T18:19:51.263Z"
   },
   {
    "duration": -1031,
    "start_time": "2022-01-03T18:19:51.275Z"
   },
   {
    "duration": -1041,
    "start_time": "2022-01-03T18:19:51.286Z"
   },
   {
    "duration": -1047,
    "start_time": "2022-01-03T18:19:51.293Z"
   },
   {
    "duration": -1052,
    "start_time": "2022-01-03T18:19:51.299Z"
   },
   {
    "duration": -1056,
    "start_time": "2022-01-03T18:19:51.304Z"
   },
   {
    "duration": -1065,
    "start_time": "2022-01-03T18:19:51.313Z"
   },
   {
    "duration": -1071,
    "start_time": "2022-01-03T18:19:51.320Z"
   },
   {
    "duration": -1075,
    "start_time": "2022-01-03T18:19:51.325Z"
   },
   {
    "duration": -1079,
    "start_time": "2022-01-03T18:19:51.330Z"
   },
   {
    "duration": -1082,
    "start_time": "2022-01-03T18:19:51.333Z"
   },
   {
    "duration": -1090,
    "start_time": "2022-01-03T18:19:51.342Z"
   },
   {
    "duration": -1092,
    "start_time": "2022-01-03T18:19:51.345Z"
   },
   {
    "duration": -1095,
    "start_time": "2022-01-03T18:19:51.348Z"
   },
   {
    "duration": -1097,
    "start_time": "2022-01-03T18:19:51.351Z"
   },
   {
    "duration": -1095,
    "start_time": "2022-01-03T18:19:51.354Z"
   },
   {
    "duration": -1097,
    "start_time": "2022-01-03T18:19:51.357Z"
   },
   {
    "duration": -1099,
    "start_time": "2022-01-03T18:19:51.360Z"
   },
   {
    "duration": -1101,
    "start_time": "2022-01-03T18:19:51.363Z"
   },
   {
    "duration": -1103,
    "start_time": "2022-01-03T18:19:51.366Z"
   },
   {
    "duration": 4880,
    "start_time": "2022-01-03T18:19:59.790Z"
   },
   {
    "duration": 67,
    "start_time": "2022-01-03T18:20:26.906Z"
   },
   {
    "duration": 42,
    "start_time": "2022-01-03T18:20:27.358Z"
   },
   {
    "duration": 9,
    "start_time": "2022-01-03T18:20:27.402Z"
   },
   {
    "duration": 11,
    "start_time": "2022-01-03T18:20:27.413Z"
   },
   {
    "duration": 13,
    "start_time": "2022-01-03T18:20:27.425Z"
   },
   {
    "duration": 110,
    "start_time": "2022-01-03T18:20:27.439Z"
   },
   {
    "duration": 46,
    "start_time": "2022-01-03T18:20:27.550Z"
   },
   {
    "duration": 6,
    "start_time": "2022-01-03T18:20:27.597Z"
   },
   {
    "duration": 6,
    "start_time": "2022-01-03T18:20:27.606Z"
   },
   {
    "duration": 11,
    "start_time": "2022-01-03T18:20:27.614Z"
   },
   {
    "duration": 21,
    "start_time": "2022-01-03T18:20:27.626Z"
   },
   {
    "duration": 44,
    "start_time": "2022-01-03T18:20:27.649Z"
   },
   {
    "duration": 6,
    "start_time": "2022-01-03T18:20:27.694Z"
   },
   {
    "duration": 11,
    "start_time": "2022-01-03T18:20:27.701Z"
   },
   {
    "duration": 6,
    "start_time": "2022-01-03T18:20:27.714Z"
   },
   {
    "duration": 9,
    "start_time": "2022-01-03T18:20:27.722Z"
   },
   {
    "duration": 10,
    "start_time": "2022-01-03T18:20:27.732Z"
   },
   {
    "duration": 6,
    "start_time": "2022-01-03T18:20:27.744Z"
   },
   {
    "duration": 63,
    "start_time": "2022-01-03T18:20:27.752Z"
   },
   {
    "duration": 2851,
    "start_time": "2022-01-03T18:20:27.817Z"
   },
   {
    "duration": 25,
    "start_time": "2022-01-03T18:20:30.670Z"
   },
   {
    "duration": 4951,
    "start_time": "2022-01-03T18:20:30.697Z"
   },
   {
    "duration": 4328,
    "start_time": "2022-01-03T18:20:46.509Z"
   },
   {
    "duration": 4074,
    "start_time": "2022-01-03T18:21:23.135Z"
   },
   {
    "duration": 5533,
    "start_time": "2022-01-03T18:21:37.789Z"
   },
   {
    "duration": 4362,
    "start_time": "2022-01-03T18:21:50.501Z"
   },
   {
    "duration": 4666,
    "start_time": "2022-01-03T18:23:26.630Z"
   },
   {
    "duration": 4257,
    "start_time": "2022-01-03T18:23:47.067Z"
   },
   {
    "duration": 12,
    "start_time": "2022-01-03T18:24:36.898Z"
   },
   {
    "duration": 8,
    "start_time": "2022-01-03T18:24:55.148Z"
   },
   {
    "duration": 8,
    "start_time": "2022-01-03T18:25:03.623Z"
   },
   {
    "duration": 9,
    "start_time": "2022-01-03T18:25:10.981Z"
   },
   {
    "duration": 178,
    "start_time": "2022-01-03T18:25:54.042Z"
   },
   {
    "duration": 179,
    "start_time": "2022-01-03T18:25:58.162Z"
   },
   {
    "duration": 30,
    "start_time": "2022-01-03T18:26:05.781Z"
   },
   {
    "duration": 24,
    "start_time": "2022-01-03T18:26:14.708Z"
   },
   {
    "duration": 177,
    "start_time": "2022-01-03T18:26:53.639Z"
   },
   {
    "duration": 10,
    "start_time": "2022-01-03T18:27:18.837Z"
   },
   {
    "duration": 15,
    "start_time": "2022-01-03T18:27:31.325Z"
   },
   {
    "duration": 24,
    "start_time": "2022-01-03T18:27:50.958Z"
   },
   {
    "duration": 23,
    "start_time": "2022-01-03T18:27:58.657Z"
   },
   {
    "duration": 11,
    "start_time": "2022-01-03T18:28:25.077Z"
   },
   {
    "duration": 12,
    "start_time": "2022-01-03T18:28:50.073Z"
   },
   {
    "duration": 12,
    "start_time": "2022-01-03T18:29:51.622Z"
   },
   {
    "duration": 11,
    "start_time": "2022-01-03T18:31:10.894Z"
   },
   {
    "duration": 912,
    "start_time": "2022-01-04T08:35:55.628Z"
   },
   {
    "duration": 95,
    "start_time": "2022-01-04T08:35:56.544Z"
   },
   {
    "duration": 16,
    "start_time": "2022-01-04T08:35:56.643Z"
   },
   {
    "duration": 15,
    "start_time": "2022-01-04T08:35:56.661Z"
   },
   {
    "duration": 49,
    "start_time": "2022-01-04T08:35:56.678Z"
   },
   {
    "duration": 114,
    "start_time": "2022-01-04T08:35:56.730Z"
   },
   {
    "duration": 38,
    "start_time": "2022-01-04T08:35:56.847Z"
   },
   {
    "duration": 10,
    "start_time": "2022-01-04T08:35:56.890Z"
   },
   {
    "duration": 7,
    "start_time": "2022-01-04T08:35:56.925Z"
   },
   {
    "duration": 30,
    "start_time": "2022-01-04T08:35:56.935Z"
   },
   {
    "duration": 72,
    "start_time": "2022-01-04T08:35:56.968Z"
   },
   {
    "duration": 16,
    "start_time": "2022-01-04T08:35:57.043Z"
   },
   {
    "duration": 9,
    "start_time": "2022-01-04T08:35:57.062Z"
   },
   {
    "duration": 16,
    "start_time": "2022-01-04T08:35:57.074Z"
   },
   {
    "duration": 10,
    "start_time": "2022-01-04T08:35:57.125Z"
   },
   {
    "duration": 15,
    "start_time": "2022-01-04T08:35:57.138Z"
   },
   {
    "duration": 13,
    "start_time": "2022-01-04T08:35:57.155Z"
   },
   {
    "duration": 12,
    "start_time": "2022-01-04T08:35:57.170Z"
   },
   {
    "duration": 35,
    "start_time": "2022-01-04T08:35:57.225Z"
   },
   {
    "duration": 3792,
    "start_time": "2022-01-04T08:35:57.262Z"
   },
   {
    "duration": 22,
    "start_time": "2022-01-04T08:36:01.056Z"
   },
   {
    "duration": 42,
    "start_time": "2022-01-04T08:36:01.081Z"
   },
   {
    "duration": 8,
    "start_time": "2022-01-04T08:59:55.019Z"
   },
   {
    "duration": 7,
    "start_time": "2022-01-04T09:00:30.615Z"
   },
   {
    "duration": 9,
    "start_time": "2022-01-04T09:00:42.694Z"
   },
   {
    "duration": 9,
    "start_time": "2022-01-04T09:01:23.633Z"
   },
   {
    "duration": 116,
    "start_time": "2022-01-04T09:02:29.329Z"
   },
   {
    "duration": 55,
    "start_time": "2022-01-04T09:02:29.448Z"
   },
   {
    "duration": 13,
    "start_time": "2022-01-04T09:02:29.525Z"
   },
   {
    "duration": 14,
    "start_time": "2022-01-04T09:02:29.541Z"
   },
   {
    "duration": 17,
    "start_time": "2022-01-04T09:02:29.557Z"
   },
   {
    "duration": 126,
    "start_time": "2022-01-04T09:02:29.576Z"
   },
   {
    "duration": 40,
    "start_time": "2022-01-04T09:02:29.705Z"
   },
   {
    "duration": 7,
    "start_time": "2022-01-04T09:02:29.749Z"
   },
   {
    "duration": 6,
    "start_time": "2022-01-04T09:02:29.759Z"
   },
   {
    "duration": 14,
    "start_time": "2022-01-04T09:02:29.767Z"
   },
   {
    "duration": 67,
    "start_time": "2022-01-04T09:02:29.784Z"
   },
   {
    "duration": 10,
    "start_time": "2022-01-04T09:02:29.853Z"
   },
   {
    "duration": 8,
    "start_time": "2022-01-04T09:02:29.866Z"
   },
   {
    "duration": 47,
    "start_time": "2022-01-04T09:02:29.877Z"
   },
   {
    "duration": 9,
    "start_time": "2022-01-04T09:02:29.927Z"
   },
   {
    "duration": 11,
    "start_time": "2022-01-04T09:02:29.939Z"
   },
   {
    "duration": 11,
    "start_time": "2022-01-04T09:02:29.952Z"
   },
   {
    "duration": 11,
    "start_time": "2022-01-04T09:02:29.965Z"
   },
   {
    "duration": 72,
    "start_time": "2022-01-04T09:02:29.979Z"
   },
   {
    "duration": 3488,
    "start_time": "2022-01-04T09:02:30.053Z"
   },
   {
    "duration": 15,
    "start_time": "2022-01-04T09:02:33.544Z"
   },
   {
    "duration": 14,
    "start_time": "2022-01-04T09:02:33.562Z"
   },
   {
    "duration": 5,
    "start_time": "2022-01-04T09:02:33.581Z"
   },
   {
    "duration": 50,
    "start_time": "2022-01-04T09:02:33.589Z"
   },
   {
    "duration": 6,
    "start_time": "2022-01-04T09:05:07.109Z"
   },
   {
    "duration": 747,
    "start_time": "2022-01-04T09:05:34.587Z"
   },
   {
    "duration": 11,
    "start_time": "2022-01-04T09:05:46.379Z"
   },
   {
    "duration": 390,
    "start_time": "2022-01-04T09:17:42.818Z"
   },
   {
    "duration": 292,
    "start_time": "2022-01-04T09:18:39.726Z"
   },
   {
    "duration": 5,
    "start_time": "2022-01-04T09:25:30.189Z"
   },
   {
    "duration": 91,
    "start_time": "2022-01-04T09:25:36.586Z"
   },
   {
    "duration": 94,
    "start_time": "2022-01-04T09:25:36.680Z"
   },
   {
    "duration": 14,
    "start_time": "2022-01-04T09:25:36.778Z"
   },
   {
    "duration": 40,
    "start_time": "2022-01-04T09:25:36.795Z"
   },
   {
    "duration": 22,
    "start_time": "2022-01-04T09:25:36.838Z"
   },
   {
    "duration": 112,
    "start_time": "2022-01-04T09:25:36.862Z"
   },
   {
    "duration": 29,
    "start_time": "2022-01-04T09:25:36.977Z"
   },
   {
    "duration": 20,
    "start_time": "2022-01-04T09:25:37.010Z"
   },
   {
    "duration": 13,
    "start_time": "2022-01-04T09:25:37.033Z"
   },
   {
    "duration": 34,
    "start_time": "2022-01-04T09:25:37.049Z"
   },
   {
    "duration": 40,
    "start_time": "2022-01-04T09:25:37.086Z"
   },
   {
    "duration": 14,
    "start_time": "2022-01-04T09:25:37.129Z"
   },
   {
    "duration": 9,
    "start_time": "2022-01-04T09:25:37.146Z"
   },
   {
    "duration": 12,
    "start_time": "2022-01-04T09:25:37.158Z"
   },
   {
    "duration": 57,
    "start_time": "2022-01-04T09:25:37.173Z"
   },
   {
    "duration": 12,
    "start_time": "2022-01-04T09:25:37.233Z"
   },
   {
    "duration": 13,
    "start_time": "2022-01-04T09:25:37.247Z"
   },
   {
    "duration": 8,
    "start_time": "2022-01-04T09:25:37.262Z"
   },
   {
    "duration": 70,
    "start_time": "2022-01-04T09:25:37.273Z"
   },
   {
    "duration": 3231,
    "start_time": "2022-01-04T09:25:37.345Z"
   },
   {
    "duration": 12,
    "start_time": "2022-01-04T09:25:40.579Z"
   },
   {
    "duration": 11,
    "start_time": "2022-01-04T09:25:40.593Z"
   },
   {
    "duration": 23,
    "start_time": "2022-01-04T09:25:40.608Z"
   },
   {
    "duration": 20,
    "start_time": "2022-01-04T09:25:40.633Z"
   },
   {
    "duration": 7258,
    "start_time": "2022-01-04T09:26:29.454Z"
   },
   {
    "duration": 5,
    "start_time": "2022-01-04T09:28:23.998Z"
   },
   {
    "duration": 17,
    "start_time": "2022-01-04T09:29:04.305Z"
   },
   {
    "duration": 14,
    "start_time": "2022-01-04T09:29:09.275Z"
   },
   {
    "duration": 15,
    "start_time": "2022-01-04T09:29:12.650Z"
   },
   {
    "duration": 19,
    "start_time": "2022-01-04T09:29:25.968Z"
   },
   {
    "duration": 1711,
    "start_time": "2022-01-04T09:30:09.835Z"
   },
   {
    "duration": 19,
    "start_time": "2022-01-04T09:30:30.078Z"
   },
   {
    "duration": 20,
    "start_time": "2022-01-04T09:30:56.068Z"
   },
   {
    "duration": 20,
    "start_time": "2022-01-04T09:31:27.231Z"
   },
   {
    "duration": 17,
    "start_time": "2022-01-04T09:32:22.311Z"
   },
   {
    "duration": 24,
    "start_time": "2022-01-04T09:32:57.637Z"
   },
   {
    "duration": 318,
    "start_time": "2022-01-04T09:34:35.428Z"
   },
   {
    "duration": 31,
    "start_time": "2022-01-04T09:35:07.131Z"
   },
   {
    "duration": 19,
    "start_time": "2022-01-04T09:35:11.038Z"
   },
   {
    "duration": 84,
    "start_time": "2022-01-04T09:35:15.785Z"
   },
   {
    "duration": 78,
    "start_time": "2022-01-04T09:35:15.872Z"
   },
   {
    "duration": 12,
    "start_time": "2022-01-04T09:35:15.953Z"
   },
   {
    "duration": 15,
    "start_time": "2022-01-04T09:35:15.968Z"
   },
   {
    "duration": 45,
    "start_time": "2022-01-04T09:35:15.985Z"
   },
   {
    "duration": 117,
    "start_time": "2022-01-04T09:35:16.033Z"
   },
   {
    "duration": 31,
    "start_time": "2022-01-04T09:35:16.153Z"
   },
   {
    "duration": 7,
    "start_time": "2022-01-04T09:35:16.188Z"
   },
   {
    "duration": 27,
    "start_time": "2022-01-04T09:35:16.198Z"
   },
   {
    "duration": 13,
    "start_time": "2022-01-04T09:35:16.228Z"
   },
   {
    "duration": 33,
    "start_time": "2022-01-04T09:35:16.244Z"
   },
   {
    "duration": 43,
    "start_time": "2022-01-04T09:35:16.280Z"
   },
   {
    "duration": 8,
    "start_time": "2022-01-04T09:35:16.325Z"
   },
   {
    "duration": 14,
    "start_time": "2022-01-04T09:35:16.336Z"
   },
   {
    "duration": 8,
    "start_time": "2022-01-04T09:35:16.352Z"
   },
   {
    "duration": 15,
    "start_time": "2022-01-04T09:35:16.362Z"
   },
   {
    "duration": 50,
    "start_time": "2022-01-04T09:35:16.379Z"
   },
   {
    "duration": 10,
    "start_time": "2022-01-04T09:35:16.431Z"
   },
   {
    "duration": 34,
    "start_time": "2022-01-04T09:35:16.443Z"
   },
   {
    "duration": 3138,
    "start_time": "2022-01-04T09:35:16.479Z"
   },
   {
    "duration": 10,
    "start_time": "2022-01-04T09:35:19.624Z"
   },
   {
    "duration": 31,
    "start_time": "2022-01-04T09:35:19.637Z"
   },
   {
    "duration": 5,
    "start_time": "2022-01-04T09:35:19.672Z"
   },
   {
    "duration": 45,
    "start_time": "2022-01-04T09:35:19.679Z"
   },
   {
    "duration": 306,
    "start_time": "2022-01-04T09:38:54.462Z"
   },
   {
    "duration": 308,
    "start_time": "2022-01-04T09:39:12.178Z"
   },
   {
    "duration": 7,
    "start_time": "2022-01-04T09:39:19.299Z"
   },
   {
    "duration": 16,
    "start_time": "2022-01-04T09:39:37.814Z"
   },
   {
    "duration": 85,
    "start_time": "2022-01-04T09:48:52.340Z"
   },
   {
    "duration": 61,
    "start_time": "2022-01-04T09:48:52.428Z"
   },
   {
    "duration": 36,
    "start_time": "2022-01-04T09:48:52.492Z"
   },
   {
    "duration": 14,
    "start_time": "2022-01-04T09:48:52.530Z"
   },
   {
    "duration": 17,
    "start_time": "2022-01-04T09:48:52.546Z"
   },
   {
    "duration": 120,
    "start_time": "2022-01-04T09:48:52.565Z"
   },
   {
    "duration": 40,
    "start_time": "2022-01-04T09:48:52.688Z"
   },
   {
    "duration": 8,
    "start_time": "2022-01-04T09:48:52.732Z"
   },
   {
    "duration": 6,
    "start_time": "2022-01-04T09:48:52.743Z"
   },
   {
    "duration": 14,
    "start_time": "2022-01-04T09:48:52.751Z"
   },
   {
    "duration": 66,
    "start_time": "2022-01-04T09:48:52.768Z"
   },
   {
    "duration": 13,
    "start_time": "2022-01-04T09:48:52.837Z"
   },
   {
    "duration": 10,
    "start_time": "2022-01-04T09:48:52.852Z"
   },
   {
    "duration": 12,
    "start_time": "2022-01-04T09:48:52.865Z"
   },
   {
    "duration": 52,
    "start_time": "2022-01-04T09:48:52.879Z"
   },
   {
    "duration": 11,
    "start_time": "2022-01-04T09:48:52.933Z"
   },
   {
    "duration": 12,
    "start_time": "2022-01-04T09:48:52.946Z"
   },
   {
    "duration": 11,
    "start_time": "2022-01-04T09:48:52.960Z"
   },
   {
    "duration": 61,
    "start_time": "2022-01-04T09:48:52.974Z"
   },
   {
    "duration": 3263,
    "start_time": "2022-01-04T09:48:53.037Z"
   },
   {
    "duration": 22,
    "start_time": "2022-01-04T09:48:56.302Z"
   },
   {
    "duration": 36,
    "start_time": "2022-01-04T09:48:56.326Z"
   },
   {
    "duration": 16,
    "start_time": "2022-01-04T09:48:56.366Z"
   },
   {
    "duration": 26,
    "start_time": "2022-01-04T09:50:51.697Z"
   },
   {
    "duration": 90,
    "start_time": "2022-01-04T09:56:53.947Z"
   },
   {
    "duration": 63,
    "start_time": "2022-01-04T09:56:54.039Z"
   },
   {
    "duration": 15,
    "start_time": "2022-01-04T09:56:54.125Z"
   },
   {
    "duration": 14,
    "start_time": "2022-01-04T09:56:54.142Z"
   },
   {
    "duration": 16,
    "start_time": "2022-01-04T09:56:54.159Z"
   },
   {
    "duration": 174,
    "start_time": "2022-01-04T09:56:54.177Z"
   },
   {
    "duration": 32,
    "start_time": "2022-01-04T09:56:54.353Z"
   },
   {
    "duration": 9,
    "start_time": "2022-01-04T09:56:54.388Z"
   },
   {
    "duration": 6,
    "start_time": "2022-01-04T09:56:54.424Z"
   },
   {
    "duration": 17,
    "start_time": "2022-01-04T09:56:54.432Z"
   },
   {
    "duration": 33,
    "start_time": "2022-01-04T09:56:54.451Z"
   },
   {
    "duration": 39,
    "start_time": "2022-01-04T09:56:54.486Z"
   },
   {
    "duration": 9,
    "start_time": "2022-01-04T09:56:54.528Z"
   },
   {
    "duration": 67,
    "start_time": "2022-01-04T09:56:54.539Z"
   },
   {
    "duration": 13,
    "start_time": "2022-01-04T09:56:54.609Z"
   },
   {
    "duration": 12,
    "start_time": "2022-01-04T09:56:54.625Z"
   },
   {
    "duration": 22,
    "start_time": "2022-01-04T09:56:54.639Z"
   },
   {
    "duration": 8,
    "start_time": "2022-01-04T09:56:54.663Z"
   },
   {
    "duration": 58,
    "start_time": "2022-01-04T09:56:54.673Z"
   },
   {
    "duration": 3770,
    "start_time": "2022-01-04T09:56:54.734Z"
   },
   {
    "duration": 21,
    "start_time": "2022-01-04T09:56:58.506Z"
   },
   {
    "duration": 43,
    "start_time": "2022-01-04T09:56:58.530Z"
   },
   {
    "duration": 129,
    "start_time": "2022-01-04T09:56:58.577Z"
   },
   {
    "duration": -280,
    "start_time": "2022-01-04T09:56:58.989Z"
   },
   {
    "duration": 1007,
    "start_time": "2022-01-04T10:01:16.354Z"
   },
   {
    "duration": 693,
    "start_time": "2022-01-04T10:03:28.983Z"
   },
   {
    "duration": 877,
    "start_time": "2022-01-04T10:03:40.220Z"
   },
   {
    "duration": 6,
    "start_time": "2022-01-04T10:05:49.405Z"
   },
   {
    "duration": 6,
    "start_time": "2022-01-04T10:05:58.726Z"
   },
   {
    "duration": 10,
    "start_time": "2022-01-04T10:06:03.613Z"
   },
   {
    "duration": 337,
    "start_time": "2022-01-04T10:06:16.442Z"
   },
   {
    "duration": 10,
    "start_time": "2022-01-04T10:06:26.144Z"
   },
   {
    "duration": 293,
    "start_time": "2022-01-04T10:17:14.457Z"
   },
   {
    "duration": 89,
    "start_time": "2022-01-04T10:19:18.535Z"
   },
   {
    "duration": 54,
    "start_time": "2022-01-04T10:19:18.627Z"
   },
   {
    "duration": 10,
    "start_time": "2022-01-04T10:19:18.685Z"
   },
   {
    "duration": 14,
    "start_time": "2022-01-04T10:19:18.724Z"
   },
   {
    "duration": 17,
    "start_time": "2022-01-04T10:19:18.741Z"
   },
   {
    "duration": 125,
    "start_time": "2022-01-04T10:19:18.760Z"
   },
   {
    "duration": 48,
    "start_time": "2022-01-04T10:19:18.887Z"
   },
   {
    "duration": 9,
    "start_time": "2022-01-04T10:19:18.939Z"
   },
   {
    "duration": 11,
    "start_time": "2022-01-04T10:19:18.951Z"
   },
   {
    "duration": 16,
    "start_time": "2022-01-04T10:19:18.964Z"
   },
   {
    "duration": 57,
    "start_time": "2022-01-04T10:19:18.982Z"
   },
   {
    "duration": 13,
    "start_time": "2022-01-04T10:19:19.041Z"
   },
   {
    "duration": 9,
    "start_time": "2022-01-04T10:19:19.057Z"
   },
   {
    "duration": 12,
    "start_time": "2022-01-04T10:19:19.069Z"
   },
   {
    "duration": 45,
    "start_time": "2022-01-04T10:19:19.084Z"
   },
   {
    "duration": 11,
    "start_time": "2022-01-04T10:19:19.132Z"
   },
   {
    "duration": 12,
    "start_time": "2022-01-04T10:19:19.145Z"
   },
   {
    "duration": 8,
    "start_time": "2022-01-04T10:19:19.159Z"
   },
   {
    "duration": 75,
    "start_time": "2022-01-04T10:19:19.169Z"
   },
   {
    "duration": 3703,
    "start_time": "2022-01-04T10:19:19.246Z"
   },
   {
    "duration": 14,
    "start_time": "2022-01-04T10:19:22.951Z"
   },
   {
    "duration": 55,
    "start_time": "2022-01-04T10:19:22.968Z"
   },
   {
    "duration": 18,
    "start_time": "2022-01-04T10:19:23.028Z"
   },
   {
    "duration": 9,
    "start_time": "2022-01-04T10:21:38.092Z"
   },
   {
    "duration": 7,
    "start_time": "2022-01-04T10:21:52.456Z"
   },
   {
    "duration": 11,
    "start_time": "2022-01-04T10:21:58.713Z"
   },
   {
    "duration": 10,
    "start_time": "2022-01-04T10:22:09.183Z"
   },
   {
    "duration": 9,
    "start_time": "2022-01-04T10:22:26.671Z"
   },
   {
    "duration": 11,
    "start_time": "2022-01-04T10:23:03.860Z"
   },
   {
    "duration": 403,
    "start_time": "2022-01-04T10:25:52.882Z"
   },
   {
    "duration": 303,
    "start_time": "2022-01-04T10:26:05.329Z"
   },
   {
    "duration": 12,
    "start_time": "2022-01-04T10:26:14.979Z"
   },
   {
    "duration": 304,
    "start_time": "2022-01-04T10:27:10.588Z"
   },
   {
    "duration": 27,
    "start_time": "2022-01-04T10:27:19.394Z"
   },
   {
    "duration": 300,
    "start_time": "2022-01-04T10:27:35.480Z"
   },
   {
    "duration": 318,
    "start_time": "2022-01-04T10:27:40.266Z"
   },
   {
    "duration": 14,
    "start_time": "2022-01-04T10:27:47.254Z"
   },
   {
    "duration": 14,
    "start_time": "2022-01-04T10:28:45.903Z"
   },
   {
    "duration": 984,
    "start_time": "2022-01-04T10:32:21.309Z"
   },
   {
    "duration": 952,
    "start_time": "2022-01-04T10:32:43.398Z"
   },
   {
    "duration": 956,
    "start_time": "2022-01-04T10:35:38.431Z"
   },
   {
    "duration": 96,
    "start_time": "2022-01-04T10:35:51.441Z"
   },
   {
    "duration": 87,
    "start_time": "2022-01-04T10:35:51.540Z"
   },
   {
    "duration": 14,
    "start_time": "2022-01-04T10:35:51.630Z"
   },
   {
    "duration": 23,
    "start_time": "2022-01-04T10:35:51.647Z"
   },
   {
    "duration": 56,
    "start_time": "2022-01-04T10:35:51.673Z"
   },
   {
    "duration": 134,
    "start_time": "2022-01-04T10:35:51.731Z"
   },
   {
    "duration": 58,
    "start_time": "2022-01-04T10:35:51.868Z"
   },
   {
    "duration": 11,
    "start_time": "2022-01-04T10:35:51.932Z"
   },
   {
    "duration": 10,
    "start_time": "2022-01-04T10:35:51.947Z"
   },
   {
    "duration": 21,
    "start_time": "2022-01-04T10:35:51.961Z"
   },
   {
    "duration": 87,
    "start_time": "2022-01-04T10:35:51.985Z"
   },
   {
    "duration": 21,
    "start_time": "2022-01-04T10:35:52.075Z"
   },
   {
    "duration": 10,
    "start_time": "2022-01-04T10:35:52.125Z"
   },
   {
    "duration": 15,
    "start_time": "2022-01-04T10:35:52.138Z"
   },
   {
    "duration": 12,
    "start_time": "2022-01-04T10:35:52.156Z"
   },
   {
    "duration": 20,
    "start_time": "2022-01-04T10:35:52.170Z"
   },
   {
    "duration": 26,
    "start_time": "2022-01-04T10:35:52.225Z"
   },
   {
    "duration": 19,
    "start_time": "2022-01-04T10:35:52.254Z"
   },
   {
    "duration": 65,
    "start_time": "2022-01-04T10:35:52.276Z"
   },
   {
    "duration": 4039,
    "start_time": "2022-01-04T10:35:52.344Z"
   },
   {
    "duration": 15,
    "start_time": "2022-01-04T10:35:56.385Z"
   },
   {
    "duration": 45,
    "start_time": "2022-01-04T10:35:56.403Z"
   },
   {
    "duration": 302,
    "start_time": "2022-01-04T10:35:56.453Z"
   },
   {
    "duration": -397,
    "start_time": "2022-01-04T10:35:57.154Z"
   },
   {
    "duration": -403,
    "start_time": "2022-01-04T10:35:57.162Z"
   },
   {
    "duration": 12,
    "start_time": "2022-01-04T10:36:07.507Z"
   },
   {
    "duration": 85,
    "start_time": "2022-01-04T10:36:12.364Z"
   },
   {
    "duration": 81,
    "start_time": "2022-01-04T10:36:12.452Z"
   },
   {
    "duration": 13,
    "start_time": "2022-01-04T10:36:12.536Z"
   },
   {
    "duration": 14,
    "start_time": "2022-01-04T10:36:12.552Z"
   },
   {
    "duration": 58,
    "start_time": "2022-01-04T10:36:12.568Z"
   },
   {
    "duration": 115,
    "start_time": "2022-01-04T10:36:12.628Z"
   },
   {
    "duration": 28,
    "start_time": "2022-01-04T10:36:12.746Z"
   },
   {
    "duration": 8,
    "start_time": "2022-01-04T10:36:12.778Z"
   },
   {
    "duration": 34,
    "start_time": "2022-01-04T10:36:12.789Z"
   },
   {
    "duration": 14,
    "start_time": "2022-01-04T10:36:12.825Z"
   },
   {
    "duration": 31,
    "start_time": "2022-01-04T10:36:12.841Z"
   },
   {
    "duration": 12,
    "start_time": "2022-01-04T10:36:12.874Z"
   },
   {
    "duration": 7,
    "start_time": "2022-01-04T10:36:12.924Z"
   },
   {
    "duration": 17,
    "start_time": "2022-01-04T10:36:12.933Z"
   },
   {
    "duration": 14,
    "start_time": "2022-01-04T10:36:12.952Z"
   },
   {
    "duration": 17,
    "start_time": "2022-01-04T10:36:12.969Z"
   },
   {
    "duration": 42,
    "start_time": "2022-01-04T10:36:12.988Z"
   },
   {
    "duration": 11,
    "start_time": "2022-01-04T10:36:13.033Z"
   },
   {
    "duration": 30,
    "start_time": "2022-01-04T10:36:13.047Z"
   },
   {
    "duration": 3803,
    "start_time": "2022-01-04T10:36:13.080Z"
   },
   {
    "duration": 18,
    "start_time": "2022-01-04T10:36:16.886Z"
   },
   {
    "duration": 48,
    "start_time": "2022-01-04T10:36:16.906Z"
   },
   {
    "duration": 12,
    "start_time": "2022-01-04T10:36:16.958Z"
   },
   {
    "duration": 10,
    "start_time": "2022-01-04T10:36:16.972Z"
   },
   {
    "duration": 993,
    "start_time": "2022-01-04T10:36:16.985Z"
   },
   {
    "duration": 1307,
    "start_time": "2022-01-04T10:38:27.906Z"
   },
   {
    "duration": 999,
    "start_time": "2022-01-04T10:38:45.624Z"
   },
   {
    "duration": 11,
    "start_time": "2022-01-04T10:39:02.240Z"
   },
   {
    "duration": 98,
    "start_time": "2022-01-04T12:46:04.997Z"
   },
   {
    "duration": 140,
    "start_time": "2022-01-04T12:46:09.313Z"
   },
   {
    "duration": 90,
    "start_time": "2022-01-04T12:46:09.456Z"
   },
   {
    "duration": 18,
    "start_time": "2022-01-04T12:46:09.550Z"
   },
   {
    "duration": 16,
    "start_time": "2022-01-04T12:46:09.572Z"
   },
   {
    "duration": 48,
    "start_time": "2022-01-04T12:46:09.590Z"
   },
   {
    "duration": 160,
    "start_time": "2022-01-04T12:46:09.641Z"
   },
   {
    "duration": 48,
    "start_time": "2022-01-04T12:46:09.805Z"
   },
   {
    "duration": 9,
    "start_time": "2022-01-04T12:46:09.856Z"
   },
   {
    "duration": 7,
    "start_time": "2022-01-04T12:46:09.872Z"
   },
   {
    "duration": 47,
    "start_time": "2022-01-04T12:46:09.882Z"
   },
   {
    "duration": 47,
    "start_time": "2022-01-04T12:46:09.932Z"
   },
   {
    "duration": 16,
    "start_time": "2022-01-04T12:46:09.982Z"
   },
   {
    "duration": 10,
    "start_time": "2022-01-04T12:46:10.024Z"
   },
   {
    "duration": 20,
    "start_time": "2022-01-04T12:46:10.037Z"
   },
   {
    "duration": 11,
    "start_time": "2022-01-04T12:46:10.060Z"
   },
   {
    "duration": 15,
    "start_time": "2022-01-04T12:46:10.074Z"
   },
   {
    "duration": 16,
    "start_time": "2022-01-04T12:46:10.124Z"
   },
   {
    "duration": 9,
    "start_time": "2022-01-04T12:46:10.142Z"
   },
   {
    "duration": 71,
    "start_time": "2022-01-04T12:46:10.154Z"
   },
   {
    "duration": 4103,
    "start_time": "2022-01-04T12:46:10.228Z"
   },
   {
    "duration": 15,
    "start_time": "2022-01-04T12:46:14.334Z"
   },
   {
    "duration": 56,
    "start_time": "2022-01-04T12:46:14.352Z"
   },
   {
    "duration": 12,
    "start_time": "2022-01-04T12:46:14.422Z"
   },
   {
    "duration": 10,
    "start_time": "2022-01-04T12:46:14.437Z"
   },
   {
    "duration": 1717,
    "start_time": "2022-01-05T12:17:57.987Z"
   },
   {
    "duration": 81,
    "start_time": "2022-01-05T12:17:59.708Z"
   },
   {
    "duration": 13,
    "start_time": "2022-01-05T12:17:59.792Z"
   },
   {
    "duration": 15,
    "start_time": "2022-01-05T12:17:59.807Z"
   },
   {
    "duration": 56,
    "start_time": "2022-01-05T12:17:59.826Z"
   },
   {
    "duration": 170,
    "start_time": "2022-01-05T12:17:59.885Z"
   },
   {
    "duration": 46,
    "start_time": "2022-01-05T12:18:00.063Z"
   },
   {
    "duration": 12,
    "start_time": "2022-01-05T12:18:00.115Z"
   },
   {
    "duration": 37,
    "start_time": "2022-01-05T12:18:00.131Z"
   },
   {
    "duration": 26,
    "start_time": "2022-01-05T12:18:00.171Z"
   },
   {
    "duration": 36,
    "start_time": "2022-01-05T12:18:00.199Z"
   },
   {
    "duration": 38,
    "start_time": "2022-01-05T12:18:00.237Z"
   },
   {
    "duration": 9,
    "start_time": "2022-01-05T12:18:00.277Z"
   },
   {
    "duration": 11,
    "start_time": "2022-01-05T12:18:00.289Z"
   },
   {
    "duration": 16,
    "start_time": "2022-01-05T12:18:00.302Z"
   },
   {
    "duration": 49,
    "start_time": "2022-01-05T12:18:00.321Z"
   },
   {
    "duration": 22,
    "start_time": "2022-01-05T12:18:00.372Z"
   },
   {
    "duration": 20,
    "start_time": "2022-01-05T12:18:00.397Z"
   },
   {
    "duration": 74,
    "start_time": "2022-01-05T12:18:00.420Z"
   },
   {
    "duration": 3682,
    "start_time": "2022-01-05T12:18:00.498Z"
   },
   {
    "duration": 14,
    "start_time": "2022-01-05T12:18:04.183Z"
   },
   {
    "duration": 67,
    "start_time": "2022-01-05T12:18:04.200Z"
   },
   {
    "duration": 17,
    "start_time": "2022-01-05T12:18:04.273Z"
   },
   {
    "duration": 13,
    "start_time": "2022-01-05T12:18:04.292Z"
   },
   {
    "duration": 1151,
    "start_time": "2022-01-05T12:18:04.307Z"
   },
   {
    "duration": 58,
    "start_time": "2022-01-05T12:28:32.558Z"
   },
   {
    "duration": 42,
    "start_time": "2022-01-05T12:28:59.196Z"
   },
   {
    "duration": 38,
    "start_time": "2022-01-05T12:29:22.953Z"
   },
   {
    "duration": 33,
    "start_time": "2022-01-05T12:29:35.415Z"
   },
   {
    "duration": 1648,
    "start_time": "2022-01-08T09:21:35.445Z"
   },
   {
    "duration": 62,
    "start_time": "2022-01-08T09:21:37.096Z"
   },
   {
    "duration": 12,
    "start_time": "2022-01-08T09:21:37.161Z"
   },
   {
    "duration": 42,
    "start_time": "2022-01-08T09:21:37.176Z"
   },
   {
    "duration": 17,
    "start_time": "2022-01-08T09:21:37.221Z"
   },
   {
    "duration": 116,
    "start_time": "2022-01-08T09:21:37.241Z"
   },
   {
    "duration": 28,
    "start_time": "2022-01-08T09:21:37.359Z"
   },
   {
    "duration": 29,
    "start_time": "2022-01-08T09:21:37.391Z"
   },
   {
    "duration": 6,
    "start_time": "2022-01-08T09:21:37.423Z"
   },
   {
    "duration": 18,
    "start_time": "2022-01-08T09:21:37.431Z"
   },
   {
    "duration": 32,
    "start_time": "2022-01-08T09:21:37.451Z"
   },
   {
    "duration": 13,
    "start_time": "2022-01-08T09:21:37.518Z"
   },
   {
    "duration": 8,
    "start_time": "2022-01-08T09:21:37.533Z"
   },
   {
    "duration": 11,
    "start_time": "2022-01-08T09:21:37.543Z"
   },
   {
    "duration": 7,
    "start_time": "2022-01-08T09:21:37.557Z"
   },
   {
    "duration": 56,
    "start_time": "2022-01-08T09:21:37.566Z"
   },
   {
    "duration": 11,
    "start_time": "2022-01-08T09:21:37.625Z"
   },
   {
    "duration": 10,
    "start_time": "2022-01-08T09:21:37.638Z"
   },
   {
    "duration": 71,
    "start_time": "2022-01-08T09:21:37.650Z"
   },
   {
    "duration": 3618,
    "start_time": "2022-01-08T09:21:37.723Z"
   },
   {
    "duration": 10,
    "start_time": "2022-01-08T09:21:41.343Z"
   },
   {
    "duration": 36,
    "start_time": "2022-01-08T09:21:41.356Z"
   },
   {
    "duration": 13,
    "start_time": "2022-01-08T09:21:41.417Z"
   },
   {
    "duration": 11,
    "start_time": "2022-01-08T09:21:41.433Z"
   },
   {
    "duration": 1012,
    "start_time": "2022-01-08T09:21:41.446Z"
   },
   {
    "duration": 3,
    "start_time": "2022-01-08T09:26:23.207Z"
   },
   {
    "duration": 19,
    "start_time": "2022-01-08T09:26:33.826Z"
   },
   {
    "duration": 710,
    "start_time": "2022-01-08T09:28:34.407Z"
   },
   {
    "duration": 9,
    "start_time": "2022-01-08T09:28:46.026Z"
   },
   {
    "duration": 9,
    "start_time": "2022-01-08T09:29:03.967Z"
   },
   {
    "duration": 7,
    "start_time": "2022-01-08T09:29:16.066Z"
   },
   {
    "duration": 7,
    "start_time": "2022-01-08T09:29:27.147Z"
   },
   {
    "duration": 41,
    "start_time": "2022-01-08T09:31:58.087Z"
   },
   {
    "duration": 31,
    "start_time": "2022-01-08T09:32:11.199Z"
   },
   {
    "duration": 39,
    "start_time": "2022-01-08T09:32:38.769Z"
   },
   {
    "duration": 310,
    "start_time": "2022-01-08T09:33:20.943Z"
   },
   {
    "duration": 43,
    "start_time": "2022-01-08T09:33:31.667Z"
   },
   {
    "duration": 34,
    "start_time": "2022-01-08T09:33:44.715Z"
   },
   {
    "duration": 31,
    "start_time": "2022-01-08T09:34:21.366Z"
   },
   {
    "duration": 37,
    "start_time": "2022-01-08T09:35:43.456Z"
   },
   {
    "duration": 54,
    "start_time": "2022-01-08T09:35:59.062Z"
   },
   {
    "duration": 34,
    "start_time": "2022-01-08T09:36:15.286Z"
   },
   {
    "duration": 17,
    "start_time": "2022-01-08T09:39:00.502Z"
   },
   {
    "duration": 18,
    "start_time": "2022-01-08T09:39:09.428Z"
   },
   {
    "duration": 36,
    "start_time": "2022-01-08T09:45:19.690Z"
   },
   {
    "duration": 41,
    "start_time": "2022-01-08T09:45:48.510Z"
   },
   {
    "duration": 44,
    "start_time": "2022-01-08T09:45:57.398Z"
   },
   {
    "duration": 36,
    "start_time": "2022-01-08T09:47:26.949Z"
   },
   {
    "duration": 38,
    "start_time": "2022-01-08T09:47:29.216Z"
   },
   {
    "duration": 37,
    "start_time": "2022-01-08T09:47:39.030Z"
   },
   {
    "duration": 57,
    "start_time": "2022-01-08T09:48:04.593Z"
   },
   {
    "duration": 39,
    "start_time": "2022-01-08T09:50:50.214Z"
   },
   {
    "duration": 356,
    "start_time": "2022-01-08T09:51:22.394Z"
   },
   {
    "duration": 338,
    "start_time": "2022-01-08T09:51:45.396Z"
   },
   {
    "duration": 93,
    "start_time": "2022-01-08T09:51:49.787Z"
   },
   {
    "duration": 79,
    "start_time": "2022-01-08T09:51:49.883Z"
   },
   {
    "duration": 13,
    "start_time": "2022-01-08T09:51:49.966Z"
   },
   {
    "duration": 49,
    "start_time": "2022-01-08T09:51:49.982Z"
   },
   {
    "duration": 33,
    "start_time": "2022-01-08T09:51:50.034Z"
   },
   {
    "duration": 109,
    "start_time": "2022-01-08T09:51:50.069Z"
   },
   {
    "duration": 40,
    "start_time": "2022-01-08T09:51:50.181Z"
   },
   {
    "duration": 8,
    "start_time": "2022-01-08T09:51:50.225Z"
   },
   {
    "duration": 7,
    "start_time": "2022-01-08T09:51:50.236Z"
   },
   {
    "duration": 20,
    "start_time": "2022-01-08T09:51:50.245Z"
   },
   {
    "duration": 8,
    "start_time": "2022-01-08T09:51:50.268Z"
   },
   {
    "duration": 19,
    "start_time": "2022-01-08T09:51:50.316Z"
   },
   {
    "duration": 13,
    "start_time": "2022-01-08T09:51:50.337Z"
   },
   {
    "duration": 12,
    "start_time": "2022-01-08T09:51:50.352Z"
   },
   {
    "duration": 17,
    "start_time": "2022-01-08T09:51:50.366Z"
   },
   {
    "duration": 49,
    "start_time": "2022-01-08T09:51:50.385Z"
   },
   {
    "duration": 13,
    "start_time": "2022-01-08T09:51:50.437Z"
   },
   {
    "duration": 14,
    "start_time": "2022-01-08T09:51:50.454Z"
   },
   {
    "duration": 65,
    "start_time": "2022-01-08T09:51:50.471Z"
   },
   {
    "duration": 3868,
    "start_time": "2022-01-08T09:51:50.538Z"
   },
   {
    "duration": 19,
    "start_time": "2022-01-08T09:51:54.410Z"
   },
   {
    "duration": 423,
    "start_time": "2022-01-08T09:51:54.432Z"
   },
   {
    "duration": -540,
    "start_time": "2022-01-08T09:51:55.399Z"
   },
   {
    "duration": -543,
    "start_time": "2022-01-08T09:51:55.404Z"
   },
   {
    "duration": -544,
    "start_time": "2022-01-08T09:51:55.408Z"
   },
   {
    "duration": -562,
    "start_time": "2022-01-08T09:51:55.428Z"
   },
   {
    "duration": 40,
    "start_time": "2022-01-08T09:52:34.076Z"
   },
   {
    "duration": 63,
    "start_time": "2022-01-08T09:53:18.558Z"
   },
   {
    "duration": 13,
    "start_time": "2022-01-08T09:53:49.909Z"
   },
   {
    "duration": 967,
    "start_time": "2022-01-08T09:54:13.587Z"
   },
   {
    "duration": 1617,
    "start_time": "2022-01-08T11:31:34.770Z"
   },
   {
    "duration": 72,
    "start_time": "2022-01-08T11:31:36.390Z"
   },
   {
    "duration": 13,
    "start_time": "2022-01-08T11:31:36.466Z"
   },
   {
    "duration": 42,
    "start_time": "2022-01-08T11:31:36.483Z"
   },
   {
    "duration": 18,
    "start_time": "2022-01-08T11:31:36.527Z"
   },
   {
    "duration": 118,
    "start_time": "2022-01-08T11:31:36.547Z"
   },
   {
    "duration": 33,
    "start_time": "2022-01-08T11:31:36.667Z"
   },
   {
    "duration": 10,
    "start_time": "2022-01-08T11:31:36.718Z"
   },
   {
    "duration": 6,
    "start_time": "2022-01-08T11:31:36.731Z"
   },
   {
    "duration": 29,
    "start_time": "2022-01-08T11:31:36.739Z"
   },
   {
    "duration": 16,
    "start_time": "2022-01-08T11:31:36.771Z"
   },
   {
    "duration": 34,
    "start_time": "2022-01-08T11:31:36.789Z"
   },
   {
    "duration": 20,
    "start_time": "2022-01-08T11:31:36.825Z"
   },
   {
    "duration": 19,
    "start_time": "2022-01-08T11:31:36.847Z"
   },
   {
    "duration": 12,
    "start_time": "2022-01-08T11:31:36.868Z"
   },
   {
    "duration": 25,
    "start_time": "2022-01-08T11:31:36.882Z"
   },
   {
    "duration": 11,
    "start_time": "2022-01-08T11:31:36.916Z"
   },
   {
    "duration": 19,
    "start_time": "2022-01-08T11:31:36.930Z"
   },
   {
    "duration": 42,
    "start_time": "2022-01-08T11:31:36.951Z"
   },
   {
    "duration": 3516,
    "start_time": "2022-01-08T11:31:36.995Z"
   },
   {
    "duration": 10,
    "start_time": "2022-01-08T11:31:40.516Z"
   },
   {
    "duration": 55,
    "start_time": "2022-01-08T11:31:40.528Z"
   },
   {
    "duration": 36,
    "start_time": "2022-01-08T11:31:40.586Z"
   },
   {
    "duration": 10,
    "start_time": "2022-01-08T11:31:40.624Z"
   },
   {
    "duration": 11,
    "start_time": "2022-01-08T11:31:40.636Z"
   },
   {
    "duration": 996,
    "start_time": "2022-01-08T11:31:40.649Z"
   },
   {
    "duration": 65,
    "start_time": "2022-01-08T11:35:26.742Z"
   },
   {
    "duration": 12,
    "start_time": "2022-01-08T11:38:15.891Z"
   },
   {
    "duration": 22,
    "start_time": "2022-01-08T11:49:28.991Z"
   },
   {
    "duration": 18,
    "start_time": "2022-01-08T11:53:00.640Z"
   },
   {
    "duration": 11,
    "start_time": "2022-01-08T11:53:26.457Z"
   },
   {
    "duration": 12,
    "start_time": "2022-01-08T11:54:36.629Z"
   },
   {
    "duration": 26,
    "start_time": "2022-01-08T12:01:10.351Z"
   },
   {
    "duration": 58,
    "start_time": "2022-01-08T12:01:22.130Z"
   },
   {
    "duration": 455,
    "start_time": "2022-01-08T12:01:56.059Z"
   },
   {
    "duration": 64,
    "start_time": "2022-01-08T12:03:10.170Z"
   },
   {
    "duration": 67,
    "start_time": "2022-01-08T12:03:31.853Z"
   },
   {
    "duration": 658,
    "start_time": "2022-01-08T12:04:19.398Z"
   },
   {
    "duration": 32,
    "start_time": "2022-01-08T12:04:35.776Z"
   },
   {
    "duration": 632,
    "start_time": "2022-01-08T12:05:06.463Z"
   },
   {
    "duration": 68,
    "start_time": "2022-01-08T12:05:35.701Z"
   },
   {
    "duration": 13,
    "start_time": "2022-01-08T12:06:19.250Z"
   },
   {
    "duration": 16,
    "start_time": "2022-01-08T12:11:18.261Z"
   },
   {
    "duration": 4,
    "start_time": "2022-01-08T12:11:26.691Z"
   },
   {
    "duration": 5,
    "start_time": "2022-01-08T12:11:29.929Z"
   },
   {
    "duration": 13,
    "start_time": "2022-01-08T12:11:39.702Z"
   },
   {
    "duration": 11,
    "start_time": "2022-01-08T12:13:37.150Z"
   },
   {
    "duration": 12,
    "start_time": "2022-01-08T12:13:45.989Z"
   },
   {
    "duration": 12,
    "start_time": "2022-01-08T12:13:52.070Z"
   },
   {
    "duration": 12,
    "start_time": "2022-01-08T12:14:14.879Z"
   },
   {
    "duration": 8,
    "start_time": "2022-01-08T12:16:34.170Z"
   },
   {
    "duration": 16,
    "start_time": "2022-01-08T12:16:47.032Z"
   },
   {
    "duration": 11,
    "start_time": "2022-01-08T12:18:31.609Z"
   },
   {
    "duration": 1032,
    "start_time": "2022-01-08T12:19:50.932Z"
   },
   {
    "duration": 954,
    "start_time": "2022-01-08T12:20:11.618Z"
   },
   {
    "duration": 1052,
    "start_time": "2022-01-08T12:20:20.702Z"
   },
   {
    "duration": 12,
    "start_time": "2022-01-08T12:20:48.745Z"
   },
   {
    "duration": 228,
    "start_time": "2022-01-08T12:25:56.157Z"
   },
   {
    "duration": 1223,
    "start_time": "2022-01-08T12:26:09.141Z"
   },
   {
    "duration": 11,
    "start_time": "2022-01-08T12:26:43.333Z"
   },
   {
    "duration": 11,
    "start_time": "2022-01-08T12:31:41.341Z"
   },
   {
    "duration": 6,
    "start_time": "2022-01-08T12:39:56.570Z"
   },
   {
    "duration": 14,
    "start_time": "2022-01-08T12:42:00.275Z"
   },
   {
    "duration": 8,
    "start_time": "2022-01-08T12:44:04.531Z"
   },
   {
    "duration": 11,
    "start_time": "2022-01-08T12:44:15.818Z"
   },
   {
    "duration": 14,
    "start_time": "2022-01-08T12:45:11.551Z"
   },
   {
    "duration": 42,
    "start_time": "2022-01-08T12:46:50.970Z"
   },
   {
    "duration": 13,
    "start_time": "2022-01-08T12:46:59.290Z"
   },
   {
    "duration": 23,
    "start_time": "2022-01-08T12:47:26.691Z"
   },
   {
    "duration": 8,
    "start_time": "2022-01-08T12:47:48.310Z"
   },
   {
    "duration": 7,
    "start_time": "2022-01-08T12:47:50.538Z"
   },
   {
    "duration": 8,
    "start_time": "2022-01-08T12:47:54.191Z"
   },
   {
    "duration": 11,
    "start_time": "2022-01-08T12:48:02.085Z"
   },
   {
    "duration": 11,
    "start_time": "2022-01-08T12:50:05.790Z"
   },
   {
    "duration": 11,
    "start_time": "2022-01-08T12:50:25.921Z"
   },
   {
    "duration": 9,
    "start_time": "2022-01-08T12:50:30.190Z"
   },
   {
    "duration": 9,
    "start_time": "2022-01-08T13:44:28.749Z"
   },
   {
    "duration": 100,
    "start_time": "2022-01-08T13:44:36.799Z"
   },
   {
    "duration": 11,
    "start_time": "2022-01-08T13:44:42.445Z"
   },
   {
    "duration": 9,
    "start_time": "2022-01-08T13:45:20.810Z"
   },
   {
    "duration": 330,
    "start_time": "2022-01-08T13:46:06.918Z"
   },
   {
    "duration": 10,
    "start_time": "2022-01-08T13:46:37.159Z"
   },
   {
    "duration": 13,
    "start_time": "2022-01-08T13:47:21.862Z"
   },
   {
    "duration": 16,
    "start_time": "2022-01-08T13:47:30.270Z"
   },
   {
    "duration": 25,
    "start_time": "2022-01-08T13:48:03.969Z"
   },
   {
    "duration": 14,
    "start_time": "2022-01-08T13:48:19.069Z"
   },
   {
    "duration": 483,
    "start_time": "2022-01-08T13:49:41.630Z"
   },
   {
    "duration": 339,
    "start_time": "2022-01-08T13:49:54.389Z"
   },
   {
    "duration": 8,
    "start_time": "2022-01-08T13:50:08.951Z"
   },
   {
    "duration": 13,
    "start_time": "2022-01-08T13:50:15.950Z"
   },
   {
    "duration": 13,
    "start_time": "2022-01-08T13:50:19.109Z"
   },
   {
    "duration": 16,
    "start_time": "2022-01-08T13:52:24.810Z"
   },
   {
    "duration": 11,
    "start_time": "2022-01-08T13:52:31.611Z"
   },
   {
    "duration": 340,
    "start_time": "2022-01-08T13:53:31.850Z"
   },
   {
    "duration": 321,
    "start_time": "2022-01-08T13:53:35.930Z"
   },
   {
    "duration": 11,
    "start_time": "2022-01-08T13:53:39.790Z"
   },
   {
    "duration": 322,
    "start_time": "2022-01-08T13:53:57.610Z"
   },
   {
    "duration": 12,
    "start_time": "2022-01-08T13:54:05.179Z"
   },
   {
    "duration": 13,
    "start_time": "2022-01-08T13:54:10.550Z"
   },
   {
    "duration": 11,
    "start_time": "2022-01-08T13:54:46.546Z"
   },
   {
    "duration": 19,
    "start_time": "2022-01-08T13:57:31.742Z"
   },
   {
    "duration": 12,
    "start_time": "2022-01-08T13:57:43.770Z"
   },
   {
    "duration": 93,
    "start_time": "2022-01-08T13:57:52.232Z"
   },
   {
    "duration": 58,
    "start_time": "2022-01-08T13:57:52.328Z"
   },
   {
    "duration": 51,
    "start_time": "2022-01-08T13:57:52.390Z"
   },
   {
    "duration": 19,
    "start_time": "2022-01-08T13:57:52.444Z"
   },
   {
    "duration": 18,
    "start_time": "2022-01-08T13:57:52.465Z"
   },
   {
    "duration": 121,
    "start_time": "2022-01-08T13:57:52.519Z"
   },
   {
    "duration": 55,
    "start_time": "2022-01-08T13:57:52.643Z"
   },
   {
    "duration": 14,
    "start_time": "2022-01-08T13:57:52.718Z"
   },
   {
    "duration": 11,
    "start_time": "2022-01-08T13:57:52.736Z"
   },
   {
    "duration": 14,
    "start_time": "2022-01-08T13:57:52.750Z"
   },
   {
    "duration": 7,
    "start_time": "2022-01-08T13:57:52.766Z"
   },
   {
    "duration": 62,
    "start_time": "2022-01-08T13:57:52.776Z"
   },
   {
    "duration": 8,
    "start_time": "2022-01-08T13:57:52.841Z"
   },
   {
    "duration": 14,
    "start_time": "2022-01-08T13:57:52.852Z"
   },
   {
    "duration": 48,
    "start_time": "2022-01-08T13:57:52.869Z"
   },
   {
    "duration": 15,
    "start_time": "2022-01-08T13:57:52.919Z"
   },
   {
    "duration": 13,
    "start_time": "2022-01-08T13:57:52.936Z"
   },
   {
    "duration": 9,
    "start_time": "2022-01-08T13:57:52.952Z"
   },
   {
    "duration": 88,
    "start_time": "2022-01-08T13:57:52.963Z"
   },
   {
    "duration": 3884,
    "start_time": "2022-01-08T13:57:53.053Z"
   },
   {
    "duration": 15,
    "start_time": "2022-01-08T13:57:56.940Z"
   },
   {
    "duration": 65,
    "start_time": "2022-01-08T13:57:56.958Z"
   },
   {
    "duration": 36,
    "start_time": "2022-01-08T13:57:57.026Z"
   },
   {
    "duration": 23,
    "start_time": "2022-01-08T13:57:57.064Z"
   },
   {
    "duration": 37,
    "start_time": "2022-01-08T13:57:57.089Z"
   },
   {
    "duration": 12,
    "start_time": "2022-01-08T13:57:57.128Z"
   },
   {
    "duration": 11,
    "start_time": "2022-01-08T13:57:57.145Z"
   },
   {
    "duration": 12,
    "start_time": "2022-01-08T13:57:57.158Z"
   },
   {
    "duration": 14,
    "start_time": "2022-01-08T13:57:57.224Z"
   },
   {
    "duration": 1120,
    "start_time": "2022-01-08T13:57:57.241Z"
   },
   {
    "duration": 11,
    "start_time": "2022-01-08T13:58:34.510Z"
   },
   {
    "duration": 27,
    "start_time": "2022-01-08T13:59:19.051Z"
   },
   {
    "duration": 13,
    "start_time": "2022-01-08T13:59:30.701Z"
   },
   {
    "duration": 10,
    "start_time": "2022-01-08T13:59:34.350Z"
   },
   {
    "duration": 21,
    "start_time": "2022-01-08T14:00:33.588Z"
   },
   {
    "duration": 12,
    "start_time": "2022-01-08T14:00:44.369Z"
   },
   {
    "duration": 14,
    "start_time": "2022-01-08T14:00:47.319Z"
   },
   {
    "duration": 10,
    "start_time": "2022-01-08T14:04:18.765Z"
   },
   {
    "duration": 12,
    "start_time": "2022-01-08T14:04:39.529Z"
   },
   {
    "duration": 13,
    "start_time": "2022-01-08T14:04:50.549Z"
   },
   {
    "duration": 13,
    "start_time": "2022-01-08T14:05:07.909Z"
   },
   {
    "duration": 11,
    "start_time": "2022-01-08T14:05:34.190Z"
   },
   {
    "duration": 11,
    "start_time": "2022-01-08T14:05:39.129Z"
   },
   {
    "duration": 13,
    "start_time": "2022-01-08T14:05:45.529Z"
   },
   {
    "duration": 92,
    "start_time": "2022-01-08T14:18:33.751Z"
   },
   {
    "duration": 70,
    "start_time": "2022-01-08T14:18:33.846Z"
   },
   {
    "duration": 12,
    "start_time": "2022-01-08T14:18:33.919Z"
   },
   {
    "duration": 15,
    "start_time": "2022-01-08T14:18:33.934Z"
   },
   {
    "duration": 16,
    "start_time": "2022-01-08T14:18:33.952Z"
   },
   {
    "duration": 131,
    "start_time": "2022-01-08T14:18:33.970Z"
   },
   {
    "duration": 65,
    "start_time": "2022-01-08T14:18:34.103Z"
   },
   {
    "duration": 8,
    "start_time": "2022-01-08T14:18:34.170Z"
   },
   {
    "duration": 37,
    "start_time": "2022-01-08T14:18:34.182Z"
   },
   {
    "duration": 15,
    "start_time": "2022-01-08T14:18:34.222Z"
   },
   {
    "duration": 8,
    "start_time": "2022-01-08T14:18:34.239Z"
   },
   {
    "duration": 13,
    "start_time": "2022-01-08T14:18:34.250Z"
   },
   {
    "duration": 56,
    "start_time": "2022-01-08T14:18:34.265Z"
   },
   {
    "duration": 19,
    "start_time": "2022-01-08T14:18:34.324Z"
   },
   {
    "duration": 10,
    "start_time": "2022-01-08T14:18:34.346Z"
   },
   {
    "duration": 16,
    "start_time": "2022-01-08T14:18:34.359Z"
   },
   {
    "duration": 55,
    "start_time": "2022-01-08T14:18:34.378Z"
   },
   {
    "duration": 10,
    "start_time": "2022-01-08T14:18:34.436Z"
   },
   {
    "duration": 74,
    "start_time": "2022-01-08T14:18:34.448Z"
   },
   {
    "duration": 3755,
    "start_time": "2022-01-08T14:18:34.525Z"
   },
   {
    "duration": 13,
    "start_time": "2022-01-08T14:18:38.283Z"
   },
   {
    "duration": 42,
    "start_time": "2022-01-08T14:18:38.299Z"
   },
   {
    "duration": 23,
    "start_time": "2022-01-08T14:18:38.344Z"
   },
   {
    "duration": 48,
    "start_time": "2022-01-08T14:18:38.369Z"
   },
   {
    "duration": 11,
    "start_time": "2022-01-08T14:18:38.420Z"
   },
   {
    "duration": 9,
    "start_time": "2022-01-08T14:18:38.433Z"
   },
   {
    "duration": 12,
    "start_time": "2022-01-08T14:18:38.446Z"
   },
   {
    "duration": 12,
    "start_time": "2022-01-08T14:18:38.460Z"
   },
   {
    "duration": 53,
    "start_time": "2022-01-08T14:18:38.475Z"
   },
   {
    "duration": 11,
    "start_time": "2022-01-08T14:18:38.531Z"
   },
   {
    "duration": 13,
    "start_time": "2022-01-08T14:18:38.544Z"
   },
   {
    "duration": 10,
    "start_time": "2022-01-08T14:18:38.559Z"
   },
   {
    "duration": 92,
    "start_time": "2022-01-08T14:21:24.832Z"
   },
   {
    "duration": 61,
    "start_time": "2022-01-08T14:21:24.926Z"
   },
   {
    "duration": 37,
    "start_time": "2022-01-08T14:21:24.990Z"
   },
   {
    "duration": 17,
    "start_time": "2022-01-08T14:21:25.029Z"
   },
   {
    "duration": 18,
    "start_time": "2022-01-08T14:21:25.048Z"
   },
   {
    "duration": 132,
    "start_time": "2022-01-08T14:21:25.068Z"
   },
   {
    "duration": 64,
    "start_time": "2022-01-08T14:21:25.202Z"
   },
   {
    "duration": 8,
    "start_time": "2022-01-08T14:21:25.269Z"
   },
   {
    "duration": 37,
    "start_time": "2022-01-08T14:21:25.280Z"
   },
   {
    "duration": 13,
    "start_time": "2022-01-08T14:21:25.320Z"
   },
   {
    "duration": 6,
    "start_time": "2022-01-08T14:21:25.335Z"
   },
   {
    "duration": 14,
    "start_time": "2022-01-08T14:21:25.343Z"
   },
   {
    "duration": 7,
    "start_time": "2022-01-08T14:21:25.359Z"
   },
   {
    "duration": 54,
    "start_time": "2022-01-08T14:21:25.368Z"
   },
   {
    "duration": 8,
    "start_time": "2022-01-08T14:21:25.424Z"
   },
   {
    "duration": 14,
    "start_time": "2022-01-08T14:21:25.434Z"
   },
   {
    "duration": 14,
    "start_time": "2022-01-08T14:21:25.451Z"
   },
   {
    "duration": 53,
    "start_time": "2022-01-08T14:21:25.468Z"
   },
   {
    "duration": 35,
    "start_time": "2022-01-08T14:21:25.524Z"
   },
   {
    "duration": 3674,
    "start_time": "2022-01-08T14:21:25.561Z"
   },
   {
    "duration": 14,
    "start_time": "2022-01-08T14:21:29.238Z"
   },
   {
    "duration": 23,
    "start_time": "2022-01-08T14:21:29.255Z"
   },
   {
    "duration": 45,
    "start_time": "2022-01-08T14:21:29.283Z"
   },
   {
    "duration": 25,
    "start_time": "2022-01-08T14:21:29.330Z"
   },
   {
    "duration": 11,
    "start_time": "2022-01-08T14:21:29.358Z"
   },
   {
    "duration": 10,
    "start_time": "2022-01-08T14:21:29.371Z"
   },
   {
    "duration": 43,
    "start_time": "2022-01-08T14:21:29.383Z"
   },
   {
    "duration": 11,
    "start_time": "2022-01-08T14:21:29.429Z"
   },
   {
    "duration": 12,
    "start_time": "2022-01-08T14:21:29.442Z"
   },
   {
    "duration": 10,
    "start_time": "2022-01-08T14:21:29.456Z"
   },
   {
    "duration": 53,
    "start_time": "2022-01-08T14:21:29.468Z"
   },
   {
    "duration": 10,
    "start_time": "2022-01-08T14:21:29.523Z"
   },
   {
    "duration": 298,
    "start_time": "2022-01-08T14:26:22.483Z"
   },
   {
    "duration": 34,
    "start_time": "2022-01-08T14:26:33.183Z"
   },
   {
    "duration": 60,
    "start_time": "2022-01-08T14:26:49.562Z"
   },
   {
    "duration": 88,
    "start_time": "2022-01-08T14:27:43.402Z"
   },
   {
    "duration": 92,
    "start_time": "2022-01-08T14:28:02.864Z"
   },
   {
    "duration": 102,
    "start_time": "2022-01-08T14:28:08.063Z"
   },
   {
    "duration": 93,
    "start_time": "2022-01-08T14:29:24.960Z"
   },
   {
    "duration": 402,
    "start_time": "2022-01-08T14:29:30.262Z"
   },
   {
    "duration": 96,
    "start_time": "2022-01-08T14:29:51.262Z"
   },
   {
    "duration": 96,
    "start_time": "2022-01-08T14:30:22.583Z"
   },
   {
    "duration": 31,
    "start_time": "2022-01-08T14:30:36.581Z"
   },
   {
    "duration": 34,
    "start_time": "2022-01-08T14:30:42.993Z"
   },
   {
    "duration": 31,
    "start_time": "2022-01-08T14:30:51.222Z"
   },
   {
    "duration": 47,
    "start_time": "2022-01-08T14:33:38.111Z"
   },
   {
    "duration": 302,
    "start_time": "2022-01-08T14:34:02.230Z"
   },
   {
    "duration": 39,
    "start_time": "2022-01-08T14:35:00.167Z"
   },
   {
    "duration": 102,
    "start_time": "2022-01-08T14:35:56.374Z"
   },
   {
    "duration": 92,
    "start_time": "2022-01-08T14:35:56.479Z"
   },
   {
    "duration": 15,
    "start_time": "2022-01-08T14:35:56.575Z"
   },
   {
    "duration": 20,
    "start_time": "2022-01-08T14:35:56.618Z"
   },
   {
    "duration": 20,
    "start_time": "2022-01-08T14:35:56.641Z"
   },
   {
    "duration": 135,
    "start_time": "2022-01-08T14:35:56.664Z"
   },
   {
    "duration": 70,
    "start_time": "2022-01-08T14:35:56.801Z"
   },
   {
    "duration": 10,
    "start_time": "2022-01-08T14:35:56.874Z"
   },
   {
    "duration": 36,
    "start_time": "2022-01-08T14:35:56.888Z"
   },
   {
    "duration": 16,
    "start_time": "2022-01-08T14:35:56.926Z"
   },
   {
    "duration": 8,
    "start_time": "2022-01-08T14:35:56.944Z"
   },
   {
    "duration": 15,
    "start_time": "2022-01-08T14:35:56.955Z"
   },
   {
    "duration": 49,
    "start_time": "2022-01-08T14:35:56.972Z"
   },
   {
    "duration": 12,
    "start_time": "2022-01-08T14:35:57.024Z"
   },
   {
    "duration": 17,
    "start_time": "2022-01-08T14:35:57.038Z"
   },
   {
    "duration": 17,
    "start_time": "2022-01-08T14:35:57.058Z"
   },
   {
    "duration": 44,
    "start_time": "2022-01-08T14:35:57.078Z"
   },
   {
    "duration": 7,
    "start_time": "2022-01-08T14:35:57.125Z"
   },
   {
    "duration": 34,
    "start_time": "2022-01-08T14:35:57.135Z"
   },
   {
    "duration": 3966,
    "start_time": "2022-01-08T14:35:57.172Z"
   },
   {
    "duration": 14,
    "start_time": "2022-01-08T14:36:01.140Z"
   },
   {
    "duration": 36,
    "start_time": "2022-01-08T14:36:01.156Z"
   },
   {
    "duration": 34,
    "start_time": "2022-01-08T14:36:01.195Z"
   },
   {
    "duration": 25,
    "start_time": "2022-01-08T14:36:01.232Z"
   },
   {
    "duration": 13,
    "start_time": "2022-01-08T14:36:01.260Z"
   },
   {
    "duration": 49,
    "start_time": "2022-01-08T14:36:01.275Z"
   },
   {
    "duration": 13,
    "start_time": "2022-01-08T14:36:01.330Z"
   },
   {
    "duration": 12,
    "start_time": "2022-01-08T14:36:01.345Z"
   },
   {
    "duration": 37,
    "start_time": "2022-01-08T14:36:01.360Z"
   },
   {
    "duration": 27,
    "start_time": "2022-01-08T14:36:01.399Z"
   },
   {
    "duration": 19,
    "start_time": "2022-01-08T14:36:01.428Z"
   },
   {
    "duration": 13,
    "start_time": "2022-01-08T14:36:01.449Z"
   },
   {
    "duration": 93,
    "start_time": "2022-01-08T15:27:01.070Z"
   },
   {
    "duration": 89,
    "start_time": "2022-01-08T15:27:01.166Z"
   },
   {
    "duration": 14,
    "start_time": "2022-01-08T15:27:01.258Z"
   },
   {
    "duration": 42,
    "start_time": "2022-01-08T15:27:01.275Z"
   },
   {
    "duration": 18,
    "start_time": "2022-01-08T15:27:01.320Z"
   },
   {
    "duration": 117,
    "start_time": "2022-01-08T15:27:01.340Z"
   },
   {
    "duration": 68,
    "start_time": "2022-01-08T15:27:01.459Z"
   },
   {
    "duration": 10,
    "start_time": "2022-01-08T15:27:01.531Z"
   },
   {
    "duration": 12,
    "start_time": "2022-01-08T15:27:01.544Z"
   },
   {
    "duration": 15,
    "start_time": "2022-01-08T15:27:01.559Z"
   },
   {
    "duration": 43,
    "start_time": "2022-01-08T15:27:01.577Z"
   },
   {
    "duration": 16,
    "start_time": "2022-01-08T15:27:01.623Z"
   },
   {
    "duration": 14,
    "start_time": "2022-01-08T15:27:01.641Z"
   },
   {
    "duration": 18,
    "start_time": "2022-01-08T15:27:01.658Z"
   },
   {
    "duration": 50,
    "start_time": "2022-01-08T15:27:01.678Z"
   },
   {
    "duration": 12,
    "start_time": "2022-01-08T15:27:01.731Z"
   },
   {
    "duration": 28,
    "start_time": "2022-01-08T15:27:01.746Z"
   },
   {
    "duration": 15,
    "start_time": "2022-01-08T15:27:01.777Z"
   },
   {
    "duration": 51,
    "start_time": "2022-01-08T15:27:01.794Z"
   },
   {
    "duration": 4104,
    "start_time": "2022-01-08T15:27:01.848Z"
   },
   {
    "duration": 14,
    "start_time": "2022-01-08T15:27:05.954Z"
   },
   {
    "duration": 26,
    "start_time": "2022-01-08T15:27:05.971Z"
   },
   {
    "duration": 21,
    "start_time": "2022-01-08T15:27:06.019Z"
   },
   {
    "duration": 29,
    "start_time": "2022-01-08T15:27:06.043Z"
   },
   {
    "duration": 11,
    "start_time": "2022-01-08T15:27:06.075Z"
   },
   {
    "duration": 34,
    "start_time": "2022-01-08T15:27:06.088Z"
   },
   {
    "duration": 10,
    "start_time": "2022-01-08T15:27:06.125Z"
   },
   {
    "duration": 11,
    "start_time": "2022-01-08T15:27:06.137Z"
   },
   {
    "duration": 11,
    "start_time": "2022-01-08T15:27:06.150Z"
   },
   {
    "duration": 60,
    "start_time": "2022-01-08T15:27:06.163Z"
   },
   {
    "duration": 13,
    "start_time": "2022-01-08T15:27:06.225Z"
   },
   {
    "duration": 12,
    "start_time": "2022-01-08T15:27:06.241Z"
   },
   {
    "duration": 10,
    "start_time": "2022-01-08T15:29:15.582Z"
   },
   {
    "duration": 13,
    "start_time": "2022-01-08T15:30:29.221Z"
   },
   {
    "duration": 95,
    "start_time": "2022-01-08T15:32:35.023Z"
   },
   {
    "duration": 60,
    "start_time": "2022-01-08T15:32:35.121Z"
   },
   {
    "duration": 40,
    "start_time": "2022-01-08T15:32:35.184Z"
   },
   {
    "duration": 19,
    "start_time": "2022-01-08T15:32:35.227Z"
   },
   {
    "duration": 19,
    "start_time": "2022-01-08T15:32:35.248Z"
   },
   {
    "duration": 128,
    "start_time": "2022-01-08T15:32:35.270Z"
   },
   {
    "duration": 71,
    "start_time": "2022-01-08T15:32:35.401Z"
   },
   {
    "duration": 7,
    "start_time": "2022-01-08T15:32:35.476Z"
   },
   {
    "duration": 37,
    "start_time": "2022-01-08T15:32:35.486Z"
   },
   {
    "duration": 13,
    "start_time": "2022-01-08T15:32:35.525Z"
   },
   {
    "duration": 7,
    "start_time": "2022-01-08T15:32:35.540Z"
   },
   {
    "duration": 15,
    "start_time": "2022-01-08T15:32:35.549Z"
   },
   {
    "duration": 9,
    "start_time": "2022-01-08T15:32:35.566Z"
   },
   {
    "duration": 49,
    "start_time": "2022-01-08T15:32:35.577Z"
   },
   {
    "duration": 12,
    "start_time": "2022-01-08T15:32:35.629Z"
   },
   {
    "duration": 16,
    "start_time": "2022-01-08T15:32:35.643Z"
   },
   {
    "duration": 12,
    "start_time": "2022-01-08T15:32:35.661Z"
   },
   {
    "duration": 42,
    "start_time": "2022-01-08T15:32:35.675Z"
   },
   {
    "duration": 40,
    "start_time": "2022-01-08T15:32:35.719Z"
   },
   {
    "duration": 4027,
    "start_time": "2022-01-08T15:32:35.762Z"
   },
   {
    "duration": 25,
    "start_time": "2022-01-08T15:32:39.792Z"
   },
   {
    "duration": 27,
    "start_time": "2022-01-08T15:32:39.819Z"
   },
   {
    "duration": 20,
    "start_time": "2022-01-08T15:32:39.851Z"
   },
   {
    "duration": 47,
    "start_time": "2022-01-08T15:32:39.873Z"
   },
   {
    "duration": 11,
    "start_time": "2022-01-08T15:32:39.922Z"
   },
   {
    "duration": 8,
    "start_time": "2022-01-08T15:32:39.936Z"
   },
   {
    "duration": 10,
    "start_time": "2022-01-08T15:32:39.947Z"
   },
   {
    "duration": 11,
    "start_time": "2022-01-08T15:32:39.959Z"
   },
   {
    "duration": 54,
    "start_time": "2022-01-08T15:32:39.973Z"
   },
   {
    "duration": 9,
    "start_time": "2022-01-08T15:32:40.030Z"
   },
   {
    "duration": 12,
    "start_time": "2022-01-08T15:32:40.042Z"
   },
   {
    "duration": 10,
    "start_time": "2022-01-08T15:32:40.057Z"
   },
   {
    "duration": 4,
    "start_time": "2022-01-08T15:32:40.070Z"
   },
   {
    "duration": 4,
    "start_time": "2022-01-08T15:32:43.127Z"
   },
   {
    "duration": 43,
    "start_time": "2022-01-08T15:35:26.239Z"
   },
   {
    "duration": 106,
    "start_time": "2022-01-08T15:37:56.570Z"
   },
   {
    "duration": 84,
    "start_time": "2022-01-08T15:37:56.679Z"
   },
   {
    "duration": 13,
    "start_time": "2022-01-08T15:37:56.768Z"
   },
   {
    "duration": 46,
    "start_time": "2022-01-08T15:37:56.784Z"
   },
   {
    "duration": 24,
    "start_time": "2022-01-08T15:37:56.833Z"
   },
   {
    "duration": 134,
    "start_time": "2022-01-08T15:37:56.860Z"
   },
   {
    "duration": 80,
    "start_time": "2022-01-08T15:37:56.997Z"
   },
   {
    "duration": 10,
    "start_time": "2022-01-08T15:37:57.079Z"
   },
   {
    "duration": 34,
    "start_time": "2022-01-08T15:37:57.095Z"
   },
   {
    "duration": 15,
    "start_time": "2022-01-08T15:37:57.133Z"
   },
   {
    "duration": 13,
    "start_time": "2022-01-08T15:37:57.150Z"
   },
   {
    "duration": 15,
    "start_time": "2022-01-08T15:37:57.165Z"
   },
   {
    "duration": 36,
    "start_time": "2022-01-08T15:37:57.182Z"
   },
   {
    "duration": 17,
    "start_time": "2022-01-08T15:37:57.220Z"
   },
   {
    "duration": 11,
    "start_time": "2022-01-08T15:37:57.240Z"
   },
   {
    "duration": 14,
    "start_time": "2022-01-08T15:37:57.253Z"
   },
   {
    "duration": 56,
    "start_time": "2022-01-08T15:37:57.269Z"
   },
   {
    "duration": 12,
    "start_time": "2022-01-08T15:37:57.328Z"
   },
   {
    "duration": 36,
    "start_time": "2022-01-08T15:37:57.342Z"
   },
   {
    "duration": 3881,
    "start_time": "2022-01-08T15:37:57.380Z"
   },
   {
    "duration": 17,
    "start_time": "2022-01-08T15:38:01.263Z"
   },
   {
    "duration": 49,
    "start_time": "2022-01-08T15:38:01.283Z"
   },
   {
    "duration": 21,
    "start_time": "2022-01-08T15:38:01.334Z"
   },
   {
    "duration": 44,
    "start_time": "2022-01-08T15:38:01.358Z"
   },
   {
    "duration": 27,
    "start_time": "2022-01-08T15:38:01.404Z"
   },
   {
    "duration": 21,
    "start_time": "2022-01-08T15:38:01.433Z"
   },
   {
    "duration": 16,
    "start_time": "2022-01-08T15:38:01.459Z"
   },
   {
    "duration": 19,
    "start_time": "2022-01-08T15:38:01.478Z"
   },
   {
    "duration": 18,
    "start_time": "2022-01-08T15:38:01.517Z"
   },
   {
    "duration": 23,
    "start_time": "2022-01-08T15:38:01.538Z"
   },
   {
    "duration": 28,
    "start_time": "2022-01-08T15:38:01.564Z"
   },
   {
    "duration": 31,
    "start_time": "2022-01-08T15:38:01.596Z"
   },
   {
    "duration": 88,
    "start_time": "2022-01-08T15:38:01.631Z"
   },
   {
    "duration": 1605,
    "start_time": "2022-01-10T05:25:36.904Z"
   },
   {
    "duration": 64,
    "start_time": "2022-01-10T05:25:38.512Z"
   },
   {
    "duration": 12,
    "start_time": "2022-01-10T05:25:38.579Z"
   },
   {
    "duration": 41,
    "start_time": "2022-01-10T05:25:38.594Z"
   },
   {
    "duration": 18,
    "start_time": "2022-01-10T05:25:38.637Z"
   },
   {
    "duration": 132,
    "start_time": "2022-01-10T05:25:38.658Z"
   },
   {
    "duration": 61,
    "start_time": "2022-01-10T05:25:38.792Z"
   },
   {
    "duration": 9,
    "start_time": "2022-01-10T05:25:38.857Z"
   },
   {
    "duration": 12,
    "start_time": "2022-01-10T05:25:38.869Z"
   },
   {
    "duration": 55,
    "start_time": "2022-01-10T05:25:38.884Z"
   },
   {
    "duration": 9,
    "start_time": "2022-01-10T05:25:38.942Z"
   },
   {
    "duration": 15,
    "start_time": "2022-01-10T05:25:38.953Z"
   },
   {
    "duration": 18,
    "start_time": "2022-01-10T05:25:38.971Z"
   },
   {
    "duration": 15,
    "start_time": "2022-01-10T05:25:39.026Z"
   },
   {
    "duration": 9,
    "start_time": "2022-01-10T05:25:39.043Z"
   },
   {
    "duration": 10,
    "start_time": "2022-01-10T05:25:39.054Z"
   },
   {
    "duration": 14,
    "start_time": "2022-01-10T05:25:39.066Z"
   },
   {
    "duration": 37,
    "start_time": "2022-01-10T05:25:39.082Z"
   },
   {
    "duration": 37,
    "start_time": "2022-01-10T05:25:39.121Z"
   },
   {
    "duration": 3795,
    "start_time": "2022-01-10T05:25:39.161Z"
   },
   {
    "duration": 10,
    "start_time": "2022-01-10T05:25:42.959Z"
   },
   {
    "duration": 54,
    "start_time": "2022-01-10T05:25:42.971Z"
   },
   {
    "duration": 20,
    "start_time": "2022-01-10T05:25:43.031Z"
   },
   {
    "duration": 19,
    "start_time": "2022-01-10T05:25:43.053Z"
   },
   {
    "duration": 11,
    "start_time": "2022-01-10T05:25:43.074Z"
   },
   {
    "duration": 42,
    "start_time": "2022-01-10T05:25:43.088Z"
   },
   {
    "duration": 11,
    "start_time": "2022-01-10T05:25:43.132Z"
   },
   {
    "duration": 10,
    "start_time": "2022-01-10T05:25:43.145Z"
   },
   {
    "duration": 10,
    "start_time": "2022-01-10T05:25:43.158Z"
   },
   {
    "duration": 9,
    "start_time": "2022-01-10T05:25:43.171Z"
   },
   {
    "duration": 19,
    "start_time": "2022-01-10T05:25:43.220Z"
   },
   {
    "duration": 9,
    "start_time": "2022-01-10T05:25:43.241Z"
   },
   {
    "duration": 72,
    "start_time": "2022-01-10T05:25:43.252Z"
   },
   {
    "duration": 1597,
    "start_time": "2022-01-10T05:40:59.611Z"
   },
   {
    "duration": 64,
    "start_time": "2022-01-10T05:41:01.211Z"
   },
   {
    "duration": 45,
    "start_time": "2022-01-10T05:41:01.280Z"
   },
   {
    "duration": 18,
    "start_time": "2022-01-10T05:41:01.327Z"
   },
   {
    "duration": 52,
    "start_time": "2022-01-10T05:41:01.348Z"
   },
   {
    "duration": 122,
    "start_time": "2022-01-10T05:41:01.402Z"
   },
   {
    "duration": 53,
    "start_time": "2022-01-10T05:41:01.529Z"
   },
   {
    "duration": 9,
    "start_time": "2022-01-10T05:41:01.585Z"
   },
   {
    "duration": 38,
    "start_time": "2022-01-10T05:41:01.596Z"
   },
   {
    "duration": 17,
    "start_time": "2022-01-10T05:41:01.637Z"
   },
   {
    "duration": 15,
    "start_time": "2022-01-10T05:41:01.656Z"
   },
   {
    "duration": 65,
    "start_time": "2022-01-10T05:41:01.673Z"
   },
   {
    "duration": 11,
    "start_time": "2022-01-10T05:41:01.740Z"
   },
   {
    "duration": 16,
    "start_time": "2022-01-10T05:41:01.754Z"
   },
   {
    "duration": 18,
    "start_time": "2022-01-10T05:41:01.773Z"
   },
   {
    "duration": 14,
    "start_time": "2022-01-10T05:41:01.830Z"
   },
   {
    "duration": 24,
    "start_time": "2022-01-10T05:41:01.846Z"
   },
   {
    "duration": 21,
    "start_time": "2022-01-10T05:41:01.873Z"
   },
   {
    "duration": 58,
    "start_time": "2022-01-10T05:41:01.897Z"
   },
   {
    "duration": 3808,
    "start_time": "2022-01-10T05:41:01.957Z"
   },
   {
    "duration": 12,
    "start_time": "2022-01-10T05:41:05.768Z"
   },
   {
    "duration": 55,
    "start_time": "2022-01-10T05:41:05.788Z"
   },
   {
    "duration": 20,
    "start_time": "2022-01-10T05:41:05.845Z"
   },
   {
    "duration": 57,
    "start_time": "2022-01-10T05:41:05.867Z"
   },
   {
    "duration": 13,
    "start_time": "2022-01-10T05:41:05.927Z"
   },
   {
    "duration": 8,
    "start_time": "2022-01-10T05:41:05.942Z"
   },
   {
    "duration": 10,
    "start_time": "2022-01-10T05:41:05.952Z"
   },
   {
    "duration": 10,
    "start_time": "2022-01-10T05:41:05.964Z"
   },
   {
    "duration": 56,
    "start_time": "2022-01-10T05:41:05.976Z"
   },
   {
    "duration": 10,
    "start_time": "2022-01-10T05:41:06.034Z"
   },
   {
    "duration": 12,
    "start_time": "2022-01-10T05:41:06.046Z"
   },
   {
    "duration": 72,
    "start_time": "2022-01-10T05:41:06.060Z"
   },
   {
    "duration": 36,
    "start_time": "2022-01-10T05:41:06.136Z"
   },
   {
    "duration": 1124,
    "start_time": "2022-01-10T10:34:39.900Z"
   },
   {
    "duration": 36,
    "start_time": "2022-01-10T10:34:41.025Z"
   },
   {
    "duration": 31,
    "start_time": "2022-01-10T10:34:41.063Z"
   },
   {
    "duration": 109,
    "start_time": "2022-01-10T10:34:41.097Z"
   },
   {
    "duration": 85,
    "start_time": "2022-01-10T10:34:41.208Z"
   },
   {
    "duration": 62,
    "start_time": "2022-01-10T10:34:41.295Z"
   },
   {
    "duration": 34,
    "start_time": "2022-01-10T10:34:41.359Z"
   },
   {
    "duration": 5,
    "start_time": "2022-01-10T10:34:41.396Z"
   },
   {
    "duration": 17,
    "start_time": "2022-01-10T10:34:41.402Z"
   },
   {
    "duration": 33,
    "start_time": "2022-01-10T10:34:41.420Z"
   },
   {
    "duration": 4,
    "start_time": "2022-01-10T10:34:41.455Z"
   },
   {
    "duration": 14,
    "start_time": "2022-01-10T10:34:41.461Z"
   },
   {
    "duration": 18,
    "start_time": "2022-01-10T10:34:41.477Z"
   },
   {
    "duration": 32,
    "start_time": "2022-01-10T10:34:41.497Z"
   },
   {
    "duration": 19,
    "start_time": "2022-01-10T10:34:41.531Z"
   },
   {
    "duration": 11,
    "start_time": "2022-01-10T10:34:41.552Z"
   },
   {
    "duration": 10,
    "start_time": "2022-01-10T10:34:41.565Z"
   },
   {
    "duration": 6,
    "start_time": "2022-01-10T10:34:41.576Z"
   },
   {
    "duration": 25,
    "start_time": "2022-01-10T10:34:41.583Z"
   },
   {
    "duration": 2346,
    "start_time": "2022-01-10T10:34:41.610Z"
   },
   {
    "duration": 7,
    "start_time": "2022-01-10T10:34:43.958Z"
   },
   {
    "duration": 22,
    "start_time": "2022-01-10T10:34:43.967Z"
   },
   {
    "duration": 13,
    "start_time": "2022-01-10T10:34:43.992Z"
   },
   {
    "duration": 16,
    "start_time": "2022-01-10T10:34:44.007Z"
   },
   {
    "duration": 8,
    "start_time": "2022-01-10T10:34:44.041Z"
   },
   {
    "duration": 5,
    "start_time": "2022-01-10T10:34:44.051Z"
   },
   {
    "duration": 8,
    "start_time": "2022-01-10T10:34:44.058Z"
   },
   {
    "duration": 9,
    "start_time": "2022-01-10T10:34:44.067Z"
   },
   {
    "duration": 11,
    "start_time": "2022-01-10T10:34:44.077Z"
   },
   {
    "duration": 9,
    "start_time": "2022-01-10T10:34:44.089Z"
   },
   {
    "duration": 49,
    "start_time": "2022-01-10T10:34:44.099Z"
   },
   {
    "duration": 8,
    "start_time": "2022-01-10T10:34:44.150Z"
   },
   {
    "duration": 39,
    "start_time": "2022-01-10T10:34:44.159Z"
   },
   {
    "duration": 113,
    "start_time": "2022-01-10T10:42:05.225Z"
   },
   {
    "duration": 132,
    "start_time": "2022-01-10T10:42:08.060Z"
   },
   {
    "duration": 2315,
    "start_time": "2022-01-10T10:55:04.091Z"
   },
   {
    "duration": 97,
    "start_time": "2022-01-10T10:55:06.409Z"
   },
   {
    "duration": 13,
    "start_time": "2022-01-10T10:55:06.510Z"
   },
   {
    "duration": 45,
    "start_time": "2022-01-10T10:55:06.526Z"
   },
   {
    "duration": 30,
    "start_time": "2022-01-10T10:55:06.574Z"
   },
   {
    "duration": 201,
    "start_time": "2022-01-10T10:55:06.607Z"
   },
   {
    "duration": 90,
    "start_time": "2022-01-10T10:55:06.811Z"
   },
   {
    "duration": 11,
    "start_time": "2022-01-10T10:55:06.907Z"
   },
   {
    "duration": 40,
    "start_time": "2022-01-10T10:55:06.921Z"
   },
   {
    "duration": 19,
    "start_time": "2022-01-10T10:55:06.963Z"
   },
   {
    "duration": 8,
    "start_time": "2022-01-10T10:55:06.984Z"
   },
   {
    "duration": 13,
    "start_time": "2022-01-10T10:55:06.994Z"
   },
   {
    "duration": 60,
    "start_time": "2022-01-10T10:55:07.010Z"
   },
   {
    "duration": 18,
    "start_time": "2022-01-10T10:55:07.074Z"
   },
   {
    "duration": 12,
    "start_time": "2022-01-10T10:55:07.095Z"
   },
   {
    "duration": 11,
    "start_time": "2022-01-10T10:55:07.109Z"
   },
   {
    "duration": 48,
    "start_time": "2022-01-10T10:55:07.122Z"
   },
   {
    "duration": 10,
    "start_time": "2022-01-10T10:55:07.172Z"
   },
   {
    "duration": 77,
    "start_time": "2022-01-10T10:55:07.184Z"
   },
   {
    "duration": 3811,
    "start_time": "2022-01-10T10:55:07.263Z"
   },
   {
    "duration": 11,
    "start_time": "2022-01-10T10:55:11.077Z"
   },
   {
    "duration": 29,
    "start_time": "2022-01-10T10:55:11.091Z"
   },
   {
    "duration": 32,
    "start_time": "2022-01-10T10:55:11.158Z"
   },
   {
    "duration": 26,
    "start_time": "2022-01-10T10:55:11.193Z"
   },
   {
    "duration": 45,
    "start_time": "2022-01-10T10:55:11.222Z"
   },
   {
    "duration": 12,
    "start_time": "2022-01-10T10:55:11.271Z"
   },
   {
    "duration": 14,
    "start_time": "2022-01-10T10:55:11.286Z"
   },
   {
    "duration": 13,
    "start_time": "2022-01-10T10:55:11.303Z"
   },
   {
    "duration": 13,
    "start_time": "2022-01-10T10:55:11.360Z"
   },
   {
    "duration": 12,
    "start_time": "2022-01-10T10:55:11.375Z"
   },
   {
    "duration": 17,
    "start_time": "2022-01-10T10:55:11.389Z"
   },
   {
    "duration": 56,
    "start_time": "2022-01-10T10:55:11.408Z"
   },
   {
    "duration": 39,
    "start_time": "2022-01-10T10:55:11.466Z"
   },
   {
    "duration": 619,
    "start_time": "2022-01-10T10:57:46.402Z"
   },
   {
    "duration": 34,
    "start_time": "2022-01-10T10:57:53.615Z"
   },
   {
    "duration": 34,
    "start_time": "2022-01-10T10:58:22.655Z"
   },
   {
    "duration": 20,
    "start_time": "2022-01-10T11:01:08.216Z"
   },
   {
    "duration": 18,
    "start_time": "2022-01-10T11:02:40.346Z"
   },
   {
    "duration": 21,
    "start_time": "2022-01-10T11:03:36.268Z"
   },
   {
    "duration": 22,
    "start_time": "2022-01-10T11:04:48.400Z"
   },
   {
    "duration": 18,
    "start_time": "2022-01-10T11:06:50.355Z"
   },
   {
    "duration": 383,
    "start_time": "2022-01-10T11:09:46.957Z"
   },
   {
    "duration": 20,
    "start_time": "2022-01-10T11:09:56.000Z"
   },
   {
    "duration": 143,
    "start_time": "2022-01-10T11:20:41.465Z"
   },
   {
    "duration": 433,
    "start_time": "2022-01-10T11:21:16.982Z"
   },
   {
    "duration": 1815,
    "start_time": "2022-01-10T11:23:12.482Z"
   },
   {
    "duration": 20,
    "start_time": "2022-01-10T11:23:31.535Z"
   },
   {
    "duration": 88,
    "start_time": "2022-01-10T11:24:50.309Z"
   },
   {
    "duration": 85,
    "start_time": "2022-01-10T11:24:50.400Z"
   },
   {
    "duration": 13,
    "start_time": "2022-01-10T11:24:50.489Z"
   },
   {
    "duration": 61,
    "start_time": "2022-01-10T11:24:50.504Z"
   },
   {
    "duration": 25,
    "start_time": "2022-01-10T11:24:50.568Z"
   },
   {
    "duration": 119,
    "start_time": "2022-01-10T11:24:50.596Z"
   },
   {
    "duration": 68,
    "start_time": "2022-01-10T11:24:50.717Z"
   },
   {
    "duration": 9,
    "start_time": "2022-01-10T11:24:50.788Z"
   },
   {
    "duration": 11,
    "start_time": "2022-01-10T11:24:50.801Z"
   },
   {
    "duration": 50,
    "start_time": "2022-01-10T11:24:50.815Z"
   },
   {
    "duration": 10,
    "start_time": "2022-01-10T11:24:50.867Z"
   },
   {
    "duration": 13,
    "start_time": "2022-01-10T11:24:50.879Z"
   },
   {
    "duration": 15,
    "start_time": "2022-01-10T11:24:50.895Z"
   },
   {
    "duration": 54,
    "start_time": "2022-01-10T11:24:50.913Z"
   },
   {
    "duration": 14,
    "start_time": "2022-01-10T11:24:50.970Z"
   },
   {
    "duration": 12,
    "start_time": "2022-01-10T11:24:50.987Z"
   },
   {
    "duration": 59,
    "start_time": "2022-01-10T11:24:51.002Z"
   },
   {
    "duration": 11,
    "start_time": "2022-01-10T11:24:51.064Z"
   },
   {
    "duration": 55,
    "start_time": "2022-01-10T11:24:51.078Z"
   },
   {
    "duration": 5588,
    "start_time": "2022-01-10T11:24:51.161Z"
   },
   {
    "duration": 22,
    "start_time": "2022-01-10T11:24:56.752Z"
   },
   {
    "duration": 29,
    "start_time": "2022-01-10T11:24:56.777Z"
   },
   {
    "duration": 52,
    "start_time": "2022-01-10T11:24:56.813Z"
   },
   {
    "duration": 24,
    "start_time": "2022-01-10T11:24:56.869Z"
   },
   {
    "duration": 29,
    "start_time": "2022-01-10T11:24:56.895Z"
   },
   {
    "duration": 15,
    "start_time": "2022-01-10T11:24:56.960Z"
   },
   {
    "duration": 12,
    "start_time": "2022-01-10T11:24:56.977Z"
   },
   {
    "duration": 11,
    "start_time": "2022-01-10T11:24:56.991Z"
   },
   {
    "duration": 56,
    "start_time": "2022-01-10T11:24:57.004Z"
   },
   {
    "duration": 12,
    "start_time": "2022-01-10T11:24:57.062Z"
   },
   {
    "duration": 10,
    "start_time": "2022-01-10T11:24:57.077Z"
   },
   {
    "duration": 79,
    "start_time": "2022-01-10T11:24:57.089Z"
   },
   {
    "duration": 22,
    "start_time": "2022-01-10T11:35:16.851Z"
   },
   {
    "duration": 22,
    "start_time": "2022-01-10T11:36:16.044Z"
   },
   {
    "duration": 32,
    "start_time": "2022-01-10T11:36:49.003Z"
   },
   {
    "duration": 30,
    "start_time": "2022-01-10T11:37:52.978Z"
   },
   {
    "duration": 42,
    "start_time": "2022-01-10T11:59:35.951Z"
   },
   {
    "duration": 156,
    "start_time": "2022-01-10T12:02:41.718Z"
   },
   {
    "duration": 114,
    "start_time": "2022-01-10T12:02:41.878Z"
   },
   {
    "duration": 14,
    "start_time": "2022-01-10T12:02:41.996Z"
   },
   {
    "duration": 50,
    "start_time": "2022-01-10T12:02:42.014Z"
   },
   {
    "duration": 19,
    "start_time": "2022-01-10T12:02:42.067Z"
   },
   {
    "duration": 122,
    "start_time": "2022-01-10T12:02:42.089Z"
   },
   {
    "duration": 73,
    "start_time": "2022-01-10T12:02:42.213Z"
   },
   {
    "duration": 11,
    "start_time": "2022-01-10T12:02:42.291Z"
   },
   {
    "duration": 15,
    "start_time": "2022-01-10T12:02:42.306Z"
   },
   {
    "duration": 47,
    "start_time": "2022-01-10T12:02:42.324Z"
   },
   {
    "duration": 10,
    "start_time": "2022-01-10T12:02:42.374Z"
   },
   {
    "duration": 22,
    "start_time": "2022-01-10T12:02:42.387Z"
   },
   {
    "duration": 11,
    "start_time": "2022-01-10T12:02:42.413Z"
   },
   {
    "duration": 14,
    "start_time": "2022-01-10T12:02:42.460Z"
   },
   {
    "duration": 16,
    "start_time": "2022-01-10T12:02:42.476Z"
   },
   {
    "duration": 11,
    "start_time": "2022-01-10T12:02:42.499Z"
   },
   {
    "duration": 13,
    "start_time": "2022-01-10T12:02:42.512Z"
   },
   {
    "duration": 37,
    "start_time": "2022-01-10T12:02:42.528Z"
   },
   {
    "duration": 35,
    "start_time": "2022-01-10T12:02:42.567Z"
   },
   {
    "duration": 3762,
    "start_time": "2022-01-10T12:02:42.605Z"
   },
   {
    "duration": 14,
    "start_time": "2022-01-10T12:02:46.370Z"
   },
   {
    "duration": 27,
    "start_time": "2022-01-10T12:02:46.387Z"
   },
   {
    "duration": 55,
    "start_time": "2022-01-10T12:02:46.421Z"
   },
   {
    "duration": 21,
    "start_time": "2022-01-10T12:02:46.479Z"
   },
   {
    "duration": 19,
    "start_time": "2022-01-10T12:02:46.502Z"
   },
   {
    "duration": 52,
    "start_time": "2022-01-10T12:02:46.524Z"
   },
   {
    "duration": 22,
    "start_time": "2022-01-10T12:02:46.578Z"
   },
   {
    "duration": 22,
    "start_time": "2022-01-10T12:02:46.603Z"
   },
   {
    "duration": 75,
    "start_time": "2022-01-10T12:02:46.627Z"
   },
   {
    "duration": 1129,
    "start_time": "2022-01-10T18:18:58.571Z"
   },
   {
    "duration": 35,
    "start_time": "2022-01-10T18:18:59.701Z"
   },
   {
    "duration": 8,
    "start_time": "2022-01-10T18:18:59.738Z"
   },
   {
    "duration": 10,
    "start_time": "2022-01-10T18:18:59.748Z"
   },
   {
    "duration": 11,
    "start_time": "2022-01-10T18:18:59.760Z"
   },
   {
    "duration": 88,
    "start_time": "2022-01-10T18:18:59.773Z"
   },
   {
    "duration": 32,
    "start_time": "2022-01-10T18:18:59.862Z"
   },
   {
    "duration": 4,
    "start_time": "2022-01-10T18:18:59.896Z"
   },
   {
    "duration": 26,
    "start_time": "2022-01-10T18:18:59.902Z"
   },
   {
    "duration": 9,
    "start_time": "2022-01-10T18:18:59.930Z"
   },
   {
    "duration": 4,
    "start_time": "2022-01-10T18:18:59.940Z"
   },
   {
    "duration": 9,
    "start_time": "2022-01-10T18:18:59.946Z"
   },
   {
    "duration": 8,
    "start_time": "2022-01-10T18:18:59.956Z"
   },
   {
    "duration": 10,
    "start_time": "2022-01-10T18:18:59.966Z"
   },
   {
    "duration": 7,
    "start_time": "2022-01-10T18:18:59.977Z"
   },
   {
    "duration": 7,
    "start_time": "2022-01-10T18:18:59.986Z"
   },
   {
    "duration": 50,
    "start_time": "2022-01-10T18:18:59.995Z"
   },
   {
    "duration": 12,
    "start_time": "2022-01-10T18:19:00.046Z"
   },
   {
    "duration": 24,
    "start_time": "2022-01-10T18:19:00.059Z"
   },
   {
    "duration": 2766,
    "start_time": "2022-01-10T18:19:00.084Z"
   },
   {
    "duration": 7,
    "start_time": "2022-01-10T18:19:02.852Z"
   },
   {
    "duration": 17,
    "start_time": "2022-01-10T18:19:02.861Z"
   },
   {
    "duration": 13,
    "start_time": "2022-01-10T18:19:02.879Z"
   },
   {
    "duration": 36,
    "start_time": "2022-01-10T18:19:02.894Z"
   },
   {
    "duration": 15,
    "start_time": "2022-01-10T18:19:02.932Z"
   },
   {
    "duration": 13,
    "start_time": "2022-01-10T18:19:02.949Z"
   },
   {
    "duration": 12,
    "start_time": "2022-01-10T18:19:02.965Z"
   },
   {
    "duration": 13,
    "start_time": "2022-01-10T18:19:02.979Z"
   },
   {
    "duration": 59,
    "start_time": "2022-01-10T18:19:02.995Z"
   },
   {
    "duration": 13,
    "start_time": "2022-01-10T18:25:06.460Z"
   },
   {
    "duration": 15,
    "start_time": "2022-01-10T18:25:51.591Z"
   },
   {
    "duration": 15,
    "start_time": "2022-01-10T18:26:01.910Z"
   },
   {
    "duration": 12,
    "start_time": "2022-01-10T18:26:43.363Z"
   },
   {
    "duration": 77,
    "start_time": "2022-01-10T18:28:37.563Z"
   },
   {
    "duration": 84,
    "start_time": "2022-01-10T18:34:28.352Z"
   },
   {
    "duration": 1174,
    "start_time": "2022-01-10T18:40:35.503Z"
   },
   {
    "duration": 34,
    "start_time": "2022-01-10T18:40:36.678Z"
   },
   {
    "duration": 14,
    "start_time": "2022-01-10T18:40:36.714Z"
   },
   {
    "duration": 10,
    "start_time": "2022-01-10T18:40:36.729Z"
   },
   {
    "duration": 12,
    "start_time": "2022-01-10T18:40:36.740Z"
   },
   {
    "duration": 77,
    "start_time": "2022-01-10T18:40:36.753Z"
   },
   {
    "duration": 32,
    "start_time": "2022-01-10T18:40:36.832Z"
   },
   {
    "duration": 5,
    "start_time": "2022-01-10T18:40:36.865Z"
   },
   {
    "duration": 8,
    "start_time": "2022-01-10T18:40:36.872Z"
   },
   {
    "duration": 11,
    "start_time": "2022-01-10T18:40:36.882Z"
   },
   {
    "duration": 36,
    "start_time": "2022-01-10T18:40:36.894Z"
   },
   {
    "duration": 8,
    "start_time": "2022-01-10T18:40:36.932Z"
   },
   {
    "duration": 6,
    "start_time": "2022-01-10T18:40:36.942Z"
   },
   {
    "duration": 7,
    "start_time": "2022-01-10T18:40:36.950Z"
   },
   {
    "duration": 6,
    "start_time": "2022-01-10T18:40:36.958Z"
   },
   {
    "duration": 7,
    "start_time": "2022-01-10T18:40:36.965Z"
   },
   {
    "duration": 9,
    "start_time": "2022-01-10T18:40:36.973Z"
   },
   {
    "duration": 47,
    "start_time": "2022-01-10T18:40:36.983Z"
   },
   {
    "duration": 23,
    "start_time": "2022-01-10T18:40:37.031Z"
   },
   {
    "duration": 3049,
    "start_time": "2022-01-10T18:40:37.055Z"
   },
   {
    "duration": 6,
    "start_time": "2022-01-10T18:40:40.106Z"
   },
   {
    "duration": 30,
    "start_time": "2022-01-10T18:40:40.114Z"
   },
   {
    "duration": 12,
    "start_time": "2022-01-10T18:40:40.145Z"
   },
   {
    "duration": 13,
    "start_time": "2022-01-10T18:40:40.158Z"
   },
   {
    "duration": 14,
    "start_time": "2022-01-10T18:40:40.173Z"
   },
   {
    "duration": 18,
    "start_time": "2022-01-10T18:40:40.189Z"
   },
   {
    "duration": 12,
    "start_time": "2022-01-10T18:40:40.228Z"
   },
   {
    "duration": 12,
    "start_time": "2022-01-10T18:40:40.242Z"
   },
   {
    "duration": 22,
    "start_time": "2022-01-10T18:40:40.255Z"
   },
   {
    "duration": 1539,
    "start_time": "2022-08-24T07:14:37.536Z"
   },
   {
    "duration": 37,
    "start_time": "2022-08-24T07:14:39.077Z"
   },
   {
    "duration": 8,
    "start_time": "2022-08-24T07:14:39.115Z"
   },
   {
    "duration": 10,
    "start_time": "2022-08-24T07:14:39.125Z"
   },
   {
    "duration": 14,
    "start_time": "2022-08-24T07:14:39.136Z"
   },
   {
    "duration": 84,
    "start_time": "2022-08-24T07:14:39.151Z"
   },
   {
    "duration": 34,
    "start_time": "2022-08-24T07:14:39.236Z"
   },
   {
    "duration": 5,
    "start_time": "2022-08-24T07:14:39.272Z"
   },
   {
    "duration": 20,
    "start_time": "2022-08-24T07:14:39.279Z"
   },
   {
    "duration": 11,
    "start_time": "2022-08-24T07:14:39.302Z"
   },
   {
    "duration": 5,
    "start_time": "2022-08-24T07:14:39.314Z"
   },
   {
    "duration": 9,
    "start_time": "2022-08-24T07:14:39.320Z"
   },
   {
    "duration": 6,
    "start_time": "2022-08-24T07:14:39.331Z"
   },
   {
    "duration": 10,
    "start_time": "2022-08-24T07:14:39.338Z"
   },
   {
    "duration": 6,
    "start_time": "2022-08-24T07:14:39.349Z"
   },
   {
    "duration": 41,
    "start_time": "2022-08-24T07:14:39.357Z"
   },
   {
    "duration": 7,
    "start_time": "2022-08-24T07:14:39.400Z"
   },
   {
    "duration": 9,
    "start_time": "2022-08-24T07:14:39.409Z"
   },
   {
    "duration": 29,
    "start_time": "2022-08-24T07:14:39.419Z"
   },
   {
    "duration": 2100,
    "start_time": "2022-08-24T07:14:39.449Z"
   },
   {
    "duration": 6,
    "start_time": "2022-08-24T07:14:41.551Z"
   },
   {
    "duration": 27,
    "start_time": "2022-08-24T07:14:41.558Z"
   },
   {
    "duration": 13,
    "start_time": "2022-08-24T07:14:41.587Z"
   },
   {
    "duration": 13,
    "start_time": "2022-08-24T07:14:41.601Z"
   },
   {
    "duration": 16,
    "start_time": "2022-08-24T07:14:41.616Z"
   },
   {
    "duration": 14,
    "start_time": "2022-08-24T07:14:41.634Z"
   },
   {
    "duration": 12,
    "start_time": "2022-08-24T07:14:41.650Z"
   },
   {
    "duration": 13,
    "start_time": "2022-08-24T07:14:41.698Z"
   },
   {
    "duration": 23,
    "start_time": "2022-08-24T07:14:41.713Z"
   },
   {
    "duration": 13,
    "start_time": "2022-08-24T07:14:55.230Z"
   },
   {
    "duration": 13,
    "start_time": "2022-08-24T07:15:46.948Z"
   },
   {
    "duration": 13,
    "start_time": "2022-08-24T07:15:58.313Z"
   },
   {
    "duration": 16,
    "start_time": "2022-08-24T07:16:49.328Z"
   },
   {
    "duration": 22,
    "start_time": "2022-08-24T07:17:44.430Z"
   },
   {
    "duration": 15,
    "start_time": "2022-08-24T07:18:37.152Z"
   },
   {
    "duration": 15,
    "start_time": "2022-08-24T07:19:11.105Z"
   },
   {
    "duration": 17,
    "start_time": "2022-08-24T07:19:43.870Z"
   },
   {
    "duration": 15,
    "start_time": "2022-08-24T07:19:56.591Z"
   },
   {
    "duration": 98,
    "start_time": "2022-08-24T07:20:02.025Z"
   },
   {
    "duration": 40,
    "start_time": "2022-08-24T07:20:02.125Z"
   },
   {
    "duration": 32,
    "start_time": "2022-08-24T07:20:02.167Z"
   },
   {
    "duration": 18,
    "start_time": "2022-08-24T07:20:02.202Z"
   },
   {
    "duration": 16,
    "start_time": "2022-08-24T07:20:02.222Z"
   },
   {
    "duration": 73,
    "start_time": "2022-08-24T07:20:02.240Z"
   },
   {
    "duration": 36,
    "start_time": "2022-08-24T07:20:02.314Z"
   },
   {
    "duration": 4,
    "start_time": "2022-08-24T07:20:02.352Z"
   },
   {
    "duration": 22,
    "start_time": "2022-08-24T07:20:02.358Z"
   },
   {
    "duration": 21,
    "start_time": "2022-08-24T07:20:02.383Z"
   },
   {
    "duration": 9,
    "start_time": "2022-08-24T07:20:02.406Z"
   },
   {
    "duration": 9,
    "start_time": "2022-08-24T07:20:02.417Z"
   },
   {
    "duration": 7,
    "start_time": "2022-08-24T07:20:02.427Z"
   },
   {
    "duration": 15,
    "start_time": "2022-08-24T07:20:02.436Z"
   },
   {
    "duration": 7,
    "start_time": "2022-08-24T07:20:02.452Z"
   },
   {
    "duration": 11,
    "start_time": "2022-08-24T07:20:02.461Z"
   },
   {
    "duration": 31,
    "start_time": "2022-08-24T07:20:02.473Z"
   },
   {
    "duration": 19,
    "start_time": "2022-08-24T07:20:02.506Z"
   },
   {
    "duration": 30,
    "start_time": "2022-08-24T07:20:02.527Z"
   },
   {
    "duration": 2444,
    "start_time": "2022-08-24T07:20:02.559Z"
   },
   {
    "duration": 9,
    "start_time": "2022-08-24T07:20:05.004Z"
   },
   {
    "duration": 85,
    "start_time": "2022-08-24T07:20:05.014Z"
   },
   {
    "duration": 13,
    "start_time": "2022-08-24T07:20:05.100Z"
   },
   {
    "duration": 15,
    "start_time": "2022-08-24T07:20:05.114Z"
   },
   {
    "duration": 14,
    "start_time": "2022-08-24T07:20:05.131Z"
   },
   {
    "duration": 22,
    "start_time": "2022-08-24T07:20:05.147Z"
   },
   {
    "duration": 22,
    "start_time": "2022-08-24T07:20:05.198Z"
   },
   {
    "duration": 20,
    "start_time": "2022-08-24T07:20:05.224Z"
   },
   {
    "duration": 53,
    "start_time": "2022-08-24T07:20:05.246Z"
   },
   {
    "duration": 15,
    "start_time": "2022-08-24T07:20:15.208Z"
   },
   {
    "duration": 24,
    "start_time": "2022-08-24T07:21:54.016Z"
   }
  ],
  "kernelspec": {
   "display_name": "Python 3 (ipykernel)",
   "language": "python",
   "name": "python3"
  },
  "language_info": {
   "codemirror_mode": {
    "name": "ipython",
    "version": 3
   },
   "file_extension": ".py",
   "mimetype": "text/x-python",
   "name": "python",
   "nbconvert_exporter": "python",
   "pygments_lexer": "ipython3",
   "version": "3.9.7"
  },
  "toc": {
   "base_numbering": 1,
   "nav_menu": {},
   "number_sections": true,
   "sideBar": true,
   "skip_h1_title": true,
   "title_cell": "Table of Contents",
   "title_sidebar": "Contents",
   "toc_cell": false,
   "toc_position": {},
   "toc_section_display": true,
   "toc_window_display": true
  }
 },
 "nbformat": 4,
 "nbformat_minor": 2
}
